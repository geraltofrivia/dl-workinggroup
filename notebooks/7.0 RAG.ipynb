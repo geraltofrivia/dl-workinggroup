{
 "cells": [
  {
   "cell_type": "code",
   "execution_count": 75,
   "id": "697b1f33",
   "metadata": {},
   "outputs": [],
   "source": [
    "import numpy as np\n",
    "import pandas as pd\n",
    "from datasets import load_dataset\n",
    "# from sklearn.datasets import fetch_20newsgroups\n",
    "from pprint import pprint\n",
    "from sentence_transformers import SentenceTransformer"
   ]
  },
  {
   "cell_type": "markdown",
   "id": "2dea3b6a",
   "metadata": {},
   "source": [
    "### Talking points\n",
    "\n",
    "- jump from previous stuff (not related to what we've learned so far)\n",
    "- just soemthing cool\n",
    "- think of it as \"what else can we do with text and deep learning\"\n",
    "\n",
    "# RAG\n",
    "\n",
    "- embeddings documents\n",
    "- vector search\n",
    "- contextual summarization"
   ]
  },
  {
   "cell_type": "markdown",
   "id": "ff81ba28",
   "metadata": {},
   "source": [
    "## Step 1: Pulling a dataset"
   ]
  },
  {
   "cell_type": "code",
   "execution_count": null,
   "id": "d4d99e9a",
   "metadata": {},
   "outputs": [
    {
     "name": "stderr",
     "output_type": "stream",
     "text": [
      "Repo card metadata block was not found. Setting CardData to empty.\n",
      "Generating train split: 100%|██████████| 11314/11314 [00:00<00:00, 479647.00 examples/s]\n",
      "Generating test split: 100%|██████████| 7532/7532 [00:00<00:00, 780114.03 examples/s]\n"
     ]
    },
    {
     "data": {
      "text/plain": [
       "DatasetDict({\n",
       "    train: Dataset({\n",
       "        features: ['text', 'label', 'label_text'],\n",
       "        num_rows: 11314\n",
       "    })\n",
       "    test: Dataset({\n",
       "        features: ['text', 'label', 'label_text'],\n",
       "        num_rows: 7532\n",
       "    })\n",
       "})"
      ]
     },
     "execution_count": 35,
     "metadata": {},
     "output_type": "execute_result"
    }
   ],
   "source": [
    "# Load the dataset\n",
    "ds = load_dataset(\"SetFit/20_newsgroups\")\n",
    "ds\n"
   ]
  },
  {
   "cell_type": "code",
   "execution_count": 50,
   "id": "9140cd1e",
   "metadata": {},
   "outputs": [
    {
     "data": {
      "text/plain": [
       "((11314, 3), (7532, 3))"
      ]
     },
     "execution_count": 50,
     "metadata": {},
     "output_type": "execute_result"
    }
   ],
   "source": [
    "df_train = pd.DataFrame(ds['train'])\n",
    "df_query = pd.DataFrame(ds['test'])\n",
    "\n",
    "df_train.shape, df_query.shape"
   ]
  },
  {
   "cell_type": "code",
   "execution_count": null,
   "id": "64c344a2",
   "metadata": {},
   "outputs": [
    {
     "data": {
      "text/plain": [
       "((1575, 3), (1050, 3))"
      ]
     },
     "execution_count": 49,
     "metadata": {},
     "output_type": "execute_result"
    }
   ],
   "source": [
    "# # Subsample targets which start with talk.politics\n",
    "# df_train = df_train[df_train['label_text'].str.startswith('talk.politics')] # optional; sentence tf is very fast\n",
    "# df_query = df_query[df_query['label_text'].str.startswith('talk.politics')] # optional; sentence tf is very fast\n",
    "\n",
    "# df_train.shape, df_query.shape\n"
   ]
  },
  {
   "cell_type": "markdown",
   "id": "05cbabaf",
   "metadata": {},
   "source": [
    "# Embedding\n",
    "Lets use a transformer model to create embedding representing the document."
   ]
  },
  {
   "cell_type": "code",
   "execution_count": 86,
   "id": "19965ae4",
   "metadata": {},
   "outputs": [
    {
     "name": "stderr",
     "output_type": "stream",
     "text": [
      "Xet Storage is enabled for this repo, but the 'hf_xet' package is not installed. Falling back to regular HTTP download. For better performance, install the package with: `pip install huggingface_hub[hf_xet]` or `pip install hf_xet`\n"
     ]
    }
   ],
   "source": [
    "# Load the embedding model\n",
    "model = SentenceTransformer('sentence-transformers/all-mpnet-base-v2')"
   ]
  },
  {
   "cell_type": "code",
   "execution_count": 87,
   "id": "878b56ef",
   "metadata": {},
   "outputs": [
    {
     "name": "stderr",
     "output_type": "stream",
     "text": [
      "Batches: 100%|██████████| 354/354 [02:31<00:00,  2.33it/s]\n"
     ]
    }
   ],
   "source": [
    "embeddings = model.encode(df_train['text'].tolist(), show_progress_bar=True)\n",
    "emebddings_dim = embeddings.shape[1]"
   ]
  },
  {
   "cell_type": "markdown",
   "id": "e5a8bc5c",
   "metadata": {},
   "source": [
    "# Vector Store\n",
    "\n",
    "(not necessary)"
   ]
  },
  {
   "cell_type": "code",
   "execution_count": 88,
   "id": "7c24ab85",
   "metadata": {},
   "outputs": [
    {
     "data": {
      "text/plain": [
       "0"
      ]
     },
     "execution_count": 88,
     "metadata": {},
     "output_type": "execute_result"
    }
   ],
   "source": [
    "import faiss \n",
    "index = faiss.IndexFlatL2(emebddings_dim)\n",
    "index.ntotal"
   ]
  },
  {
   "cell_type": "code",
   "execution_count": 89,
   "id": "183b04ad",
   "metadata": {},
   "outputs": [
    {
     "data": {
      "text/plain": [
       "11314"
      ]
     },
     "execution_count": 89,
     "metadata": {},
     "output_type": "execute_result"
    }
   ],
   "source": [
    "index.add(embeddings)\n",
    "index.ntotal"
   ]
  },
  {
   "cell_type": "markdown",
   "id": "ff0e20e1",
   "metadata": {},
   "source": [
    "# Lets try it out on some document"
   ]
  },
  {
   "cell_type": "code",
   "execution_count": 90,
   "id": "0d62d6f8",
   "metadata": {},
   "outputs": [
    {
     "name": "stdout",
     "output_type": "stream",
     "text": [
      "Hello All!\n",
      "\n",
      "    It is my understanding that all True-Type fonts in Windows are loaded in\n",
      "prior to starting Windows - this makes getting into Windows quite slow if you\n",
      "have hundreds of them as I do.  First off, am I correct in this thinking -\n",
      "secondly, if that is the case - can you get Windows to ignore them on boot and\n",
      "maybe make something like a PIF file to load them only when you enter the\n",
      "applications that need fonts?  Any ideas?\n",
      "\n",
      "\n",
      "Chris\n"
     ]
    }
   ],
   "source": [
    "i = 100\n",
    "doc = df_query.iloc[i]\n",
    "print(doc.text)"
   ]
  },
  {
   "cell_type": "code",
   "execution_count": 91,
   "id": "0aeb5f7d",
   "metadata": {},
   "outputs": [
    {
     "data": {
      "text/plain": [
       "(768,)"
      ]
     },
     "execution_count": 91,
     "metadata": {},
     "output_type": "execute_result"
    }
   ],
   "source": [
    "## Create a query vector\n",
    "vec = model.encode(doc.text)\n",
    "vec.shape"
   ]
  },
  {
   "cell_type": "code",
   "execution_count": 92,
   "id": "530028f8",
   "metadata": {},
   "outputs": [
    {
     "data": {
      "text/plain": [
       "(array([[0.8118304 , 0.83757585, 0.9386765 , 0.9496102 , 0.9903735 ]],\n",
       "       dtype=float32),\n",
       " array([[9448, 4746, 1693, 8315, 8888]]))"
      ]
     },
     "execution_count": 92,
     "metadata": {},
     "output_type": "execute_result"
    }
   ],
   "source": [
    "# Lets find the relevant indices using faiss\n",
    "ind = index.search(vec.reshape(1, -1), k=5)\n",
    "ind"
   ]
  },
  {
   "cell_type": "code",
   "execution_count": 104,
   "id": "ee59ca4a",
   "metadata": {},
   "outputs": [
    {
     "data": {
      "text/plain": [
       "0    I just installed a new TrueType font under MS-...\n",
       "1    I would like to change all of the system fonts...\n",
       "2    ...\\n\\nThis is a common problem with highly co...\n",
       "3    Hi\\nI'm having a problem with TrueType fonts i...\n",
       "4    OK...I've heard rumors about this...I might ha...\n",
       "Name: text, dtype: object"
      ]
     },
     "execution_count": 104,
     "metadata": {},
     "output_type": "execute_result"
    }
   ],
   "source": [
    "similar_articles = df_train.iloc[ind[1][0]].copy().reset_index().text\n",
    "similar_articles"
   ]
  },
  {
   "cell_type": "code",
   "execution_count": 105,
   "id": "cf0a6080",
   "metadata": {},
   "outputs": [
    {
     "name": "stdout",
     "output_type": "stream",
     "text": [
      "I just installed a new TrueType font under MS-Windows 3.1\n",
      "but though all the applications display the font correctly on the\n",
      "screen, quite a few of them fail to print out the document correctly\n",
      "(on a LaserJet 4 - non-PostScript printer).\n",
      "\n",
      "When I use the font in CorelDRAW, the document prints correctly, so I assume\n",
      "CorelDRAW knows that the font has to be downloaded to the printer.\n",
      "\n",
      "But when I use the Windows accessory Write, the printer prints square\n",
      "boxes in place of the characters of the new font. Yet, Write does\n",
      "display the font correctly on the screen.\n",
      "\n",
      "I looked through all the Windows and LaserJet manuals, but got nowhere.\n",
      "All of them just make the statement that TrueType fonts will print\n",
      "exactly as you see them on the screen---so I assume Windows knows that a font\n",
      "has to be downloaded automatically---but, how to make it do that????\n"
     ]
    }
   ],
   "source": [
    "print(similar_articles[0])"
   ]
  },
  {
   "cell_type": "code",
   "execution_count": null,
   "id": "d92c0660",
   "metadata": {},
   "outputs": [
    {
     "data": {
      "text/plain": [
       "array([[1096,  330, 1981,  501, 1832]])"
      ]
     },
     "execution_count": 73,
     "metadata": {},
     "output_type": "execute_result"
    }
   ],
   "source": [
    "# Seems good?"
   ]
  },
  {
   "cell_type": "markdown",
   "id": "95916dd6",
   "metadata": {},
   "source": [
    "# Paraphrasing responses together"
   ]
  },
  {
   "cell_type": "markdown",
   "id": "38b8911b",
   "metadata": {},
   "source": [
    "### How to use a local LLM?\n",
    "\n",
    "We will use a lightweight qwen model -- https://ollama.com/library/qwen"
   ]
  },
  {
   "cell_type": "code",
   "execution_count": 110,
   "id": "8c4bb5b0",
   "metadata": {},
   "outputs": [
    {
     "data": {
      "text/plain": [
       "ChatResponse(model='qwen:0.5b', created_at='2025-06-02T20:11:52.77478Z', done=True, done_reason='stop', total_duration=460126250, load_duration=28134708, prompt_eval_count=14, prompt_eval_duration=45579667, eval_count=92, eval_duration=385452083, message=Message(role='assistant', content=\"The color of the sky can be influenced by several factors, including temperature, humidity, and atmosphere pressure.\\n\\nIn general, the temperature in the sky will affect its color. If it's hot, the clouds may be more dark and less blue. On the other hand, if it's cold, the clouds may be more clear and more blue.\\n\\nOverall, the color of the sky is determined by several factors, including temperature, humidity, and atmosphere pressure.\", thinking=None, images=None, tool_calls=None))"
      ]
     },
     "execution_count": 110,
     "metadata": {},
     "output_type": "execute_result"
    }
   ],
   "source": [
    "from ollama import chat, generate\n",
    "from ollama import ChatResponse\n",
    "\n",
    "response: ChatResponse = chat(model='qwen:0.5b', messages=[\n",
    "  {\n",
    "    'role': 'user',\n",
    "    'content': 'Why is the sky blue?',\n",
    "  },\n",
    "])\n",
    "\n",
    "response"
   ]
  },
  {
   "cell_type": "code",
   "execution_count": 116,
   "id": "b6a2b28e",
   "metadata": {},
   "outputs": [
    {
     "data": {
      "text/plain": [
       "GenerateResponse(model='qwen:0.5b', created_at='2025-06-02T20:13:26.535447Z', done=True, done_reason='stop', total_duration=523075458, load_duration=25420583, prompt_eval_count=14, prompt_eval_duration=53058791, eval_count=109, eval_duration=444124292, response='The color of the sky蓝 arises from several processes, including:\\n\\n1. Ray scattering: When light passes through a.cloud or atmosphere, scattered light will be distributed in all directions, creating a bluish color.\\n\\n2. Ray absorption: When light enters an object, some of the absorbed light is reflected back into space. The intensity of this reflected light depends on the object being reflected from and the angle of incidence.\\n\\nTherefore, when light passes through a cloud or atmosphere, it will be scattered in all directions, creating a bluish color.', thinking=None, context=[151644, 872, 198, 10234, 374, 279, 12884, 6303, 30, 151645, 198, 151644, 77091, 198, 785, 1894, 315, 279, 12884, 100400, 47182, 504, 3807, 11364, 11, 2670, 25, 198, 198, 16, 13, 13255, 71816, 25, 3197, 3100, 16211, 1526, 264, 13, 12361, 476, 16566, 11, 36967, 3100, 686, 387, 4237, 304, 678, 17961, 11, 6825, 264, 1501, 50120, 1894, 13, 198, 198, 17, 13, 13255, 43125, 25, 3197, 3100, 28833, 458, 1633, 11, 1045, 315, 279, 41001, 3100, 374, 25911, 1182, 1119, 3550, 13, 576, 20612, 315, 419, 25911, 3100, 13798, 389, 279, 1633, 1660, 25911, 504, 323, 279, 9210, 315, 38675, 13, 198, 198, 54815, 11, 979, 3100, 16211, 1526, 264, 9437, 476, 16566, 11, 432, 686, 387, 36967, 304, 678, 17961, 11, 6825, 264, 1501, 50120, 1894, 13])"
      ]
     },
     "execution_count": 116,
     "metadata": {},
     "output_type": "execute_result"
    }
   ],
   "source": [
    "generate(model='qwen:0.5b', prompt=\"Why is the sky blue?\")"
   ]
  },
  {
   "cell_type": "code",
   "execution_count": 129,
   "id": "3a3462ec",
   "metadata": {},
   "outputs": [
    {
     "name": "stdout",
     "output_type": "stream",
     "text": [
      "You are a helpful assistant. For a given user question, summarize or paraphrase the key points that are relevant to this question.\n",
      "Note that the context is not a direct response to answer user question. Rather, we want to provide the user with a summary of what other people are asking on the topic. \n",
      "Your summary should not be too short. At least 4-8 sentences. In english.\n",
      "\n",
      "User Question: \n",
      "--------------\n",
      "```\n",
      "Hello All!\n",
      "\n",
      "    It is my understanding that all True-Type fonts in Windows are loaded in\n",
      "prior to starting Windows - this makes getting into Windows quite slow if you\n",
      "have hundreds of them as I do.  First off, am I correct in this thinking -\n",
      "secondly, if that is the case - can you get Windows to ignore them on boot and\n",
      "maybe make something like a PIF file to load them only when you enter the\n",
      "applications that need fonts?  Any ideas?\n",
      "\n",
      "\n",
      "Chris\n",
      "```\n",
      "\n",
      "Context:\n",
      "--------\n",
      "I just installed a new TrueType font under MS-Windows 3.1\n",
      "but though all the applications display the font correctly on the\n",
      "screen, quite a few of them fail to print out the document correctly\n",
      "(on a LaserJet 4 - non-PostScript printer).\n",
      "\n",
      "When I use the font in CorelDRAW, the document prints correctly, so I assume\n",
      "CorelDRAW knows that the font has to be downloaded to the printer.\n",
      "\n",
      "But when I use the Windows accessory Write, the printer prints square\n",
      "boxes in place of the characters of the new font. Yet, Write does\n",
      "display the font correctly on the screen.\n",
      "\n",
      "I looked through all the Windows and LaserJet manuals, but got nowhere.\n",
      "All of them just make the statement that TrueType fonts will print\n",
      "exactly as you see them on the screen---so I assume Windows knows that a font\n",
      "has to be downloaded automatically---but, how to make it do that????\n",
      "\n",
      "I would like to change all of the system fonts in windows... I have a \n",
      "program that will generate system fonts from truetype, but i was \n",
      "wondering if there is a problem to help you set up all your system\n",
      "fonts.\n",
      "\n",
      "Also, how do i change the icon text color... all of my icon text is black,\n",
      "and i want to change it... couldn't find any options in control panel or\n",
      "in win.ini\n",
      "\n",
      "brad  cain\n",
      "brad@bach.udel.edu\n",
      "\n",
      "\n",
      "\n",
      "...\n",
      "\n",
      "This is a common problem with highly complex TrueType fonts.  Microsoft\n",
      "admits to a problem with older versions of the PostScript printer driver,\n",
      "but I've found it to be pretty generic.\n",
      "\n",
      "You can get around the problem by adjusting the parameter OutlineThreshold\n",
      "in the [TrueType] section of WIN.INI.  This entry specifies the number of\n",
      "pels-per-em at which Windows will render TrueType fonts as outline fonts\n",
      "instead of as bitmap fonts.  The default is 256.  I've generally been able\n",
      "to get fonts to work by setting OutlineThreshold=160.  Depending on your\n",
      "printer resolution and the point size you are using, you may need a\n",
      "different value.\n",
      "\n",
      "The Windows Resource Kit warns against going above 300.  Presumably, that\n",
      "might cause fonts to print as square boxes or something.  :-|  (I'm not\n",
      "smiling.)\n",
      "\n",
      "\n",
      "Hi\n",
      "I'm having a problem with TrueType fonts in WIndows 3.1. I have installed\n",
      "the Cyrillic fonts I found on CICA and now a strange thing happens:\n",
      "Sometimes windows uses Cyrillic when its supposed to use Times Roman.\n",
      "Examples: The PC-Tools Backup (version 7.1) has one line of Cyrillic text\n",
      "in its opening banner, the next to last line. Importing a Word for Windows\n",
      "text written in Times into WP5.2 also results in Cyrillic.\n",
      "Does anyone have an idea where to look for the problem?\n",
      "Thanks\n",
      "\n",
      "OK...I've heard rumors about this...I might have even seen it in a few places.\n",
      "And I'd like some info...Is it possible to embed fonts in a document (Like \n",
      "Write, Word, or Ami Pro?) so the file can be printed on another machine that\n",
      "doesn't have the font?  If possible, how is it done?\n",
      "\n",
      "I'm sorry if this is a faq...I couldn't find a faq list...I would also \n",
      "apreciate knowing where that is...if a windows faq exsists.\n",
      "\n",
      "Thanks in advance\n",
      "\n",
      "\n",
      "\n",
      "Summary:\n"
     ]
    }
   ],
   "source": [
    "# Lets create a prompt\n",
    "\n",
    "context = \"\\n\\n\".join(similar_articles)\n",
    "prompt = f\"\"\"You are a helpful assistant. For a given user question, summarize or paraphrase the key points that are relevant to this question.\n",
    "Note that the context is not a direct response to answer user question. Rather, we want to provide the user with a summary of what other people are asking on the topic. \n",
    "Your summary should not be too short. At least 4-8 sentences. In english.\n",
    "\n",
    "User Question: \n",
    "--------------\n",
    "```\n",
    "{doc.text}\n",
    "```\n",
    "\n",
    "Context:\n",
    "--------\n",
    "{context}\n",
    "\n",
    "Summary:\"\"\"\n",
    "\n",
    "print(prompt)"
   ]
  },
  {
   "cell_type": "code",
   "execution_count": 132,
   "id": "185ffef3",
   "metadata": {},
   "outputs": [
    {
     "name": "stdout",
     "output_type": "stream",
     "text": [
      "The summary provides information about the problem you are experiencing with TrueType fonts in WIndows 3.1.\n",
      "To address this issue, there are several ways to do so:\n",
      "\n",
      "  1. Use alternative font formats such as TTF or PPTTT.\n",
      "  2. Set the Windows font escape sequence to include characters from various fonts, including those from TrueType fonts.\n",
      "  3. Use a more robust text editor to ensure proper handling of TrueType fonts and other document format files.\n",
      "\n",
      "Overall, there are several ways to address this issue and improve the user experience with TrueType fonts in WIndows 3.1.\n"
     ]
    }
   ],
   "source": [
    "print(generate(model='qwen:0.5b', prompt=prompt).response)"
   ]
  },
  {
   "cell_type": "markdown",
   "id": "975401fc",
   "metadata": {},
   "source": [
    "## Fallback"
   ]
  },
  {
   "cell_type": "code",
   "execution_count": 106,
   "id": "6de2425c",
   "metadata": {},
   "outputs": [
    {
     "name": "stderr",
     "output_type": "stream",
     "text": [
      "Xet Storage is enabled for this repo, but the 'hf_xet' package is not installed. Falling back to regular HTTP download. For better performance, install the package with: `pip install huggingface_hub[hf_xet]` or `pip install hf_xet`\n",
      "Device set to use mps:0\n"
     ]
    },
    {
     "name": "stdout",
     "output_type": "stream",
     "text": [
      "\n",
      "--- Summary of Article 1 ---\n",
      "\n",
      "I just installed a new TrueType font under MS-Windows 3.1. Though all the applications display the font correctly on the screen, quite a few of them fail to print out the document correctly.\n",
      "\n",
      "--- Summary of Article 2 ---\n",
      "\n",
      "I would like to change all of the system fonts in windows... I have a program that will generate system fonts from truetype, but i was wondering if there is a problem to help you set up all your systemfonts.\n",
      "\n",
      "--- Summary of Article 3 ---\n",
      "\n",
      "Microsoft admits to a problem with older versions of the PostScript printer driver. You can get around the problem by adjusting the parameter OutlineThreshold. The default is 256.\n",
      "\n",
      "--- Summary of Article 4 ---\n",
      "\n",
      "Sometimes windows uses Cyrillic when its supposed to use Times Roman. The PC-Tools Backup (version 7.1) has one line of Cyrilic text in its opening banner. Importing a Word for Windows 5.2 also results in Cyril.\n",
      "\n",
      "--- Summary of Article 5 ---\n",
      "\n",
      "I've heard rumors about this...I might have even seen it in a few places. Is it possible to embed fonts in a document so the file can be printed on another machine that doesn't have the font? If possible, how is it done?\n"
     ]
    }
   ],
   "source": [
    "from transformers import pipeline\n",
    "\n",
    "# Load summarization pipeline\n",
    "summarizer = pipeline(\"summarization\", \"facebook/bart-large-cnn\")\n",
    "\n",
    "# Summarize each article\n",
    "for i, article in enumerate(similar_articles, 1):\n",
    "    summary = summarizer(article, max_length=100, min_length=30, do_sample=False)[0]['summary_text']\n",
    "    print(f\"\\n--- Summary of Article {i} ---\\n\")\n",
    "    print(summary)\n"
   ]
  },
  {
   "cell_type": "code",
   "execution_count": null,
   "id": "7f183cd3",
   "metadata": {},
   "outputs": [],
   "source": [
    "### Not exactly the same (dont expect this model to do what qwen can do)"
   ]
  }
 ],
 "metadata": {
  "kernelspec": {
   "display_name": ".venv",
   "language": "python",
   "name": "python3"
  },
  "language_info": {
   "codemirror_mode": {
    "name": "ipython",
    "version": 3
   },
   "file_extension": ".py",
   "mimetype": "text/x-python",
   "name": "python",
   "nbconvert_exporter": "python",
   "pygments_lexer": "ipython3",
   "version": "3.12.10"
  }
 },
 "nbformat": 4,
 "nbformat_minor": 5
}
