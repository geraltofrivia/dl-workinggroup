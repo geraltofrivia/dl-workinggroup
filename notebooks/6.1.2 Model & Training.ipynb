{
 "cells": [
  {
   "cell_type": "code",
   "execution_count": null,
   "metadata": {
    "ExecuteTime": {
     "end_time": "2023-01-18T12:42:46.157170Z",
     "start_time": "2023-01-18T12:42:34.482515Z"
    }
   },
   "outputs": [],
   "source": [
    "import numpy as np\n",
    "import torch\n",
    "import torch.nn as nn\n",
    "import torch.nn.functional as F\n",
    "from pathlib import Path\n",
    "from matplotlib import pyplot as plt\n",
    "from tqdm.auto import tqdm\n",
    "from typing import Callable, Union\n",
    "from mytorch import dataiters\n",
    "from mytorch.loops import generic_loop\n",
    "from mytorch.utils.goodies import default_eval, Timer"
   ]
  },
  {
   "cell_type": "code",
   "execution_count": null,
   "metadata": {
    "ExecuteTime": {
     "end_time": "2023-01-18T12:42:46.160766Z",
     "start_time": "2023-01-18T12:42:46.158690Z"
    }
   },
   "outputs": [],
   "source": [
    "# ! pip install -U my-torch==0.0.13"
   ]
  },
  {
   "cell_type": "code",
   "execution_count": null,
   "metadata": {
    "ExecuteTime": {
     "end_time": "2023-01-18T12:42:46.230188Z",
     "start_time": "2023-01-18T12:42:46.162420Z"
    }
   },
   "outputs": [],
   "source": [
    "with Path('../resources/6.1.X.np').open('rb') as f:\n",
    "    X = np.load(f)\n",
    "    \n",
    "with Path('../resources/6.1.Y.np').open('rb') as f:\n",
    "    Y = np.load(f)\n",
    "\n",
    "# Y = Y.reshape(-1, 1).astype(np.float32)\n",
    "# X = X.astype(np.float32)\n",
    "X.shape, Y.shape, X.dtype, Y.dtype"
   ]
  },
  {
   "cell_type": "code",
   "execution_count": null,
   "metadata": {
    "ExecuteTime": {
     "end_time": "2023-01-18T12:22:29.851015Z",
     "start_time": "2023-01-18T12:22:29.848541Z"
    }
   },
   "outputs": [],
   "source": [
    "n_words = X.shape[1]\n",
    "n_docs = X.shape[0]"
   ]
  },
  {
   "cell_type": "code",
   "execution_count": null,
   "metadata": {
    "ExecuteTime": {
     "end_time": "2023-01-18T12:22:30.072420Z",
     "start_time": "2023-01-18T12:22:29.852986Z"
    }
   },
   "outputs": [],
   "source": [
    "# Shuffle the dataset (using np random permutation)\n"
   ]
  },
  {
   "cell_type": "code",
   "execution_count": null,
   "metadata": {
    "ExecuteTime": {
     "end_time": "2023-01-18T12:22:30.081412Z",
     "start_time": "2023-01-18T12:22:30.074834Z"
    }
   },
   "outputs": [],
   "source": [
    "# Split the dataset \n",
    "X_train, X_valid = ...\n",
    "Y_train, Y_valid = ..."
   ]
  },
  {
   "cell_type": "code",
   "execution_count": null,
   "metadata": {
    "ExecuteTime": {
     "end_time": "2023-01-18T12:22:30.092254Z",
     "start_time": "2023-01-18T12:22:30.083199Z"
    }
   },
   "outputs": [],
   "source": [
    "torch.tensor(Y_train).dtype"
   ]
  },
  {
   "cell_type": "code",
   "execution_count": null,
   "metadata": {
    "ExecuteTime": {
     "end_time": "2023-01-18T12:22:30.101391Z",
     "start_time": "2023-01-18T12:22:30.093405Z"
    }
   },
   "outputs": [],
   "source": [
    "class NonLin(torch.nn.Module):\n",
    "\n",
    "    def __init__(self, n_words):\n",
    "        # Linear -> BatchNorm -> Dropout\n",
    "        ...\n",
    "        \n",
    "    def forward(self, x):\n",
    "        # End with Sigmoid\n",
    "        return x\n"
   ]
  },
  {
   "cell_type": "code",
   "execution_count": null,
   "metadata": {
    "ExecuteTime": {
     "end_time": "2023-01-18T12:22:30.114732Z",
     "start_time": "2023-01-18T12:22:30.102406Z"
    }
   },
   "outputs": [],
   "source": [
    "m = ...\n",
    "lfn = ... # BCE\n",
    "opt = # Adam with 0.005\n",
    "\n",
    "\n",
    "print(m)"
   ]
  },
  {
   "cell_type": "code",
   "execution_count": null,
   "metadata": {
    "ExecuteTime": {
     "end_time": "2023-01-18T12:22:30.120649Z",
     "start_time": "2023-01-18T12:22:30.116954Z"
    }
   },
   "outputs": [],
   "source": [
    "epochs = ..."
   ]
  },
  {
   "cell_type": "code",
   "execution_count": null,
   "metadata": {
    "ExecuteTime": {
     "end_time": "2023-01-18T12:22:30.132451Z",
     "start_time": "2023-01-18T12:22:30.122572Z"
    },
    "code_folding": []
   },
   "outputs": [],
   "source": [
    "def acc(y_pred, y_true):\n",
    "    return torch.mean(((y_pred > 0.5)*1.0 ==  y_true)*1.0)"
   ]
  },
  {
   "cell_type": "code",
   "execution_count": null,
   "metadata": {
    "ExecuteTime": {
     "end_time": "2023-01-18T12:22:33.856008Z",
     "start_time": "2023-01-18T12:22:30.133658Z"
    },
    "scrolled": false
   },
   "outputs": [],
   "source": [
    "traces = simplest_loop(\n",
    "    epochs = epochs,\n",
    "    data = {\"train\": {\"x\": X_train, \"y\": Y_train}, \"valid\": {\"x\": X_valid, \"y\": Y_valid}},\n",
    "    loss_fn = lfn,\n",
    "    model=m,\n",
    "    train_fn=m,\n",
    "    predict_fn=m,\n",
    "    device='cpu',\n",
    "    opt = opt,\n",
    "    eval_fn=acc\n",
    ")"
   ]
  },
  {
   "cell_type": "code",
   "execution_count": null,
   "metadata": {},
   "outputs": [],
   "source": []
  }
 ],
 "metadata": {
  "kernelspec": {
   "display_name": "Python 3",
   "language": "python",
   "name": "python3"
  },
  "language_info": {
   "codemirror_mode": {
    "name": "ipython",
    "version": 3
   },
   "file_extension": ".py",
   "mimetype": "text/x-python",
   "name": "python",
   "nbconvert_exporter": "python",
   "pygments_lexer": "ipython3",
   "version": "3.8.5"
  }
 },
 "nbformat": 4,
 "nbformat_minor": 4
}
