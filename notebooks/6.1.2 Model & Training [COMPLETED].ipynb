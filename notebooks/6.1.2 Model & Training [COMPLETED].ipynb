{
 "cells": [
  {
   "cell_type": "code",
   "execution_count": null,
   "metadata": {},
   "outputs": [],
   "source": [
    "! pip install torch"
   ]
  },
  {
   "cell_type": "code",
   "execution_count": 1,
   "metadata": {
    "ExecuteTime": {
     "end_time": "2023-01-26T14:30:22.575724Z",
     "start_time": "2023-01-26T14:30:21.289938Z"
    }
   },
   "outputs": [
    {
     "ename": "RuntimeError",
     "evalue": "module compiled against API version 0xe but this version of numpy is 0xd",
     "output_type": "error",
     "traceback": [
      "\u001b[0;31m---------------------------------------------------------------------------\u001b[0m",
      "\u001b[0;31mRuntimeError\u001b[0m                              Traceback (most recent call last)",
      "\u001b[0;31mRuntimeError\u001b[0m: module compiled against API version 0xe but this version of numpy is 0xd"
     ]
    },
    {
     "ename": "RuntimeError",
     "evalue": "module compiled against API version 0xe but this version of numpy is 0xd",
     "output_type": "error",
     "traceback": [
      "\u001b[0;31m---------------------------------------------------------------------------\u001b[0m",
      "\u001b[0;31mRuntimeError\u001b[0m                              Traceback (most recent call last)",
      "\u001b[0;31mRuntimeError\u001b[0m: module compiled against API version 0xe but this version of numpy is 0xd"
     ]
    },
    {
     "ename": "RuntimeError",
     "evalue": "module compiled against API version 0xe but this version of numpy is 0xd",
     "output_type": "error",
     "traceback": [
      "\u001b[0;31m---------------------------------------------------------------------------\u001b[0m",
      "\u001b[0;31mRuntimeError\u001b[0m                              Traceback (most recent call last)",
      "\u001b[0;31mRuntimeError\u001b[0m: module compiled against API version 0xe but this version of numpy is 0xd"
     ]
    },
    {
     "ename": "RuntimeError",
     "evalue": "module compiled against API version 0xe but this version of numpy is 0xd",
     "output_type": "error",
     "traceback": [
      "\u001b[0;31m---------------------------------------------------------------------------\u001b[0m",
      "\u001b[0;31mRuntimeError\u001b[0m                              Traceback (most recent call last)",
      "\u001b[0;31mRuntimeError\u001b[0m: module compiled against API version 0xe but this version of numpy is 0xd"
     ]
    }
   ],
   "source": [
    "import numpy as np\n",
    "import pickle\n",
    "import json\n",
    "import torch\n",
    "import torch.nn as nn\n",
    "import torch.nn.functional as F\n",
    "from pathlib import Path\n",
    "from matplotlib import pyplot as plt\n",
    "from tqdm.auto import tqdm\n",
    "from typing import Callable, Union\n",
    "from mytorch import dataiters\n",
    "from mytorch.loops import generic_loop\n",
    "from matplotlib import pyplot as plt\n",
    "from mytorch.utils.goodies import default_eval, Timer"
   ]
  },
  {
   "cell_type": "code",
   "execution_count": 2,
   "metadata": {
    "ExecuteTime": {
     "end_time": "2023-01-26T14:30:22.579748Z",
     "start_time": "2023-01-26T14:30:22.577152Z"
    }
   },
   "outputs": [],
   "source": [
    "# ! pip install -U my-torch"
   ]
  },
  {
   "cell_type": "raw",
   "metadata": {
    "ExecuteTime": {
     "end_time": "2023-01-26T12:12:45.557107Z",
     "start_time": "2023-01-26T12:12:45.526450Z"
    }
   },
   "source": [
    "# Pull raw stuff from disk\n",
    "\n",
    "assert dumpdir.exists()\n",
    "\n",
    "with (dumpdir / 'vocab.json').open('r') as f:\n",
    "    vocab = json.load(f)\n",
    "    \n",
    "with (dumpdir / 'wordids_train.pkl').open('rb') as f:\n",
    "    train_wordids = pickle.load(f)\n",
    "\n",
    "len(train_wordids), len(vocab)"
   ]
  },
  {
   "cell_type": "code",
   "execution_count": 3,
   "metadata": {
    "ExecuteTime": {
     "end_time": "2023-01-26T14:30:22.845846Z",
     "start_time": "2023-01-26T14:30:22.584877Z"
    }
   },
   "outputs": [
    {
     "data": {
      "text/plain": [
       "((25000, 10002), (25000, 1), dtype('float32'), dtype('float32'))"
      ]
     },
     "execution_count": 3,
     "metadata": {},
     "output_type": "execute_result"
    }
   ],
   "source": [
    "dumpdir = Path('../resources/datasets/imdb/bow_onehot')\n",
    "assert dumpdir.exists()\n",
    "\n",
    "with (dumpdir/'X_train.np').open('rb') as f:\n",
    "    X = np.load(f)\n",
    "    \n",
    "with (dumpdir/'Y_train.np').open('rb') as f:\n",
    "    Y = np.load(f)\n",
    "\n",
    "# Y = Y.reshape(-1, 1).astype(np.float32)\n",
    "# X = X.astype(np.float32)\n",
    "X.shape, Y.shape, X.dtype, Y.dtype"
   ]
  },
  {
   "cell_type": "code",
   "execution_count": 4,
   "metadata": {
    "ExecuteTime": {
     "end_time": "2023-01-26T14:30:22.849881Z",
     "start_time": "2023-01-26T14:30:22.847390Z"
    }
   },
   "outputs": [],
   "source": [
    "n_words = X.shape[1]\n",
    "n_docs = X.shape[0]"
   ]
  },
  {
   "cell_type": "code",
   "execution_count": 5,
   "metadata": {
    "ExecuteTime": {
     "end_time": "2023-01-26T14:30:23.050233Z",
     "start_time": "2023-01-26T14:30:22.851749Z"
    }
   },
   "outputs": [],
   "source": [
    "# Shuffle the dataset (using np random permutation)\n",
    "p = np.random.permutation(len(X))\n",
    "X = X[p]\n",
    "Y = Y[p]"
   ]
  },
  {
   "cell_type": "code",
   "execution_count": 6,
   "metadata": {
    "ExecuteTime": {
     "end_time": "2023-01-26T14:30:23.056046Z",
     "start_time": "2023-01-26T14:30:23.051665Z"
    }
   },
   "outputs": [
    {
     "data": {
      "text/plain": [
       "((20000, 10002), (5000, 10002), (20000, 1), (5000, 1))"
      ]
     },
     "execution_count": 6,
     "metadata": {},
     "output_type": "execute_result"
    }
   ],
   "source": [
    "# Split the dataset \n",
    "X_train, X_valid = X[:(int(0.8*n_docs))], X[(int(0.8*n_docs)):]\n",
    "Y_train, Y_valid = Y[:(int(0.8*n_docs))], Y[(int(0.8*n_docs)):]\n",
    "\n",
    "X_train.shape, X_valid.shape, Y_train.shape, Y_valid.shape"
   ]
  },
  {
   "cell_type": "code",
   "execution_count": 7,
   "metadata": {
    "ExecuteTime": {
     "end_time": "2023-01-26T14:30:23.061640Z",
     "start_time": "2023-01-26T14:30:23.058339Z"
    }
   },
   "outputs": [
    {
     "data": {
      "text/plain": [
       "torch.float32"
      ]
     },
     "execution_count": 7,
     "metadata": {},
     "output_type": "execute_result"
    }
   ],
   "source": [
    "torch.tensor(Y_train).dtype"
   ]
  },
  {
   "cell_type": "code",
   "execution_count": 8,
   "metadata": {
    "ExecuteTime": {
     "end_time": "2023-01-26T14:30:23.067859Z",
     "start_time": "2023-01-26T14:30:23.063644Z"
    }
   },
   "outputs": [],
   "source": [
    "class NonLin(torch.nn.Module):\n",
    "\n",
    "    def __init__(self, n_words):\n",
    "        super().__init__()\n",
    "        \n",
    "        self.t1 = nn.Linear(n_words, 100, bias=False) # 10002 -> 32\n",
    "#         self.drop1 = nn.Dropout(0.8)\n",
    "#         self.batchnorm1 = nn.BatchNorm1d(32)\n",
    "#         self.t2 = nn.Linear( 100, 50, bias=False) # 32 -> 1\n",
    "#         self.drop2 = nn.Dropout(0.5)\n",
    "#         self.batchnorm2 = nn.BatchNorm1d(12)\n",
    "        self.t3 = nn.Linear(100, 1)\n",
    "        \n",
    "    def forward(self, x):\n",
    "\n",
    "        # Layer 1\n",
    "        x = self.t1(x)\n",
    "#         x = self.batchnorm1(x)\n",
    "#         x = torch.relu(x)\n",
    "#         x = self.drop1(x)\n",
    "        \n",
    "        # Layer 2\n",
    "#         x = self.t2(x)\n",
    "# #         x = self.batchnorm2(x)\n",
    "#         x = torch.relu(x)\n",
    "#         x = self.drop2(x)\n",
    "        \n",
    "        # Layer 3\n",
    "        x = self.t3(x)\n",
    "        x = torch.sigmoid(x)\n",
    "        return x\n"
   ]
  },
  {
   "cell_type": "code",
   "execution_count": 9,
   "metadata": {
    "ExecuteTime": {
     "end_time": "2023-01-26T14:30:23.082318Z",
     "start_time": "2023-01-26T14:30:23.069764Z"
    }
   },
   "outputs": [
    {
     "name": "stdout",
     "output_type": "stream",
     "text": [
      "NonLin(\n",
      "  (t1): Linear(in_features=10002, out_features=100, bias=False)\n",
      "  (t3): Linear(in_features=100, out_features=1, bias=True)\n",
      ")\n"
     ]
    }
   ],
   "source": [
    "m = NonLin(n_words)\n",
    "lfn = torch.nn.BCELoss()\n",
    "opt = torch.optim.Adam(m.parameters(), lr=0.005)\n",
    "\n",
    "\n",
    "print(m)"
   ]
  },
  {
   "cell_type": "code",
   "execution_count": 10,
   "metadata": {
    "ExecuteTime": {
     "end_time": "2023-01-26T14:30:23.086548Z",
     "start_time": "2023-01-26T14:30:23.084123Z"
    }
   },
   "outputs": [],
   "source": [
    "epochs = 40"
   ]
  },
  {
   "cell_type": "code",
   "execution_count": 11,
   "metadata": {
    "ExecuteTime": {
     "end_time": "2023-01-26T14:30:23.090594Z",
     "start_time": "2023-01-26T14:30:23.088220Z"
    },
    "code_folding": []
   },
   "outputs": [],
   "source": [
    "def acc(y_pred, y_true):\n",
    "    return torch.mean(((y_pred > 0.5)*1.0 ==  y_true)*1.0)"
   ]
  },
  {
   "cell_type": "code",
   "execution_count": 12,
   "metadata": {
    "ExecuteTime": {
     "end_time": "2023-01-26T14:32:13.396498Z",
     "start_time": "2023-01-26T14:30:23.091836Z"
    },
    "scrolled": false
   },
   "outputs": [
    {
     "name": "stderr",
     "output_type": "stream",
     "text": [
      "  0%|          | 0/311 [00:00<?, ?it/s]/home/priyansh/Dev/perm/conda/envs/main/lib/python3.8/site-packages/mytorch/loops.py:239: UserWarning: This overload of add is deprecated:\n",
      "\tadd(Number alpha, Tensor other)\n",
      "Consider using one of the following signatures instead:\n",
      "\tadd(Tensor other, *, Number alpha) (Triggered internally at  ../torch/csrc/utils/python_arg_parser.cpp:1055.)\n",
      "  param.data = param.data.add(-weight_decay * group['lr'], param.data)\n",
      "312it [00:02, 119.14it/s]                         \n",
      "78it [00:00, 858.36it/s]              \n"
     ]
    },
    {
     "name": "stdout",
     "output_type": "stream",
     "text": [
      "Epoch: 000 | Loss: 0.33305 | Tr_c: 0.85847 | Vl_c: 0.87159 | Time: 0.044 min\n"
     ]
    },
    {
     "name": "stderr",
     "output_type": "stream",
     "text": [
      "312it [00:02, 127.28it/s]                         \n",
      "78it [00:00, 870.00it/s]              \n"
     ]
    },
    {
     "name": "stdout",
     "output_type": "stream",
     "text": [
      "Epoch: 001 | Loss: 0.19851 | Tr_c: 0.92643 | Vl_c: 0.85677 | Time: 0.041 min\n"
     ]
    },
    {
     "name": "stderr",
     "output_type": "stream",
     "text": [
      "312it [00:02, 127.07it/s]                         \n",
      "78it [00:00, 909.62it/s]              \n"
     ]
    },
    {
     "name": "stdout",
     "output_type": "stream",
     "text": [
      "Epoch: 002 | Loss: 0.16901 | Tr_c: 0.94867 | Vl_c: 0.84856 | Time: 0.041 min\n"
     ]
    },
    {
     "name": "stderr",
     "output_type": "stream",
     "text": [
      "312it [00:02, 126.67it/s]                         \n",
      "78it [00:00, 698.63it/s]                        \n"
     ]
    },
    {
     "name": "stdout",
     "output_type": "stream",
     "text": [
      "Epoch: 003 | Loss: 0.16259 | Tr_c: 0.95533 | Vl_c: 0.79928 | Time: 0.041 min\n"
     ]
    },
    {
     "name": "stderr",
     "output_type": "stream",
     "text": [
      "312it [00:02, 124.38it/s]                         \n",
      "78it [00:00, 926.65it/s]              \n"
     ]
    },
    {
     "name": "stdout",
     "output_type": "stream",
     "text": [
      "Epoch: 004 | Loss: 0.14853 | Tr_c: 0.96394 | Vl_c: 0.86238 | Time: 0.042 min\n"
     ]
    },
    {
     "name": "stderr",
     "output_type": "stream",
     "text": [
      "312it [00:02, 123.60it/s]                         \n",
      "78it [00:00, 816.11it/s]              \n"
     ]
    },
    {
     "name": "stdout",
     "output_type": "stream",
     "text": [
      "Epoch: 005 | Loss: 0.17750 | Tr_c: 0.96144 | Vl_c: 0.85897 | Time: 0.042 min\n"
     ]
    },
    {
     "name": "stderr",
     "output_type": "stream",
     "text": [
      "312it [00:02, 122.91it/s]                         \n",
      "78it [00:00, 944.50it/s]              \n"
     ]
    },
    {
     "name": "stdout",
     "output_type": "stream",
     "text": [
      "Epoch: 006 | Loss: 0.16298 | Tr_c: 0.96740 | Vl_c: 0.86398 | Time: 0.042 min\n"
     ]
    },
    {
     "name": "stderr",
     "output_type": "stream",
     "text": [
      "312it [00:02, 111.08it/s]                         \n",
      "78it [00:00, 692.50it/s]                        \n"
     ]
    },
    {
     "name": "stdout",
     "output_type": "stream",
     "text": [
      "Epoch: 007 | Loss: 0.17789 | Tr_c: 0.96675 | Vl_c: 0.84976 | Time: 0.047 min\n"
     ]
    },
    {
     "name": "stderr",
     "output_type": "stream",
     "text": [
      "312it [00:02, 113.84it/s]                         \n",
      "78it [00:00, 758.48it/s]                        \n"
     ]
    },
    {
     "name": "stdout",
     "output_type": "stream",
     "text": [
      "Epoch: 008 | Loss: 0.13599 | Tr_c: 0.97401 | Vl_c: 0.85296 | Time: 0.046 min\n"
     ]
    },
    {
     "name": "stderr",
     "output_type": "stream",
     "text": [
      "312it [00:02, 114.67it/s]                         \n",
      "78it [00:00, 740.84it/s]                        \n"
     ]
    },
    {
     "name": "stdout",
     "output_type": "stream",
     "text": [
      "Epoch: 009 | Loss: 0.16134 | Tr_c: 0.97266 | Vl_c: 0.86478 | Time: 0.045 min\n"
     ]
    },
    {
     "name": "stderr",
     "output_type": "stream",
     "text": [
      "312it [00:02, 118.02it/s]                         \n",
      "78it [00:00, 950.35it/s]              \n"
     ]
    },
    {
     "name": "stdout",
     "output_type": "stream",
     "text": [
      "Epoch: 010 | Loss: 0.14957 | Tr_c: 0.97296 | Vl_c: 0.85958 | Time: 0.044 min\n"
     ]
    },
    {
     "name": "stderr",
     "output_type": "stream",
     "text": [
      "312it [00:02, 120.12it/s]                         \n",
      "78it [00:00, 875.23it/s]              \n"
     ]
    },
    {
     "name": "stdout",
     "output_type": "stream",
     "text": [
      "Epoch: 011 | Loss: 0.12035 | Tr_c: 0.97766 | Vl_c: 0.86599 | Time: 0.043 min\n"
     ]
    },
    {
     "name": "stderr",
     "output_type": "stream",
     "text": [
      "312it [00:02, 117.64it/s]                         \n",
      "78it [00:00, 969.78it/s]              \n"
     ]
    },
    {
     "name": "stdout",
     "output_type": "stream",
     "text": [
      "Epoch: 012 | Loss: 0.12036 | Tr_c: 0.98007 | Vl_c: 0.84355 | Time: 0.044 min\n"
     ]
    },
    {
     "name": "stderr",
     "output_type": "stream",
     "text": [
      "312it [00:02, 115.66it/s]                         \n",
      "78it [00:00, 906.49it/s]              \n"
     ]
    },
    {
     "name": "stdout",
     "output_type": "stream",
     "text": [
      "Epoch: 013 | Loss: 0.16787 | Tr_c: 0.97776 | Vl_c: 0.84014 | Time: 0.045 min\n"
     ]
    },
    {
     "name": "stderr",
     "output_type": "stream",
     "text": [
      "312it [00:02, 115.11it/s]                         \n",
      "78it [00:00, 933.59it/s]              \n"
     ]
    },
    {
     "name": "stdout",
     "output_type": "stream",
     "text": [
      "Epoch: 014 | Loss: 0.23218 | Tr_c: 0.97681 | Vl_c: 0.84275 | Time: 0.045 min\n"
     ]
    },
    {
     "name": "stderr",
     "output_type": "stream",
     "text": [
      "312it [00:02, 115.49it/s]                         \n",
      "78it [00:00, 915.32it/s]              \n"
     ]
    },
    {
     "name": "stdout",
     "output_type": "stream",
     "text": [
      "Epoch: 015 | Loss: 0.16358 | Tr_c: 0.98162 | Vl_c: 0.85397 | Time: 0.045 min\n"
     ]
    },
    {
     "name": "stderr",
     "output_type": "stream",
     "text": [
      "312it [00:02, 116.57it/s]                         \n",
      "78it [00:00, 963.55it/s]              \n"
     ]
    },
    {
     "name": "stdout",
     "output_type": "stream",
     "text": [
      "Epoch: 016 | Loss: 0.12262 | Tr_c: 0.98473 | Vl_c: 0.84455 | Time: 0.045 min\n"
     ]
    },
    {
     "name": "stderr",
     "output_type": "stream",
     "text": [
      "312it [00:02, 115.41it/s]                         \n",
      "78it [00:00, 855.76it/s]              \n"
     ]
    },
    {
     "name": "stdout",
     "output_type": "stream",
     "text": [
      "Epoch: 017 | Loss: 0.12442 | Tr_c: 0.98422 | Vl_c: 0.85056 | Time: 0.045 min\n"
     ]
    },
    {
     "name": "stderr",
     "output_type": "stream",
     "text": [
      "312it [00:02, 117.27it/s]                         \n",
      "78it [00:00, 977.08it/s]              \n"
     ]
    },
    {
     "name": "stdout",
     "output_type": "stream",
     "text": [
      "Epoch: 018 | Loss: 0.18515 | Tr_c: 0.98062 | Vl_c: 0.85417 | Time: 0.044 min\n"
     ]
    },
    {
     "name": "stderr",
     "output_type": "stream",
     "text": [
      "312it [00:02, 116.61it/s]                         \n",
      "78it [00:00, 904.73it/s]              \n"
     ]
    },
    {
     "name": "stdout",
     "output_type": "stream",
     "text": [
      "Epoch: 019 | Loss: 0.28055 | Tr_c: 0.97947 | Vl_c: 0.85457 | Time: 0.045 min\n"
     ]
    },
    {
     "name": "stderr",
     "output_type": "stream",
     "text": [
      "312it [00:02, 115.46it/s]                         \n",
      "78it [00:00, 763.39it/s]                        \n"
     ]
    },
    {
     "name": "stdout",
     "output_type": "stream",
     "text": [
      "Epoch: 020 | Loss: 0.25104 | Tr_c: 0.98152 | Vl_c: 0.83914 | Time: 0.045 min\n"
     ]
    },
    {
     "name": "stderr",
     "output_type": "stream",
     "text": [
      "312it [00:02, 115.75it/s]                         \n",
      "78it [00:00, 912.50it/s]              \n"
     ]
    },
    {
     "name": "stdout",
     "output_type": "stream",
     "text": [
      "Epoch: 021 | Loss: 0.19391 | Tr_c: 0.98488 | Vl_c: 0.84655 | Time: 0.045 min\n"
     ]
    },
    {
     "name": "stderr",
     "output_type": "stream",
     "text": [
      "312it [00:02, 115.71it/s]                         \n",
      "78it [00:00, 937.92it/s]              \n"
     ]
    },
    {
     "name": "stdout",
     "output_type": "stream",
     "text": [
      "Epoch: 022 | Loss: 0.23671 | Tr_c: 0.98262 | Vl_c: 0.85236 | Time: 0.045 min\n"
     ]
    },
    {
     "name": "stderr",
     "output_type": "stream",
     "text": [
      "312it [00:02, 117.45it/s]                         \n",
      "78it [00:00, 991.02it/s]              \n"
     ]
    },
    {
     "name": "stdout",
     "output_type": "stream",
     "text": [
      "Epoch: 023 | Loss: 0.26955 | Tr_c: 0.98252 | Vl_c: 0.85737 | Time: 0.044 min\n"
     ]
    },
    {
     "name": "stderr",
     "output_type": "stream",
     "text": [
      "312it [00:02, 117.51it/s]                         \n",
      "78it [00:00, 999.97it/s]              \n"
     ]
    },
    {
     "name": "stdout",
     "output_type": "stream",
     "text": [
      "Epoch: 024 | Loss: 0.28096 | Tr_c: 0.98257 | Vl_c: 0.85877 | Time: 0.044 min\n"
     ]
    },
    {
     "name": "stderr",
     "output_type": "stream",
     "text": [
      "312it [00:02, 117.01it/s]                         \n",
      "78it [00:00, 920.13it/s]              \n"
     ]
    },
    {
     "name": "stdout",
     "output_type": "stream",
     "text": [
      "Epoch: 025 | Loss: 0.33133 | Tr_c: 0.98252 | Vl_c: 0.85457 | Time: 0.044 min\n"
     ]
    },
    {
     "name": "stderr",
     "output_type": "stream",
     "text": [
      "312it [00:02, 118.50it/s]                         \n",
      "78it [00:00, 987.94it/s]              \n"
     ]
    },
    {
     "name": "stdout",
     "output_type": "stream",
     "text": [
      "Epoch: 026 | Loss: 0.41056 | Tr_c: 0.97952 | Vl_c: 0.85256 | Time: 0.044 min\n"
     ]
    },
    {
     "name": "stderr",
     "output_type": "stream",
     "text": [
      "312it [00:02, 119.12it/s]                         \n",
      "78it [00:00, 960.93it/s]              \n"
     ]
    },
    {
     "name": "stdout",
     "output_type": "stream",
     "text": [
      "Epoch: 027 | Loss: 0.43395 | Tr_c: 0.98032 | Vl_c: 0.84095 | Time: 0.044 min\n"
     ]
    },
    {
     "name": "stderr",
     "output_type": "stream",
     "text": [
      "312it [00:02, 120.03it/s]                         \n",
      "78it [00:00, 981.81it/s]              \n"
     ]
    },
    {
     "name": "stdout",
     "output_type": "stream",
     "text": [
      "Epoch: 028 | Loss: 0.43649 | Tr_c: 0.98072 | Vl_c: 0.85056 | Time: 0.043 min\n"
     ]
    },
    {
     "name": "stderr",
     "output_type": "stream",
     "text": [
      "312it [00:02, 120.28it/s]                         \n",
      "78it [00:00, 978.48it/s]              \n"
     ]
    },
    {
     "name": "stdout",
     "output_type": "stream",
     "text": [
      "Epoch: 029 | Loss: 0.34513 | Tr_c: 0.98382 | Vl_c: 0.85737 | Time: 0.043 min\n"
     ]
    },
    {
     "name": "stderr",
     "output_type": "stream",
     "text": [
      "312it [00:02, 121.08it/s]                         \n",
      "78it [00:00, 977.95it/s]              \n"
     ]
    },
    {
     "name": "stdout",
     "output_type": "stream",
     "text": [
      "Epoch: 030 | Loss: 0.39246 | Tr_c: 0.98382 | Vl_c: 0.84896 | Time: 0.043 min\n"
     ]
    },
    {
     "name": "stderr",
     "output_type": "stream",
     "text": [
      "312it [00:02, 122.06it/s]                         \n",
      "78it [00:00, 1012.09it/s]             \n"
     ]
    },
    {
     "name": "stdout",
     "output_type": "stream",
     "text": [
      "Epoch: 031 | Loss: 0.44675 | Tr_c: 0.98453 | Vl_c: 0.84916 | Time: 0.043 min\n"
     ]
    },
    {
     "name": "stderr",
     "output_type": "stream",
     "text": [
      "312it [00:02, 121.65it/s]                         \n",
      "78it [00:00, 962.19it/s]              \n"
     ]
    },
    {
     "name": "stdout",
     "output_type": "stream",
     "text": [
      "Epoch: 032 | Loss: 0.46763 | Tr_c: 0.98317 | Vl_c: 0.84575 | Time: 0.043 min\n"
     ]
    },
    {
     "name": "stderr",
     "output_type": "stream",
     "text": [
      "312it [00:02, 112.18it/s]                         \n",
      "78it [00:00, 772.28it/s]              \n"
     ]
    },
    {
     "name": "stdout",
     "output_type": "stream",
     "text": [
      "Epoch: 033 | Loss: 0.42896 | Tr_c: 0.98553 | Vl_c: 0.85557 | Time: 0.046 min\n"
     ]
    },
    {
     "name": "stderr",
     "output_type": "stream",
     "text": [
      "312it [00:02, 115.66it/s]                         \n",
      "78it [00:00, 953.59it/s]              \n"
     ]
    },
    {
     "name": "stdout",
     "output_type": "stream",
     "text": [
      "Epoch: 034 | Loss: 0.38607 | Tr_c: 0.98748 | Vl_c: 0.85417 | Time: 0.045 min\n"
     ]
    },
    {
     "name": "stderr",
     "output_type": "stream",
     "text": [
      "312it [00:02, 109.91it/s]                         \n",
      "78it [00:00, 616.02it/s]                        \n"
     ]
    },
    {
     "name": "stdout",
     "output_type": "stream",
     "text": [
      "Epoch: 035 | Loss: 0.39188 | Tr_c: 0.98738 | Vl_c: 0.85597 | Time: 0.047 min\n"
     ]
    },
    {
     "name": "stderr",
     "output_type": "stream",
     "text": [
      "312it [00:02, 110.02it/s]                         \n",
      "78it [00:00, 903.10it/s]              \n"
     ]
    },
    {
     "name": "stdout",
     "output_type": "stream",
     "text": [
      "Epoch: 036 | Loss: 0.38638 | Tr_c: 0.98803 | Vl_c: 0.85437 | Time: 0.047 min\n"
     ]
    },
    {
     "name": "stderr",
     "output_type": "stream",
     "text": [
      "312it [00:02, 120.16it/s]                         \n",
      "78it [00:00, 854.76it/s]              \n"
     ]
    },
    {
     "name": "stdout",
     "output_type": "stream",
     "text": [
      "Epoch: 037 | Loss: 0.41578 | Tr_c: 0.98653 | Vl_c: 0.85577 | Time: 0.043 min\n"
     ]
    },
    {
     "name": "stderr",
     "output_type": "stream",
     "text": [
      "312it [00:03, 97.98it/s]                          \n",
      "78it [00:00, 927.44it/s]              \n"
     ]
    },
    {
     "name": "stdout",
     "output_type": "stream",
     "text": [
      "Epoch: 038 | Loss: 0.36689 | Tr_c: 0.98668 | Vl_c: 0.86078 | Time: 0.053 min\n"
     ]
    },
    {
     "name": "stderr",
     "output_type": "stream",
     "text": [
      "312it [00:02, 107.56it/s]                         \n",
      "78it [00:00, 893.25it/s]              "
     ]
    },
    {
     "name": "stdout",
     "output_type": "stream",
     "text": [
      "Epoch: 039 | Loss: 0.31938 | Tr_c: 0.98828 | Vl_c: 0.85276 | Time: 0.048 min\n"
     ]
    },
    {
     "name": "stderr",
     "output_type": "stream",
     "text": [
      "\n"
     ]
    }
   ],
   "source": [
    "traces = generic_loop(\n",
    "    epochs = epochs,\n",
    "    data = {\"train\": {\"x\": X_train, \"y\": Y_train}, \"valid\": {\"x\": X_valid, \"y\": Y_valid}},\n",
    "    loss_fn = lfn,\n",
    "    train_fn=m,\n",
    "    predict_fn=m,\n",
    "    model=m,\n",
    "    device='cpu',\n",
    "    opt = opt,\n",
    "    eval_fn=acc\n",
    ")"
   ]
  },
  {
   "cell_type": "code",
   "execution_count": 13,
   "metadata": {
    "ExecuteTime": {
     "end_time": "2023-01-26T14:32:13.399778Z",
     "start_time": "2023-01-26T14:32:13.397890Z"
    }
   },
   "outputs": [],
   "source": [
    "train_acc, valid_acc, train_loss, lrs = traces"
   ]
  },
  {
   "cell_type": "code",
   "execution_count": 14,
   "metadata": {
    "ExecuteTime": {
     "end_time": "2023-01-26T14:32:13.561420Z",
     "start_time": "2023-01-26T14:32:13.401352Z"
    }
   },
   "outputs": [
    {
     "data": {
      "text/plain": [
       "[<matplotlib.lines.Line2D at 0x7f8590f5aa00>]"
      ]
     },
     "execution_count": 14,
     "metadata": {},
     "output_type": "execute_result"
    },
    {
     "data": {
      "image/png": "[encoded data removed]",
      "text/plain": [
       "<Figure size 432x288 with 1 Axes>"
      ]
     },
     "metadata": {
      "needs_background": "light"
     },
     "output_type": "display_data"
    }
   ],
   "source": [
    "plt.plot(train_acc)\n",
    "plt.plot(valid_acc)\n",
    "# plt.plot(train_loss)"
   ]
  },
  {
   "cell_type": "code",
   "execution_count": 15,
   "metadata": {
    "ExecuteTime": {
     "end_time": "2023-01-26T14:32:13.684843Z",
     "start_time": "2023-01-26T14:32:13.563153Z"
    }
   },
   "outputs": [
    {
     "name": "stdout",
     "output_type": "stream",
     "text": [
      "              total        used        free      shared  buff/cache   available\r\n",
      "Mem:            15G        6,0G        6,0G        740M        3,4G        8,3G\r\n",
      "Swap:          979M        978M        1,3M\r\n"
     ]
    }
   ],
   "source": [
    "! free -h"
   ]
  },
  {
   "cell_type": "code",
   "execution_count": 16,
   "metadata": {
    "ExecuteTime": {
     "end_time": "2023-01-26T14:32:14.715977Z",
     "start_time": "2023-01-26T14:32:13.686188Z"
    }
   },
   "outputs": [],
   "source": [
    "# Now let's see how it performs on test data \n",
    "## We hereby pledge to NEVER optimise our model on test data\n",
    "with (dumpdir / 'X_test.np').open('rb') as f:\n",
    "    X_test = np.load(f)\n",
    "    \n",
    "with (dumpdir / 'Y_test.np').open('rb') as f:\n",
    "    Y_test = np.load(f)"
   ]
  },
  {
   "cell_type": "code",
   "execution_count": 17,
   "metadata": {
    "ExecuteTime": {
     "end_time": "2023-01-26T14:32:14.718964Z",
     "start_time": "2023-01-26T14:32:14.716939Z"
    }
   },
   "outputs": [],
   "source": [
    "# Too big to process all at once; lets use a sampler/or manually divide it into chunks before passing it to model\n",
    "data_iter = dataiters.SimplestSampler({'x': X_test, 'y': Y_test})\n",
    "for batch in data_iter:\n",
    "    break"
   ]
  },
  {
   "cell_type": "code",
   "execution_count": 18,
   "metadata": {
    "ExecuteTime": {
     "end_time": "2023-01-26T14:32:14.722585Z",
     "start_time": "2023-01-26T14:32:14.720449Z"
    }
   },
   "outputs": [],
   "source": [
    "# See what batch is like if you want"
   ]
  },
  {
   "cell_type": "code",
   "execution_count": 19,
   "metadata": {
    "ExecuteTime": {
     "end_time": "2023-01-26T14:32:14.729155Z",
     "start_time": "2023-01-26T14:32:14.724363Z"
    }
   },
   "outputs": [],
   "source": [
    "metrics = []\n",
    "for x_batch, y_batch in dataiters.SimplestSampler({'x': X_test, 'y': Y_test}):\n",
    "    # convert to torch\n",
    "    x = torch.tensor(x_batch)\n",
    "    y_true = torch.tensor(y_batch)\n",
    "    y_pred = m(x)\n",
    "    \n",
    "    break"
   ]
  },
  {
   "cell_type": "code",
   "execution_count": null,
   "metadata": {
    "ExecuteTime": {
     "end_time": "2023-01-26T12:33:53.436352Z",
     "start_time": "2023-01-26T12:33:53.425437Z"
    }
   },
   "outputs": [],
   "source": []
  },
  {
   "cell_type": "code",
   "execution_count": 20,
   "metadata": {
    "ExecuteTime": {
     "end_time": "2023-01-26T14:32:14.734821Z",
     "start_time": "2023-01-26T14:32:14.730812Z"
    }
   },
   "outputs": [
    {
     "data": {
      "text/plain": [
       "tensor(0.8750)"
      ]
     },
     "execution_count": 20,
     "metadata": {},
     "output_type": "execute_result"
    }
   ],
   "source": [
    "\n",
    "acc(y_pred, y_true)"
   ]
  }
 ],
 "metadata": {
  "kernelspec": {
   "display_name": "Python 3",
   "language": "python",
   "name": "python3"
  },
  "language_info": {
   "codemirror_mode": {
    "name": "ipython",
    "version": 3
   },
   "file_extension": ".py",
   "mimetype": "text/x-python",
   "name": "python",
   "nbconvert_exporter": "python",
   "pygments_lexer": "ipython3",
   "version": "3.8.5"
  }
 },
 "nbformat": 4,
 "nbformat_minor": 4
}
