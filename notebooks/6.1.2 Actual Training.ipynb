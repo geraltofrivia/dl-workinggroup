{
 "cells": [
  {
   "cell_type": "code",
   "execution_count": 1,
   "metadata": {
    "ExecuteTime": {
     "end_time": "2023-01-18T11:00:14.870474Z",
     "start_time": "2023-01-18T11:00:13.632834Z"
    }
   },
   "outputs": [],
   "source": [
    "import numpy as np\n",
    "import torch\n",
    "import torch.nn as nn\n",
    "import torch.nn.functional as F\n",
    "from pathlib import Path\n",
    "from matplotlib import pyplot as plt\n",
    "from tqdm.auto import tqdm\n",
    "from typing import Callable, Union\n",
    "from mytorch import dataiters\n",
    "from mytorch.utils.goodies import default_eval, Timer"
   ]
  },
  {
   "cell_type": "code",
   "execution_count": 2,
   "metadata": {
    "ExecuteTime": {
     "end_time": "2023-01-18T11:00:15.306128Z",
     "start_time": "2023-01-18T11:00:14.872022Z"
    }
   },
   "outputs": [
    {
     "data": {
      "text/plain": [
       "((25000, 10002), (25000, 1), dtype('float64'), dtype('int64'))"
      ]
     },
     "execution_count": 2,
     "metadata": {},
     "output_type": "execute_result"
    }
   ],
   "source": [
    "with Path('../resources/6.1.X.np').open('rb') as f:\n",
    "    X = np.load(f)\n",
    "    \n",
    "with Path('../resources/6.1.Y.np').open('rb') as f:\n",
    "    Y = np.load(f)\n",
    "\n",
    "Y = Y.reshape(-1, 1)\n",
    "X.shape, Y.shape, X.dtype, Y.dtype"
   ]
  },
  {
   "cell_type": "code",
   "execution_count": 3,
   "metadata": {
    "ExecuteTime": {
     "end_time": "2023-01-18T11:00:15.312046Z",
     "start_time": "2023-01-18T11:00:15.309323Z"
    }
   },
   "outputs": [
    {
     "data": {
      "text/plain": [
       "(dtype('float64'), dtype('int64'))"
      ]
     },
     "execution_count": 3,
     "metadata": {},
     "output_type": "execute_result"
    }
   ],
   "source": [
    "X.dtype, Y.dtype"
   ]
  },
  {
   "cell_type": "code",
   "execution_count": 4,
   "metadata": {
    "ExecuteTime": {
     "end_time": "2023-01-18T11:00:15.315257Z",
     "start_time": "2023-01-18T11:00:15.313266Z"
    }
   },
   "outputs": [],
   "source": [
    "n_words = X.shape[1]\n",
    "n_docs = X.shape[0]"
   ]
  },
  {
   "cell_type": "code",
   "execution_count": 5,
   "metadata": {
    "ExecuteTime": {
     "end_time": "2023-01-18T11:00:15.695595Z",
     "start_time": "2023-01-18T11:00:15.316369Z"
    }
   },
   "outputs": [],
   "source": [
    "# Shuffle the dataset\n",
    "p = np.random.permutation(len(X))\n",
    "X = X[p]\n",
    "Y = Y[p]"
   ]
  },
  {
   "cell_type": "code",
   "execution_count": 6,
   "metadata": {
    "ExecuteTime": {
     "end_time": "2023-01-18T11:00:15.703171Z",
     "start_time": "2023-01-18T11:00:15.697479Z"
    }
   },
   "outputs": [
    {
     "data": {
      "text/plain": [
       "((20000, 10002), (5000, 10002), (20000, 1), (5000, 1))"
      ]
     },
     "execution_count": 6,
     "metadata": {},
     "output_type": "execute_result"
    }
   ],
   "source": [
    "# Split the dataset \n",
    "X_train, X_valid = X[:(int(0.8*n_docs))], X[(int(0.8*n_docs)):]\n",
    "Y_train, Y_valid = Y[:(int(0.8*n_docs))], Y[(int(0.8*n_docs)):]\n",
    "\n",
    "X_train.shape, X_valid.shape, Y_train.shape, Y_valid.shape"
   ]
  },
  {
   "cell_type": "code",
   "execution_count": 7,
   "metadata": {
    "ExecuteTime": {
     "end_time": "2023-01-18T11:00:15.710427Z",
     "start_time": "2023-01-18T11:00:15.706016Z"
    }
   },
   "outputs": [],
   "source": [
    "class NonLin(torch.nn.Module):\n",
    "\n",
    "    def __init__(self, n_words):\n",
    "        super().__init__()\n",
    "        \n",
    "        self.t1 = torch.nn.Linear(n_words, n_words//20) # 10 + 10\n",
    "        self.t3 = torch.nn.Linear( n_words//20, 1) # 10 + 1\n",
    "        \n",
    "    def forward(self, x):\n",
    "        x = x.float()\n",
    "        x = F.sigmoid(self.t1(x))\n",
    "#         x = F.sigmoid(self.t2(x))\n",
    "        x = torch.softmax(self.t3(x), dim=1)\n",
    "        return x\n"
   ]
  },
  {
   "cell_type": "code",
   "execution_count": 8,
   "metadata": {
    "ExecuteTime": {
     "end_time": "2023-01-18T11:00:15.757981Z",
     "start_time": "2023-01-18T11:00:15.712283Z"
    }
   },
   "outputs": [],
   "source": [
    "m = NonLin(n_words)\n",
    "lfn = torch.nn.BCEWithLogitsLoss()\n",
    "opt = torch.optim.Adam(m.parameters(), lr=100)\n"
   ]
  },
  {
   "cell_type": "code",
   "execution_count": 9,
   "metadata": {
    "ExecuteTime": {
     "end_time": "2023-01-18T11:00:15.761694Z",
     "start_time": "2023-01-18T11:00:15.759576Z"
    }
   },
   "outputs": [],
   "source": [
    "epochs = 100"
   ]
  },
  {
   "cell_type": "code",
   "execution_count": 10,
   "metadata": {
    "ExecuteTime": {
     "end_time": "2023-01-18T11:00:15.765731Z",
     "start_time": "2023-01-18T11:00:15.763353Z"
    }
   },
   "outputs": [],
   "source": [
    "from mytorch.loops import simplest_loop"
   ]
  },
  {
   "cell_type": "code",
   "execution_count": 11,
   "metadata": {
    "ExecuteTime": {
     "end_time": "2023-01-18T11:00:15.776136Z",
     "start_time": "2023-01-18T11:00:15.767173Z"
    }
   },
   "outputs": [],
   "source": [
    "def simplest_loop(epochs: int,\n",
    "                  data: dict,\n",
    "                  opt: torch.optim,\n",
    "                  loss_fn: torch.nn,\n",
    "                  train_fn: Callable,\n",
    "                  predict_fn: Callable,\n",
    "                  device: Union[str, torch.device] = torch.device('cpu'),\n",
    "                  data_fn: classmethod = dataiters.SimplestSampler,\n",
    "                  eval_fn: Callable = default_eval) -> (list, list, list):\n",
    "    \"\"\"\n",
    "        A fn which can be used to train a language model.\n",
    "\n",
    "        The model doesn't need to be an nn.Module,\n",
    "            but have an eval (optional), a train and a predict function.\n",
    "\n",
    "        Data should be a dict like so:\n",
    "            {\"train\":{\"x\":np.arr, \"y\":np.arr}, \"val\":{\"x\":np.arr, \"y\":np.arr} }\n",
    "\n",
    "        Train_fn must return both loss and y_pred\n",
    "\n",
    "        :param epochs: number of epochs to train for\n",
    "        :param data: a dict having keys train_x, test_x, train_y, test_y\n",
    "        :param device: torch device to create new tensor from data\n",
    "        :param opt: optimizer\n",
    "        :param loss_fn: loss function\n",
    "        :param train_fn: function to call with x and y\n",
    "        :param predict_fn: function to call with x (test)\n",
    "        :param data_fn: a class to which we can pass X and Y, and get an iterator.\n",
    "        :param eval_fn: (optional) function which when given pred and true, returns acc\n",
    "        :return: traces\n",
    "    \"\"\"\n",
    "\n",
    "    train_loss = []\n",
    "    train_acc = []\n",
    "    valid_acc = []\n",
    "    lrs = []\n",
    "\n",
    "    # Epoch level\n",
    "    for e in range(epochs):\n",
    "\n",
    "        per_epoch_loss = []\n",
    "        per_epoch_tr_acc = []\n",
    "\n",
    "        # Train\n",
    "        with Timer() as timer:\n",
    "\n",
    "            # Make data\n",
    "            trn_dl, val_dl = data_fn(data['train']), data_fn(data['valid'])\n",
    "\n",
    "            for x, y in tqdm(trn_dl):\n",
    "                opt.zero_grad()\n",
    "\n",
    "                _x = torch.tensor(x, dtype=torch.long, device=device)\n",
    "                _y = torch.tensor(y, dtype=torch.float, device=device)\n",
    "\n",
    "                y_pred = train_fn(_x)\n",
    "                loss = loss_fn(y_pred, _y)\n",
    "\n",
    "                per_epoch_tr_acc.append(eval_fn(y_pred=y_pred, y_true=_y).item())\n",
    "                per_epoch_loss.append(loss.item())\n",
    "\n",
    "                loss.backward()\n",
    "                opt.step()\n",
    "\n",
    "        # Val\n",
    "        with torch.no_grad():\n",
    "\n",
    "            per_epoch_vl_acc = []\n",
    "            for x, y in tqdm(val_dl):\n",
    "                _x = torch.tensor(x, dtype=torch.long, device=device)\n",
    "                _y = torch.tensor(y, dtype=torch.long, device=device)\n",
    "\n",
    "                y_pred = predict_fn(_x)\n",
    "\n",
    "                per_epoch_vl_acc.append(eval_fn(y_pred, _y).item())\n",
    "\n",
    "        # Bookkeep\n",
    "        train_acc.append(np.mean(per_epoch_tr_acc))\n",
    "        train_loss.append(np.mean(per_epoch_loss))\n",
    "        valid_acc.append(np.mean(per_epoch_vl_acc))\n",
    "\n",
    "        print(\"Epoch: %(epo)03d | Loss: %(loss).5f | Tr_c: %(tracc)0.5f | Vl_c: %(vlacc)0.5f | Time: %(time).3f min\"\n",
    "              % {'epo': e,\n",
    "                 'loss': float(np.mean(per_epoch_loss)),\n",
    "                 'tracc': float(np.mean(per_epoch_tr_acc)),\n",
    "                 'vlacc': float(np.mean(per_epoch_vl_acc)),\n",
    "                 'time': timer.interval / 60.0})\n",
    "\n",
    "    return train_acc, valid_acc, train_loss\n"
   ]
  },
  {
   "cell_type": "code",
   "execution_count": null,
   "metadata": {
    "ExecuteTime": {
     "start_time": "2023-01-18T11:00:13.668Z"
    }
   },
   "outputs": [
    {
     "data": {
      "application/vnd.jupyter.widget-view+json": {
       "model_id": "fb8e5a6567054c029004b55b10e4ccec",
       "version_major": 2,
       "version_minor": 0
      },
      "text/plain": [
       "  0%|          | 0/311 [00:00<?, ?it/s]"
      ]
     },
     "metadata": {},
     "output_type": "display_data"
    },
    {
     "name": "stderr",
     "output_type": "stream",
     "text": [
      "/home/priyansh/Dev/perm/conda/envs/main/lib/python3.8/site-packages/torch/nn/functional.py:1944: UserWarning: nn.functional.sigmoid is deprecated. Use torch.sigmoid instead.\n",
      "  warnings.warn(\"nn.functional.sigmoid is deprecated. Use torch.sigmoid instead.\")\n"
     ]
    }
   ],
   "source": [
    "traces = simplest_loop(\n",
    "    epochs = epochs,\n",
    "    data = {\"train\": {\"x\": X_train, \"y\": Y_train}, \"valid\": {\"x\": X_valid, \"y\": Y_valid}},\n",
    "    loss_fn = lfn,\n",
    "    train_fn = m,\n",
    "    predict_fn = m,\n",
    "    opt = opt\n",
    ")"
   ]
  },
  {
   "cell_type": "code",
   "execution_count": null,
   "metadata": {
    "ExecuteTime": {
     "start_time": "2023-01-18T11:00:13.671Z"
    }
   },
   "outputs": [],
   "source": [
    "Y_valid.mean()"
   ]
  },
  {
   "cell_type": "code",
   "execution_count": null,
   "metadata": {},
   "outputs": [],
   "source": []
  },
  {
   "cell_type": "code",
   "execution_count": null,
   "metadata": {},
   "outputs": [],
   "source": []
  }
 ],
 "metadata": {
  "kernelspec": {
   "display_name": "Python 3",
   "language": "python",
   "name": "python3"
  },
  "language_info": {
   "codemirror_mode": {
    "name": "ipython",
    "version": 3
   },
   "file_extension": ".py",
   "mimetype": "text/x-python",
   "name": "python",
   "nbconvert_exporter": "python",
   "pygments_lexer": "ipython3",
   "version": "3.8.5"
  }
 },
 "nbformat": 4,
 "nbformat_minor": 4
}
