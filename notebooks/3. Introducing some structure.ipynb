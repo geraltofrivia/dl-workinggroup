{
 "cells": [
  {
   "cell_type": "markdown",
   "metadata": {},
   "source": [
    "# Session 3\n",
    "\n",
    "### Goals:\n",
    "\n",
    "1. Generalize previous codebase to multiple data points\n",
    "2. Introduce torch.nn Module\n",
    "3. Introduce optimizers\n",
    "4. Train a linear classifier\n",
    "5. Train a FFNN"
   ]
  },
  {
   "cell_type": "code",
   "execution_count": null,
   "metadata": {},
   "outputs": [],
   "source": [
    "from matplotlib import pyplot as plt\n",
    "import numpy as np\n",
    "from IPython import display\n",
    "\n",
    "import seaborn as sns\n",
    "import torch"
   ]
  },
  {
   "cell_type": "code",
   "execution_count": null,
   "metadata": {},
   "outputs": [],
   "source": [
    "# Always set a seed in your file\n",
    "torch.manual_seed(42)"
   ]
  },
  {
   "cell_type": "code",
   "execution_count": null,
   "metadata": {
    "code_folding": [
     0,
     11,
     25
    ]
   },
   "outputs": [],
   "source": [
    "# Ignore these functions. They're here only to help with visualization.\n",
    "if True:\n",
    "\n",
    "    def viz_1d(X, Y, title = None):\n",
    "        \n",
    "        if isinstance(Y, torch.Tensor):\n",
    "            Y = Y.detach()\n",
    "            \n",
    "        plt.figure(figsize=(14, 10))\n",
    "        if title:\n",
    "            plt.title(title)\n",
    "        plt.scatter(X, Y)\n",
    "        plt.show()\n",
    "\n",
    "    def viz_pred(X, Y, Y_, title=None):\n",
    "        \n",
    "        if isinstance(Y_, torch.Tensor):\n",
    "            Y_ = Y_.detach()\n",
    "            \n",
    "        plt.figure(figsize=(14, 10))\n",
    "        if title:\n",
    "            plt.title(title)\n",
    "            \n",
    "        plt.plot(X, Y, 'o')\n",
    "        plt.plot(X, Y_, '+')\n",
    "    #     plt.scatter(X, Y, color='red')\n",
    "        plt.show()\n",
    "        \n",
    "    def viz_all(model, inputs,outputs= None, predictions= None,  ax=None ):\n",
    "        inputs_scale = (inputs.max()-inputs.min())/10.0\n",
    "        _X = torch.tensor(np.mgrid[inputs.min()-inputs_scale: inputs.max()+inputs_scale:0.1], dtype=torch.float32)\n",
    "        _X = _X.reshape(-1,1)\n",
    "        with torch.no_grad():\n",
    "            _Y = model(_X).detach()\n",
    "            \n",
    "        if ax is None: \n",
    "            fig = plt.figure(figsize=(14, 8), dpi=100)\n",
    "            ax = fig.add_subplot(111)\n",
    "            old_ax = False\n",
    "        else:\n",
    "            old_ax = True\n",
    "        \n",
    "        if outputs is not None:\n",
    "            ax.scatter(inputs, outputs,  c='b', marker=\"s\", label='Y Gold')\n",
    "        \n",
    "        if predictions is not None:\n",
    "            ax.scatter(inputs, predictions, c='r', marker='+', label='Y Pred')\n",
    "        \n",
    "        ax.plot(_X, _Y, label='model')\n",
    "        if not old_ax:\n",
    "            plt.legend(loc='upper left')\n",
    "            plt.show()\n",
    "    "
   ]
  },
  {
   "cell_type": "markdown",
   "metadata": {},
   "source": [
    "# Problem Definition"
   ]
  },
  {
   "cell_type": "code",
   "execution_count": null,
   "metadata": {},
   "outputs": [],
   "source": [
    "# Write a function to generate raw data\n",
    "def true_fn(x: torch.Tensor |  float) -> float:\n",
    "    \"\"\"Returns a linear transformation over the tensor: 3x+10\"\"\"\n",
    "    ...\n",
    "\n",
    "# Set a particular size of dataset (under 1k is good; 200 for now)\n",
    "n_samples = 200\n",
    "\n",
    "# Generate input samples\n",
    "X = torch.randint(-2*n_samples, 2*n_samples, (n_samples,)).float() / (2*n_samples)\n",
    "Y = [true_fn(x) for x in X]\n",
    "Y = torch.tensor(Y,dtype=torch.float32)\n",
    "fx = lambda x : (m*x) + c\n",
    "viz_1d(X, Y)"
   ]
  },
  {
   "cell_type": "markdown",
   "metadata": {},
   "source": [
    "# Solution Definition"
   ]
  },
  {
   "cell_type": "code",
   "execution_count": null,
   "metadata": {},
   "outputs": [],
   "source": [
    "# How we did it in the past\n",
    "\n",
    "# the lambda/regular function def\n",
    "m = ...\n",
    "c = ...\n",
    "fx = ...\n",
    "\n",
    "fx(10)"
   ]
  },
  {
   "cell_type": "code",
   "execution_count": null,
   "metadata": {},
   "outputs": [],
   "source": [
    "# How should we do it in the future\n",
    "class LinearRegressor:\n",
    "    ..."
   ]
  },
  {
   "cell_type": "code",
   "execution_count": null,
   "metadata": {},
   "outputs": [],
   "source": [
    "# Make model\n",
    "m = LinearRegressor()"
   ]
  },
  {
   "cell_type": "code",
   "execution_count": null,
   "metadata": {},
   "outputs": [],
   "source": [
    "# See model parameters (named params)"
   ]
  },
  {
   "cell_type": "code",
   "execution_count": null,
   "metadata": {},
   "outputs": [],
   "source": [
    "# See what the model looks like\n",
    "viz_all(m, X, Y)"
   ]
  },
  {
   "cell_type": "code",
   "execution_count": null,
   "metadata": {},
   "outputs": [],
   "source": [
    "# How do we use the model?\n",
    "# Which of these should work?\n",
    "q = torch.tensor(4)\n",
    "q = torch.randn(4,)\n",
    "q = torch.randn(4,1)\n",
    "q = torch.randn(4,4,1)\n",
    "q = torch.randn(10, 1)\n",
    "q = 10\n",
    "q = np.random.randn(10, 1)\n",
    "q = torch.randint(1, 10, (5, 1))\n",
    "q = torch.randn(5,3,5,2,4,1)\n",
    "m(q).shape, q.shape"
   ]
  },
  {
   "cell_type": "code",
   "execution_count": null,
   "metadata": {},
   "outputs": [],
   "source": [
    "# Q: Can we implement it without using 'layers'?\n",
    "class LinearRegressor: ...\n",
    "    \n",
    "list(LinearRegressor().named_parameters())"
   ]
  },
  {
   "cell_type": "markdown",
   "metadata": {},
   "source": [
    "#### Why model class?\n",
    "\n",
    "- Saving/Loading from Disk\n",
    "- Setting training mode/evaluation mode\n",
    "- Easy access to all parameters\n",
    "- Structure is v. important for complex models\n",
    "- That is 'pytorch' way!"
   ]
  },
  {
   "cell_type": "markdown",
   "metadata": {},
   "source": [
    "# Let's train it now\n",
    "\n",
    "We need three things:\n",
    "\n",
    "1. The model itself\n",
    "2. The loss function of choice\n",
    "3. A way to update the parameters after computing the loss"
   ]
  },
  {
   "cell_type": "code",
   "execution_count": null,
   "metadata": {},
   "outputs": [],
   "source": [
    "#  Loss fn, as before\n",
    "lfn = torch.nn.MSELoss(reduction='sum')"
   ]
  },
  {
   "cell_type": "code",
   "execution_count": null,
   "metadata": {},
   "outputs": [],
   "source": [
    "# Make optimizer instead of updating parameters on our own\n",
    "opt = ..."
   ]
  },
  {
   "cell_type": "code",
   "execution_count": null,
   "metadata": {},
   "outputs": [],
   "source": [
    "# See optimizer things (param groups)\n",
    "opt.param_groups"
   ]
  },
  {
   "cell_type": "code",
   "execution_count": null,
   "metadata": {},
   "outputs": [],
   "source": [
    "# All the constituents of our 'algorithm'\n",
    "m, lfn, opt"
   ]
  },
  {
   "cell_type": "code",
   "execution_count": null,
   "metadata": {},
   "outputs": [],
   "source": [
    "# For how many iterations should we run our loop?\n",
    "epochs = 2000"
   ]
  },
  {
   "cell_type": "code",
   "execution_count": null,
   "metadata": {},
   "outputs": [],
   "source": [
    "\n",
    "fig = plt.figure(figsize = (10,4))\n",
    "ax1 = fig.add_subplot(111)\n",
    "# xlim = (-1,2, 1.2)\n",
    "# ylim = (-1, 14)\n",
    "# ax1.set_xlim(-1.2, 1.2)\n",
    "# ax1.set_ylim(-1, 14)\n",
    "losses = []\n",
    "\n",
    "# our dataset = X, Y\n",
    "\n",
    "for e in range(epochs):\n",
    "\n",
    "    opt.zero_grad() \n",
    "    \n",
    "    # Lets sample a batch\n",
    "    Xrange = torch.randint(0, n_samples, (20, 1\n",
    "                                          ))\n",
    "    _X = X[Xrange]\n",
    "    _Y = Y[Xrange]\n",
    "    \n",
    "    # Make model predictions\n",
    "    \n",
    "    \n",
    "    # Calculate Loss\n",
    "    \n",
    "    \n",
    "    print(f\"Parameterres before update:\\n\\tm: {m.linear_layer.weight.item()}\\tgrad: {m.linear_layer.weight.grad.item() if m.linear_layer.weight.grad else None}\\n\\ta2: {m.linear_layer.bias.item()}\\tgrad: {m.linear_layer.bias.grad.item() if m.linear_layer.bias.grad else None}\")\n",
    "\n",
    "    # Backpropagate\n",
    "    \n",
    "    \n",
    "    # Update Parameters (m = m - lr*(dL/dm))\n",
    "    \n",
    "    \n",
    "    print(f\"Parameters before update:\\n\\tm: {m.linear_layer.weight.item()}\\tgrad: {m.linear_layer.weight.grad.item() if m.linear_layer.weight.grad else None}\\n\\ta2: {m.linear_layer.bias.item()}\\tgrad: {m.linear_layer.bias.grad.item() if m.linear_layer.bias.grad else None}\")\n",
    "    with torch.no_grad():\n",
    "        ...\n",
    "        print(loss.item())\n",
    "#         ax1.set_xlim(xlim[0], xlim[1])\n",
    "#         ax1.set_ylim(ylim[0], ylim[1])\n",
    "        viz_all(model=m, inputs=_X, outputs=_Y, ax=ax1)\n",
    "#         viz_all(model=m, inputs=_X, outputs=_Y)\n",
    "        display.display(plt.gcf())\n",
    "\n",
    "    cmd = input('$: ')\n",
    "    if cmd.lower().strip() in ['quit', 'q', 'exit', 'stop']:\n",
    "        break\n",
    "\n",
    "    plt.cla()\n",
    "    display.clear_output(wait =True)\n",
    "    losses.append(loss.item())\n",
    "        \n",
    "    if loss.item() < 0.001:\n",
    "        print('Model fully converged. Stopping.')\n",
    "#         viz_all(model=m, inputs=X, outputs=Y)\n",
    "        break"
   ]
  },
  {
   "cell_type": "code",
   "execution_count": null,
   "metadata": {},
   "outputs": [],
   "source": [
    "plt.plot(losses)\n",
    "plt.show()\n",
    "plt.plot(torch.log(torch.tensor(losses)))\n",
    "plt.show()\n"
   ]
  },
  {
   "cell_type": "code",
   "execution_count": null,
   "metadata": {},
   "outputs": [],
   "source": []
  }
 ],
 "metadata": {
  "kernelspec": {
   "display_name": "main",
   "language": "python",
   "name": "python3"
  },
  "language_info": {
   "codemirror_mode": {
    "name": "ipython",
    "version": 3
   },
   "file_extension": ".py",
   "mimetype": "text/x-python",
   "name": "python",
   "nbconvert_exporter": "python",
   "pygments_lexer": "ipython3",
   "version": "3.11.10"
  }
 },
 "nbformat": 4,
 "nbformat_minor": 4
}
