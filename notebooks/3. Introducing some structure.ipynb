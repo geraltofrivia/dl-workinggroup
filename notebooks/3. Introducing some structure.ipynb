{
 "cells": [
  {
   "cell_type": "markdown",
   "metadata": {},
   "source": [
    "# Session 3\n",
    "\n",
    "### Goals:\n",
    "\n",
    "1. Generalize previous codebase to multiple data points\n",
    "2. Introduce torch.nn Module\n",
    "3. Introduce optimizers\n",
    "4. Train a linear classifier\n",
    "5. Train a FFNN"
   ]
  },
  {
   "cell_type": "code",
   "execution_count": null,
   "metadata": {},
   "outputs": [],
   "source": [
    "from matplotlib import pyplot as plt\n",
    "import numpy as np\n",
    "from IPython import display\n",
    "\n",
    "import seaborn as sns\n",
    "import torch"
   ]
  },
  {
   "cell_type": "code",
   "execution_count": null,
   "metadata": {},
   "outputs": [],
   "source": [
    "torch.manual_seed(42)"
   ]
  },
  {
   "cell_type": "code",
   "execution_count": null,
   "metadata": {
    "code_folding": [
     0,
     11,
     25
    ]
   },
   "outputs": [],
   "source": [
    "def viz_1d(X, Y, title = None):\n",
    "    \n",
    "    if isinstance(Y, torch.Tensor):\n",
    "        Y = Y.detach()\n",
    "        \n",
    "    plt.figure(figsize=(14, 10))\n",
    "    if title:\n",
    "        plt.title(title)\n",
    "    plt.scatter(X, Y)\n",
    "    plt.show()\n",
    "\n",
    "def viz_pred(X, Y, Y_, title=None):\n",
    "    \n",
    "    if isinstance(Y_, torch.Tensor):\n",
    "        Y_ = Y_.detach()\n",
    "        \n",
    "    plt.figure(figsize=(14, 10))\n",
    "    if title:\n",
    "        plt.title(title)\n",
    "        \n",
    "    plt.plot(X, Y, 'o')\n",
    "    plt.plot(X, Y_, '+')\n",
    "#     plt.scatter(X, Y, color='red')\n",
    "    plt.show()\n",
    "    \n",
    "def viz_all(model, inputs,outputs= None, predictions= None,  ax=None ):\n",
    "    inputs_scale = (inputs.max()-inputs.min())/10.0\n",
    "    _X = torch.tensor(np.mgrid[inputs.min()-inputs_scale: inputs.max()+inputs_scale:0.1])\n",
    "    with torch.no_grad():\n",
    "        _Y = model(_X).detach()\n",
    "        \n",
    "    if ax is None: \n",
    "        fig = plt.figure(figsize=(14, 8), dpi=100)\n",
    "        ax = fig.add_subplot(111)\n",
    "        old_ax = False\n",
    "    else:\n",
    "        old_ax = True\n",
    "    \n",
    "    if outputs is not None:\n",
    "        ax.scatter(inputs, outputs,  c='b', marker=\"s\", label='Y Gold')\n",
    "    \n",
    "    if predictions is not None:\n",
    "        ax.scatter(inputs, predictions, c='r', marker='+', label='Y Pred')\n",
    "    \n",
    "    ax.plot(_X, _Y, label='model')\n",
    "    if not old_ax:\n",
    "        plt.legend(loc='upper left')\n",
    "        plt.show()\n",
    "    "
   ]
  },
  {
   "cell_type": "code",
   "execution_count": null,
   "metadata": {},
   "outputs": [],
   "source": [
    "\n",
    "def true_fn(x):\n",
    "#     return float(x**2 - (x) + 3)\n",
    "    return float(3*x + 10)\n",
    "\n",
    "n_samples = 200\n",
    "X = torch.randint(-400, 400, (n_samples,))\n",
    "Y = [true_fn(x) for x in X]\n",
    "Y = torch.tensor(Y)\n",
    "fx = lambda x : (m*x) + c\n",
    "viz_1d(X, Y)"
   ]
  },
  {
   "cell_type": "code",
   "execution_count": null,
   "metadata": {},
   "outputs": [],
   "source": [
    "# fx = lambda x : (m*x) + c\n",
    "\n",
    "\n",
    "class LinClf(torch.nn.Module):\n",
    "    \n",
    "    def __init__(self,):\n",
    "        # we declare the params here\n",
    "        super().__init__()\n",
    "        \n",
    "        self.m = torch.nn.Parameter(torch.tensor(3.5))\n",
    "        self.c = torch.nn.Parameter(torch.tensor(9.0))\n",
    "        \n",
    "    def forward(self, inputs):\n",
    "        # we define 'what to do with params here'\n",
    "        return (inputs*self.m) + self.c\n",
    "    "
   ]
  },
  {
   "cell_type": "code",
   "execution_count": null,
   "metadata": {},
   "outputs": [],
   "source": [
    "class TwoOrderClf(torch.nn.Module):\n",
    "    ..."
   ]
  },
  {
   "cell_type": "code",
   "execution_count": null,
   "metadata": {},
   "outputs": [],
   "source": [
    "# Make model\n",
    "m = LinClf()"
   ]
  },
  {
   "cell_type": "raw",
   "metadata": {},
   "source": [
    "# See model: parameters etc\n",
    "list(m.named_parameters())"
   ]
  },
  {
   "cell_type": "code",
   "execution_count": null,
   "metadata": {},
   "outputs": [],
   "source": [
    "#  and loss fn\n",
    "lfn = torch.nn.MSELoss(reduction='mean')"
   ]
  },
  {
   "cell_type": "code",
   "execution_count": null,
   "metadata": {},
   "outputs": [],
   "source": [
    "viz_all(m, X, Y)"
   ]
  },
  {
   "cell_type": "raw",
   "metadata": {},
   "source": [
    "# Practice using model to make predictions (model __call__ and forward)\n",
    "q = torch.randn(10)\n",
    "m(q), q"
   ]
  },
  {
   "cell_type": "markdown",
   "metadata": {},
   "source": [
    "## Why model class?\n",
    "\n",
    "- Saving/Loading from Disk\n",
    "- Setting training mode/evaluation mode\n",
    "- Easy access to all parameters\n",
    "- Structure is v. important for complex models\n",
    "- That is 'pytorch' way!"
   ]
  },
  {
   "cell_type": "code",
   "execution_count": null,
   "metadata": {},
   "outputs": [],
   "source": [
    "# Make optimizer\n",
    "opt = torch.optim.SGD(m.parameters(), lr=0.00005)"
   ]
  },
  {
   "cell_type": "code",
   "execution_count": null,
   "metadata": {},
   "outputs": [],
   "source": [
    "# See optimizer things (param groups)\n",
    "opt.param_groups"
   ]
  },
  {
   "cell_type": "code",
   "execution_count": null,
   "metadata": {},
   "outputs": [],
   "source": [
    "m, lfn, opt"
   ]
  },
  {
   "cell_type": "code",
   "execution_count": null,
   "metadata": {},
   "outputs": [],
   "source": [
    "epochs = 2000"
   ]
  },
  {
   "cell_type": "code",
   "execution_count": null,
   "metadata": {},
   "outputs": [],
   "source": [
    "\n",
    "fig = plt.figure(figsize = (10,4))\n",
    "ax1 = fig.add_subplot(111)\n",
    "# xlim = (-1,2, 1.2)\n",
    "# ylim = (-1, 14)\n",
    "# ax1.set_xlim(-1.2, 1.2)\n",
    "# ax1.set_ylim(-1, 14)\n",
    "losses = []\n",
    "\n",
    "# our dataset = X, Y\n",
    "\n",
    "for e in range(epochs):\n",
    "\n",
    "    opt.zero_grad() \n",
    "    \n",
    "    # Lets sample a batch\n",
    "    Xrange = torch.randint(0, n_samples, (20, ))\n",
    "    _X = X[Xrange]\n",
    "    _Y = Y[Xrange]\n",
    "    \n",
    "    # Make model predictions\n",
    "    Y_pred = m(_X)\n",
    "    \n",
    "    # Calculate Loss\n",
    "    loss = lfn(Y_pred, _Y)\n",
    "    \n",
    "#     print(f\"Parameters before update:\\n\\ta1: {m.a1.item()}\\tgrad: {m.a1.grad.item() if m.a1.grad else None}\\n\\ta2: {m.a2.item()}\\tgrad: {m.a2.grad.item() if m.a2.grad else None}\\n\\t\\n\\ta1: {m.a3.item()}\\tgrad: {m.a3.grad.item() if m.a3.grad else None}\")\n",
    "    print(f\"Parameterres before update:\\n\\tm: {m.m.item()}\\tgrad: {m.m.grad.item() if m.m.grad else None}\\n\\ta2: {m.c.item()}\\tgrad: {m.c.grad.item() if m.c.grad else None}\")\n",
    "\n",
    "    # Backpropagate\n",
    "    loss.backward()\n",
    "    \n",
    "    # Update Parameters (m = m - lr*(dL/dm))\n",
    "    opt.step()\n",
    "    \n",
    "#     print(f\"Parametrs after update:\\n\\ta1: {m.a1.item()}\\tgrad: {m.a1.grad.item() if m.a1.grad else None}\\n\\ta2: {m.a2.item()}\\tgrad: {m.a2.grad.item() if m.a2.grad else None}\\n\\t\\n\\ta1: {m.a3.item()}\\tgrad: {m.a3.grad.item() if m.a3.grad else None}\")\n",
    "    print(f\"Parameters before update:\\n\\tm: {m.m.item()}\\tgrad: {m.m.grad.item() if m.m.grad else None}\\n\\ta2: {m.c.item()}\\tgrad: {m.c.grad.item() if m.c.grad else None}\")\n",
    "    with torch.no_grad():\n",
    "        ...\n",
    "        print(loss.item())\n",
    "#         ax1.set_xlim(xlim[0], xlim[1])\n",
    "#         ax1.set_ylim(ylim[0], ylim[1])\n",
    "        viz_all(model=m, inputs=_X, outputs=_Y, ax=ax1)\n",
    "#         viz_all(model=m, inputs=_X, outputs=_Y)\n",
    "        display.display(plt.gcf())\n",
    "\n",
    "    cmd = input('$: ')\n",
    "    if cmd.lower().strip() in ['quit', 'q', 'exit', 'stop']:\n",
    "        break\n",
    "\n",
    "    plt.cla()\n",
    "    display.clear_output(wait =True)\n",
    "    losses.append(loss.item())\n",
    "        \n",
    "    if loss.item() < 0.001:\n",
    "        print('Model fully converged. Stopping.')\n",
    "        viz_all(model=m, inputs=X, outputs=Y)\n",
    "        break"
   ]
  }
 ],
 "metadata": {
  "kernelspec": {
   "display_name": "Python 3",
   "language": "python",
   "name": "python3"
  },
  "language_info": {
   "codemirror_mode": {
    "name": "ipython",
    "version": 3
   },
   "file_extension": ".py",
   "mimetype": "text/x-python",
   "name": "python",
   "nbconvert_exporter": "python",
   "pygments_lexer": "ipython3",
   "version": "3.8.5"
  }
 },
 "nbformat": 4,
 "nbformat_minor": 4
}
