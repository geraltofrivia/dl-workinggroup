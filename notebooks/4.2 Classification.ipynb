{
 "cells": [
  {
   "cell_type": "markdown",
   "metadata": {},
   "source": [
    "# Session 4.2 Classification\n",
    "\n",
    "### Goals:\n",
    "\n",
    "1. Linear Data, Linear Model\n",
    "2. Quad Data, Linear Model\n",
    "3. Quad Data, Quad Model"
   ]
  },
  {
   "cell_type": "code",
   "execution_count": null,
   "metadata": {},
   "outputs": [],
   "source": [
    "from matplotlib import pyplot as plt\n",
    "import numpy as np\n",
    "from IPython import display\n",
    "\n",
    "import seaborn as sns\n",
    "import torch\n",
    "import torch.nn as nn"
   ]
  },
  {
   "cell_type": "code",
   "execution_count": null,
   "metadata": {},
   "outputs": [],
   "source": [
    "torch.manual_seed(42)"
   ]
  },
  {
   "cell_type": "code",
   "execution_count": null,
   "metadata": {
    "code_folding": [
     0,
     11,
     17,
     56
    ]
   },
   "outputs": [],
   "source": [
    "def viz_1d(X, Y, title = None):\n",
    "    \n",
    "    if isinstance(Y, torch.Tensor):\n",
    "        Y = Y.detach()\n",
    "        \n",
    "    plt.figure(figsize=(7, 4))\n",
    "    if title:\n",
    "        plt.title(title)\n",
    "    plt.scatter(X, Y)\n",
    "    plt.show()\n",
    "    \n",
    "def viz_2d(X, Y, title=None):\n",
    "    plt.figure(figsize=(16, 10))\n",
    "    plt.title(\"Dataset\" if not title else title)\n",
    "    plt.scatter(X[:, 0], X[:, 1], c=Y, cmap=\"viridis\")\n",
    "    plt.show()\n",
    "  \n",
    "def viz_all(X, Y, model, f=None, ax=None, save=False, name_to_save=\"\"):\n",
    "    sns.set(style=\"white\")\n",
    "\n",
    "    xx, yy = np.mgrid[-1.1:1.1:.01, -1.1:1.1:.01]\n",
    "    grid = np.c_[xx.ravel(), yy.ravel()]\n",
    "    batch = torch.from_numpy(grid).type(torch.float32)\n",
    "    with torch.no_grad():\n",
    "        probs = model(batch).reshape(xx.shape)\n",
    "        probs = probs.numpy().reshape(xx.shape)\n",
    "        \n",
    "    if (f is None and ax is not None) or (f is not None and ax is None):\n",
    "        raise ValueError(f\"F and AX both should either be None or not\")\n",
    "    \n",
    "    old_ax = False\n",
    "    if f is None and ax is None:\n",
    "        f, ax = plt.subplots(figsize=(16, 10))\n",
    "        old_ax = True\n",
    "        \n",
    "        \n",
    "    ax.set_title(\"Decision boundary\", fontsize=14)\n",
    "    contour = ax.contourf(xx, yy, probs, 25, cmap=\"RdBu\",\n",
    "                          vmin=0, vmax=1)\n",
    "    ax_c = f.colorbar(contour)\n",
    "    ax_c.set_label(\"$P(y = 1)$\")\n",
    "    ax_c.set_ticks([0, .25, .5, .75, 1])\n",
    "\n",
    "\n",
    "    \n",
    "\n",
    "    ax.scatter(X[:,0], X[:, 1], c=Y[:], s=50,\n",
    "               cmap=\"RdBu\", vmin=-.2, vmax=1.2,\n",
    "               edgecolor=\"white\", linewidth=1)\n",
    "\n",
    "    ax.set(xlabel=\"$X_1$\", ylabel=\"$X_2$\")\n",
    "    \n",
    "    if not old_ax:\n",
    "        plt.show()\n",
    "\n",
    "    \n",
    "def report(model: torch.nn.Module, title='Parameters before update:'):\n",
    "    op = title[::]\n",
    "    for np in model.named_parameters():\n",
    "        op += f\"\\n\\t{np[0]}: {np[1].data.item() if not np[1].shape.__len__()>1 else np[1].data}\\tgrad: {np[1].grad if np[1].grad is not None else None}\"\n",
    "    print(op)"
   ]
  },
  {
   "cell_type": "code",
   "execution_count": null,
   "metadata": {},
   "outputs": [],
   "source": [
    "\n",
    "def true_fn_lin(x):\n",
    "    return float(float(2.3*x[0] + 0.1) > x[1])\n",
    "\n",
    "\n",
    "\n",
    "n_samples = 200\n",
    "X_lin = torch.randint(-400, 400, (n_samples,2)).float() / 400\n",
    "Y_lin = torch.tensor([true_fn_lin(x) for x in X_lin])\n"
   ]
  },
  {
   "cell_type": "code",
   "execution_count": null,
   "metadata": {},
   "outputs": [],
   "source": [
    "viz_2d(X_lin, Y_lin, 'Linear')"
   ]
  },
  {
   "cell_type": "code",
   "execution_count": null,
   "metadata": {},
   "outputs": [],
   "source": []
  }
 ],
 "metadata": {
  "kernelspec": {
   "display_name": "Python 3",
   "language": "python",
   "name": "python3"
  },
  "language_info": {
   "codemirror_mode": {
    "name": "ipython",
    "version": 3
   },
   "file_extension": ".py",
   "mimetype": "text/x-python",
   "name": "python",
   "nbconvert_exporter": "python",
   "pygments_lexer": "ipython3",
   "version": "3.8.5"
  }
 },
 "nbformat": 4,
 "nbformat_minor": 4
}
