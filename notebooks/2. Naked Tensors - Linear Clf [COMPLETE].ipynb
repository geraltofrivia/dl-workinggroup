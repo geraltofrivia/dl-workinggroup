{
 "cells": [
  {
   "cell_type": "markdown",
   "metadata": {},
   "source": [
    "# To fill by yourself.\n",
    "\n",
    "Because **writing** is much more involved than **reading**.\n",
    "\n",
    "The `prefilled` version is available already as `2. Naked Tensors - Linear Clf.ipynb` in this folder.\n",
    "\n",
    "Please **disable copilot** for this notebook."
   ]
  },
  {
   "cell_type": "code",
   "execution_count": null,
   "metadata": {},
   "outputs": [],
   "source": [
    "import torch"
   ]
  },
  {
   "cell_type": "code",
   "execution_count": null,
   "metadata": {},
   "outputs": [],
   "source": [
    "torch.manual_seed(42)"
   ]
  },
  {
   "cell_type": "markdown",
   "metadata": {},
   "source": [
    "$$x_i \\in \\mathcal{X} \\subset \\mathcal{R} \\\\ y_i \\in \\mathcal{Y} \\subset \\mathcal{R}$$"
   ]
  },
  {
   "cell_type": "code",
   "execution_count": null,
   "metadata": {},
   "outputs": [],
   "source": [
    "# Only one data instance\n",
    "x = torch.tensor(10)\n",
    "y = torch.tensor(2)"
   ]
  },
  {
   "cell_type": "markdown",
   "metadata": {},
   "source": [
    "$$  f: \\mathcal{X} \\rightarrow \\mathcal{Y} \\\\ \\hat{y}_i = f(x; (m, c)) = m\\times x + c$$"
   ]
  },
  {
   "cell_type": "code",
   "execution_count": null,
   "metadata": {},
   "outputs": [],
   "source": [
    "# Simplest possible model -- Linear\n",
    "\n",
    "# 1. Define the parameters\n",
    "m = torch.randn(1, requires_grad=True)\n",
    "c = torch.randn(1, requires_grad=True)\n",
    "\n",
    "\n",
    "print(m, c)"
   ]
  },
  {
   "cell_type": "code",
   "execution_count": null,
   "metadata": {},
   "outputs": [],
   "source": [
    "# 2. Define the model\n",
    "\n",
    "# fx = lambda x : (m*x) + c\n",
    "def fx(x):\n",
    "    return (m*x) + c\n"
   ]
  },
  {
   "cell_type": "markdown",
   "metadata": {},
   "source": [
    "$$ L_{mse} = \\frac{1}{2n} \\sum_{i=1}^{n} (\\hat{y_i} - y_i)^2 $$"
   ]
  },
  {
   "cell_type": "code",
   "execution_count": null,
   "metadata": {},
   "outputs": [],
   "source": [
    "# Define the loss function\n",
    "def mse(y_pred, y_true):\n",
    "    return 0.5*(y_pred-y_true)**2"
   ]
  },
  {
   "cell_type": "markdown",
   "metadata": {},
   "source": [
    "$$\\theta_i^{T+1} = \\theta_i^{T} - \\mathbf{\\gamma} \\frac{\\partial\\ L(\\ldots; \\Theta)}{\\partial\\ \\theta_i }  $$"
   ]
  },
  {
   "cell_type": "code",
   "execution_count": null,
   "metadata": {},
   "outputs": [],
   "source": [
    "# Set a learning rate parameter\n",
    "lr = 0.01"
   ]
  },
  {
   "cell_type": "code",
   "execution_count": null,
   "metadata": {},
   "outputs": [],
   "source": [
    "ypred = fx(x)\n",
    "print(ypred, y)\n",
    "\n",
    "loss = mse(ypred, y)\n",
    "loss"
   ]
  },
  {
   "cell_type": "code",
   "execution_count": null,
   "metadata": {},
   "outputs": [],
   "source": [
    "loss.backward()"
   ]
  },
  {
   "cell_type": "code",
   "execution_count": null,
   "metadata": {},
   "outputs": [],
   "source": [
    "m, m.grad, c, c.grad"
   ]
  },
  {
   "cell_type": "markdown",
   "metadata": {},
   "source": [
    "### Deriving the Gradient manually"
   ]
  },
  {
   "cell_type": "markdown",
   "metadata": {},
   "source": [
    "When thinking of only one input sample (x,y) = (10, 2); we can think of the loss + gradient as follows:\n",
    "\n",
    "$$ L_{mse} = \\frac{1}{2} (\\hat{y} - y)^2  = \\frac{1}{2} e^2 $$\n",
    "\n",
    "where \n",
    "\n",
    "$$ e = (\\hat{y} - y) = m \\times x + c - y $$\n",
    "\n",
    "**Let us compute gradients of parameter w.r.t this term $e$**\n",
    "\n",
    "$$ \\frac{\\partial e}{\\partial m} = x \\\\ \\ \\\\\n",
    "\\frac{\\partial e}{\\partial c} = 1\n",
    "$$\n",
    "\n",
    "Then, recall that\n",
    "\n",
    "$$\n",
    "    L = \\frac{1}{2} e^2\n",
    "$$\n",
    "\n",
    "Therefore,\n",
    "\n",
    "$$\n",
    "\\frac{\\partial L}{\\partial e} = e\n",
    "$$\n",
    "\n",
    "Putting it all together, using chain rule of derivates, we get \n",
    "\n",
    "$$\n",
    "\\frac{\\partial L}{\\partial m} = \\frac{\\partial L}{\\partial e} \\times \\frac{\\partial e}{\\partial m} = e x = (m\\times x + c - y)x\n",
    "$$\n",
    "\n",
    "and\n",
    "\n",
    "$$\n",
    "\\frac{\\partial L}{\\partial c} = \\frac{\\partial L}{\\partial e} \\times \\frac{\\partial e}{\\partial c} = e = (m\\times x + c - y)\n",
    "$$\n"
   ]
  },
  {
   "cell_type": "markdown",
   "metadata": {},
   "source": [
    "### But does this actually hold?"
   ]
  },
  {
   "cell_type": "code",
   "execution_count": null,
   "metadata": {},
   "outputs": [],
   "source": [
    "(m*x + c - y)*x, (m*x + c - y)"
   ]
  },
  {
   "cell_type": "markdown",
   "metadata": {},
   "source": [
    "### Gradient Accumulates in the grad attribute"
   ]
  },
  {
   "cell_type": "code",
   "execution_count": null,
   "metadata": {},
   "outputs": [],
   "source": [
    "y_pred = fx(x)\n",
    "loss = mse(y_pred, y)\n",
    "\n",
    "print(y_pred, y, loss)\n",
    "\n",
    "print(m.grad, c.grad)\n",
    "loss.backward()\n",
    "print(m.grad, c.grad)"
   ]
  },
  {
   "cell_type": "code",
   "execution_count": null,
   "metadata": {},
   "outputs": [],
   "source": [
    "# Current gradient is the same as 'doing it twice'\n",
    "m.grad/2, c.grad/2"
   ]
  },
  {
   "cell_type": "code",
   "execution_count": null,
   "metadata": {},
   "outputs": [],
   "source": [
    "m.grad, c.grad"
   ]
  },
  {
   "cell_type": "markdown",
   "metadata": {},
   "source": [
    "# Running the entire thing\n",
    "\n",
    "Hint: press enter to continue. Input 'q' to stop.\n",
    "Play around with lr to see different things ;)"
   ]
  },
  {
   "cell_type": "code",
   "execution_count": null,
   "metadata": {},
   "outputs": [],
   "source": [
    "values_of_loss = []\n",
    "values_of_m = []\n",
    "values_of_c = []\n",
    "values_of_ypred = []\n",
    "\n",
    "for i in range(2000):\n",
    "    # Calcualte model predictions\n",
    "    y_pred = fx(x)\n",
    "    \n",
    "    \n",
    "    # Compare the prediction with our goal\n",
    "    loss = mse(y_pred, y)\n",
    "    print(f\"Loss: {loss}\\nTrue: {y}\\nPred: {y_pred.item()}\")\n",
    "    \n",
    "    # Reset the gradients before computing new ones\n",
    "    if m.grad:\n",
    "        m.grad.zero_()\n",
    "        c.grad.zero_()\n",
    "    print(f\"Parameters before update:\\n\\tm: {m.item()}\\tgrad: {m.grad.item()}\\n\\tc: {c.item()}\\tgrad: {c.grad.item()}\")\n",
    "        \n",
    "    # Compute new gradients: BACKPROPAGATE\n",
    "    loss.backward()\n",
    "    \n",
    "    with torch.no_grad():\n",
    "        m.copy_(m - (lr*m.grad))\n",
    "        c.copy_(m - (lr*m.grad))\n",
    "        \n",
    "        \n",
    "    print(f\"Parametrs after update:\\n\\tm: {m.item()}\\tgrad: {m.grad.item()  if c.grad else None}\\n\\tc: {c.item()}\\tgrad: {c.grad.item() if c.grad else None}\")\n",
    "\n",
    "    # Bookkeeping \n",
    "    values_of_ypred.append(y_pred.item())\n",
    "    values_of_m.append(m.item())\n",
    "    values_of_c.append(c.item())\n",
    "    values_of_loss.append(loss.item())\n",
    "\n",
    "    print('------', i, '------')\n",
    "    cmd = input().strip()\n",
    "    if cmd in ['q', 'exit', 'break']:\n",
    "        break\n",
    "    \n",
    "    if loss.item() == 0:\n",
    "        print('Model fully converged. Stopping.')\n",
    "        break"
   ]
  },
  {
   "cell_type": "code",
   "execution_count": null,
   "metadata": {},
   "outputs": [],
   "source": [
    "\n",
    "\n",
    "from matplotlib import pyplot as plt\n",
    "def plot_trace(list_of_vals, title: str=None):\n",
    "    plt.figure(figsize=(10, 6))\n",
    "    fig = plt.plot(list_of_vals)\n",
    "    plt.title(title)\n",
    "    \n",
    "plot_trace(values_of_loss, \"Loss\")\n",
    "plot_trace(values_of_ypred, \"y pred\")\n",
    "plot_trace(values_of_m, \"param: m\")\n",
    "plot_trace(values_of_c, \"param: c\")"
   ]
  },
  {
   "cell_type": "markdown",
   "metadata": {},
   "source": [
    "# Change: Have multiple examples in training data"
   ]
  },
  {
   "cell_type": "code",
   "execution_count": null,
   "metadata": {},
   "outputs": [],
   "source": [
    "torch.manual_seed(42)"
   ]
  },
  {
   "cell_type": "code",
   "execution_count": null,
   "metadata": {},
   "outputs": [],
   "source": [
    "\n",
    "\n",
    "x = torch.tensor([1., 2., 3., 4., 5.])\n",
    "y = torch.tensor([2., 3., 4., 5., 6.])\n",
    "\n",
    "m = torch.randn(1, requires_grad=True)\n",
    "c = torch.randn(1, requires_grad=True)\n",
    "m, c\n"
   ]
  },
  {
   "cell_type": "code",
   "execution_count": null,
   "metadata": {},
   "outputs": [],
   "source": [
    "y_pred = m*x + c\n",
    "\n",
    "# This does not give us 'one number'. We need to reduce it to one number\n",
    "mse(y_pred, y)"
   ]
  },
  {
   "cell_type": "code",
   "execution_count": null,
   "metadata": {},
   "outputs": [],
   "source": [
    "def mse_avg(y_pred, y_true):\n",
    "    return 0.5*torch.mean((y_pred-y_true)**2)"
   ]
  },
  {
   "cell_type": "code",
   "execution_count": null,
   "metadata": {},
   "outputs": [],
   "source": [
    "# Let's try this again\n",
    "loss = mse_avg(y_pred, y)"
   ]
  },
  {
   "cell_type": "code",
   "execution_count": null,
   "metadata": {},
   "outputs": [],
   "source": [
    "# Set a learning rate\n",
    "lr = 0.01"
   ]
  },
  {
   "cell_type": "code",
   "execution_count": null,
   "metadata": {},
   "outputs": [],
   "source": [
    "# Backpropagate\n",
    "loss.backward()\n",
    "\n",
    "m, m.grad, c, c.grad"
   ]
  },
  {
   "cell_type": "code",
   "execution_count": null,
   "metadata": {},
   "outputs": [],
   "source": [
    "values_of_loss = []\n",
    "values_of_m = []\n",
    "values_of_c = []\n",
    "# values_of_ypred = []\n",
    "\n",
    "for i in range(2000):\n",
    "    # Calcualte model predictions\n",
    "    y_pred = fx(x)\n",
    "    \n",
    "    \n",
    "    # Compare the prediction with our goal\n",
    "    loss = mse_avg(y_pred, y)\n",
    "    print(f\"Loss: {loss}\\nTrue: {y}\\nPred: {y_pred}\")\n",
    "    \n",
    "    # Reset the gradients before computing new ones\n",
    "    if m.grad:\n",
    "        m.grad.zero_()\n",
    "        c.grad.zero_()\n",
    "        \n",
    "    print(f\"Parameters before update:\\n\\tm: {m.item()}\\tgrad: {m.grad.item()}\\n\\tc: {c.item()}\\tgrad: {c.grad.item()}\")\n",
    "    \n",
    "    # Compute new gradients: BACKPROPAGATE\n",
    "    loss.backward()\n",
    "    \n",
    "    with torch.no_grad():\n",
    "        m.copy_(m - (lr*m.grad))\n",
    "        c.copy_(m - (lr*m.grad))\n",
    "        \n",
    "        \n",
    "    print(f\"Parametrs after update:\\n\\tm: {m.item()}\\tgrad: {m.grad.item()  if c.grad else None}\\n\\tc: {c.item()}\\tgrad: {c.grad.item() if c.grad else None}\")\n",
    "\n",
    "    # Bookkeeping \n",
    "    # values_of_ypred.append(y_pred.item())\n",
    "    values_of_m.append(m.item())\n",
    "    values_of_c.append(c.item())\n",
    "    values_of_loss.append(loss.item())\n",
    "\n",
    "    print('------', i, '------')\n",
    "    cmd = input().strip()\n",
    "    if cmd in ['q', 'exit', 'break']:\n",
    "        break\n",
    "    \n",
    "    if loss.item() < 0.001:\n",
    "        print('Model fully converged. Stopping.')\n",
    "        break"
   ]
  },
  {
   "cell_type": "code",
   "execution_count": null,
   "metadata": {},
   "outputs": [],
   "source": [
    "from matplotlib import pyplot as plt\n",
    "def plot_trace(list_of_vals, title: str=None):\n",
    "    plt.figure(figsize=(10, 6))\n",
    "    fig = plt.plot(list_of_vals)\n",
    "    plt.title(title)\n",
    "    \n",
    "plot_trace(values_of_loss, \"Loss\")\n",
    "plot_trace(values_of_ypred, \"y pred\")\n",
    "plot_trace(values_of_m, \"param: m\")\n",
    "plot_trace(values_of_c, \"param: c\")"
   ]
  },
  {
   "cell_type": "code",
   "execution_count": null,
   "metadata": {},
   "outputs": [],
   "source": []
  }
 ],
 "metadata": {
  "kernelspec": {
   "display_name": "main",
   "language": "python",
   "name": "python3"
  },
  "language_info": {
   "codemirror_mode": {
    "name": "ipython",
    "version": 3
   },
   "file_extension": ".py",
   "mimetype": "text/x-python",
   "name": "python",
   "nbconvert_exporter": "python",
   "pygments_lexer": "ipython3",
   "version": "3.12.4"
  }
 },
 "nbformat": 4,
 "nbformat_minor": 4
}
