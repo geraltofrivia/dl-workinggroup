{
 "cells": [
  {
   "cell_type": "code",
   "execution_count": 2,
   "metadata": {},
   "outputs": [],
   "source": [
    "import torch"
   ]
  },
  {
   "cell_type": "code",
   "execution_count": 3,
   "metadata": {},
   "outputs": [
    {
     "data": {
      "text/plain": [
       "<torch._C.Generator at 0x7f08408cf7d0>"
      ]
     },
     "execution_count": 3,
     "metadata": {},
     "output_type": "execute_result"
    }
   ],
   "source": [
    "torch.manual_seed(42)"
   ]
  },
  {
   "cell_type": "code",
   "execution_count": 4,
   "metadata": {},
   "outputs": [],
   "source": [
    "# Only one data instance\n",
    "x = torch.tensor(10)\n",
    "y = torch.tensor(2)"
   ]
  },
  {
   "cell_type": "code",
   "execution_count": 5,
   "metadata": {},
   "outputs": [
    {
     "name": "stdout",
     "output_type": "stream",
     "text": [
      "tensor([0.3367], requires_grad=True) tensor([0.1288], requires_grad=True)\n"
     ]
    }
   ],
   "source": [
    "# Simplest possible model?\n",
    "m = torch.randn(1, requires_grad=True)\n",
    "c = torch.randn(1, requires_grad=True)\n",
    "\n",
    "\n",
    "print(m, c)"
   ]
  },
  {
   "cell_type": "code",
   "execution_count": 6,
   "metadata": {},
   "outputs": [],
   "source": [
    "fx = lambda x : (m*x) + c\n"
   ]
  },
  {
   "cell_type": "code",
   "execution_count": 7,
   "metadata": {},
   "outputs": [],
   "source": [
    "def mse(y_pred, y_true):\n",
    "    return 0.5*(y_pred-y_true)**2"
   ]
  },
  {
   "cell_type": "code",
   "execution_count": 8,
   "metadata": {},
   "outputs": [],
   "source": [
    "lr = 0.01"
   ]
  },
  {
   "cell_type": "code",
   "execution_count": 9,
   "metadata": {},
   "outputs": [
    {
     "data": {
      "text/plain": [
       "tensor([1.1186], grad_fn=<MulBackward0>)"
      ]
     },
     "execution_count": 9,
     "metadata": {},
     "output_type": "execute_result"
    }
   ],
   "source": [
    "ypred = fx(x)\n",
    "ypred, y\n",
    "\n",
    "loss = mse(ypred, y)\n",
    "loss"
   ]
  },
  {
   "cell_type": "code",
   "execution_count": 10,
   "metadata": {},
   "outputs": [],
   "source": [
    "loss.backward()"
   ]
  },
  {
   "cell_type": "code",
   "execution_count": 11,
   "metadata": {},
   "outputs": [
    {
     "data": {
      "text/plain": [
       "(tensor([0.3367], requires_grad=True), tensor([14.9571]))"
      ]
     },
     "execution_count": 11,
     "metadata": {},
     "output_type": "execute_result"
    }
   ],
   "source": [
    "m, m.grad"
   ]
  },
  {
   "cell_type": "code",
   "execution_count": 12,
   "metadata": {},
   "outputs": [
    {
     "data": {
      "text/plain": [
       "(tensor([3.4957], grad_fn=<AddBackward0>),\n",
       " tensor(2),\n",
       " tensor([1.1186], grad_fn=<MulBackward0>))"
      ]
     },
     "execution_count": 12,
     "metadata": {},
     "output_type": "execute_result"
    }
   ],
   "source": [
    "y_pred = fx(x)\n",
    "loss = mse(y_pred, y)\n",
    "\n",
    "y_pred, y, loss"
   ]
  },
  {
   "cell_type": "code",
   "execution_count": 13,
   "metadata": {},
   "outputs": [],
   "source": [
    "loss.backward()"
   ]
  },
  {
   "cell_type": "code",
   "execution_count": 14,
   "metadata": {},
   "outputs": [
    {
     "data": {
      "text/plain": [
       "(tensor([29.9143]), tensor([2.9914]))"
      ]
     },
     "execution_count": 14,
     "metadata": {},
     "output_type": "execute_result"
    }
   ],
   "source": [
    "m.grad, c.grad"
   ]
  },
  {
   "cell_type": "markdown",
   "metadata": {},
   "source": [
    "# Running the entire thing\n",
    "\n",
    "Hint: press enter to continue. Input 'q' to stop.\n",
    "Play around with lr to see different things ;)"
   ]
  },
  {
   "cell_type": "code",
   "execution_count": 15,
   "metadata": {},
   "outputs": [
    {
     "name": "stdout",
     "output_type": "stream",
     "text": [
      "Loss: tensor([1.1186], grad_fn=<MulBackward0>)\n",
      "True: 2\n",
      "Pred: 3.495713233947754\n",
      "Parameters before update:\n",
      "\tm: 0.33669036626815796\tgrad: 14.957132339477539\n",
      "\tc: 0.12880940735340118\tgrad: 1.495713233947754\n",
      "Parametrs after update:\n",
      "\tm: 0.18711905181407928\tgrad: 14.957132339477539\n",
      "\tc: 0.03754773736000061\tgrad: 1.495713233947754\n",
      "------ 0 ------\n",
      "\n",
      "Loss: tensor([0.0042], grad_fn=<MulBackward0>)\n",
      "True: 2\n",
      "Pred: 1.9087382555007935\n",
      "Parameters before update:\n",
      "\tm: 0.18711905181407928\tgrad: -0.9126174449920654\n",
      "\tc: 0.03754773736000061\tgrad: -0.09126174449920654\n",
      "Parametrs after update:\n",
      "\tm: 0.1962452232837677\tgrad: -0.9126174449920654\n",
      "\tc: 0.20537139475345612\tgrad: -0.09126174449920654\n",
      "------ 1 ------\n",
      "\n",
      "Loss: tensor([0.0141], grad_fn=<MulBackward0>)\n",
      "True: 2\n",
      "Pred: 2.167823553085327\n",
      "Parameters before update:\n",
      "\tm: 0.1962452232837677\tgrad: 1.6782355308532715\n",
      "\tc: 0.20537139475345612\tgrad: 0.16782355308532715\n",
      "Parametrs after update:\n",
      "\tm: 0.17946286499500275\tgrad: 1.6782355308532715\n",
      "\tc: 0.1626805067062378\tgrad: 0.16782355308532715\n",
      "------ 2 ------\n",
      "\n",
      "Loss: tensor([0.0009], grad_fn=<MulBackward0>)\n",
      "True: 2\n",
      "Pred: 1.9573091268539429\n",
      "Parameters before update:\n",
      "\tm: 0.17946286499500275\tgrad: -0.4269087314605713\n",
      "\tc: 0.1626805067062378\tgrad: -0.04269087314605713\n",
      "Parametrs after update:\n",
      "\tm: 0.18373195827007294\tgrad: -0.4269087314605713\n",
      "\tc: 0.18800105154514313\tgrad: -0.04269087314605713\n",
      "------ 3 ------\n",
      "\n",
      "Loss: tensor([0.0003], grad_fn=<MulBackward0>)\n",
      "True: 2\n",
      "Pred: 2.0253207683563232\n",
      "Parameters before update:\n",
      "\tm: 0.18373195827007294\tgrad: 0.2532076835632324\n",
      "\tc: 0.18800105154514313\tgrad: 0.025320768356323242\n",
      "Parametrs after update:\n",
      "\tm: 0.18119987845420837\tgrad: 0.2532076835632324\n",
      "\tc: 0.1786677986383438\tgrad: 0.025320768356323242\n",
      "------ 4 ------\n",
      "\n",
      "Loss: tensor([4.3556e-05], grad_fn=<MulBackward0>)\n",
      "True: 2\n",
      "Pred: 1.9906666278839111\n",
      "Parameters before update:\n",
      "\tm: 0.18119987845420837\tgrad: -0.09333372116088867\n",
      "\tc: 0.1786677986383438\tgrad: -0.009333372116088867\n",
      "Parametrs after update:\n",
      "\tm: 0.18213321268558502\tgrad: -0.09333372116088867\n",
      "\tc: 0.18306654691696167\tgrad: -0.009333372116088867\n",
      "------ 5 ------\n",
      "\n",
      "Loss: tensor([9.6738e-06], grad_fn=<MulBackward0>)\n",
      "True: 2\n",
      "Pred: 2.0043985843658447\n",
      "Parameters before update:\n",
      "\tm: 0.18213321268558502\tgrad: 0.043985843658447266\n",
      "\tc: 0.18306654691696167\tgrad: 0.0043985843658447266\n",
      "Parametrs after update:\n",
      "\tm: 0.18169336020946503\tgrad: 0.043985843658447266\n",
      "\tc: 0.18125350773334503\tgrad: 0.0043985843658447266\n",
      "------ 6 ------\n",
      "\n",
      "Loss: tensor([1.6432e-06], grad_fn=<MulBackward0>)\n",
      "True: 2\n",
      "Pred: 1.9981871843338013\n",
      "Parameters before update:\n",
      "\tm: 0.18169336020946503\tgrad: -0.018128156661987305\n",
      "\tc: 0.18125350773334503\tgrad: -0.0018128156661987305\n",
      "Parametrs after update:\n",
      "\tm: 0.18187464773654938\tgrad: -0.018128156661987305\n",
      "\tc: 0.18205593526363373\tgrad: -0.0018128156661987305\n",
      "------ 7 ------\n",
      "\n",
      "Loss: tensor([3.2183e-07], grad_fn=<MulBackward0>)\n",
      "True: 2\n",
      "Pred: 2.0008022785186768\n",
      "Parameters before update:\n",
      "\tm: 0.18187464773654938\tgrad: 0.008022785186767578\n",
      "\tc: 0.18205593526363373\tgrad: 0.0008022785186767578\n",
      "Parametrs after update:\n",
      "\tm: 0.1817944198846817\tgrad: 0.008022785186767578\n",
      "\tc: 0.18171419203281403\tgrad: 0.0008022785186767578\n",
      "------ 8 ------\n",
      "\n",
      "Loss: tensor([5.8364e-08], grad_fn=<MulBackward0>)\n",
      "True: 2\n",
      "Pred: 1.9996583461761475\n",
      "Parameters before update:\n",
      "\tm: 0.1817944198846817\tgrad: -0.0034165382385253906\n",
      "\tc: 0.18171419203281403\tgrad: -0.00034165382385253906\n",
      "Parametrs after update:\n",
      "\tm: 0.1818285882472992\tgrad: -0.0034165382385253906\n",
      "\tc: 0.1818627566099167\tgrad: -0.00034165382385253906\n",
      "------ 9 ------\n",
      "\n",
      "Loss: tensor([1.1067e-08], grad_fn=<MulBackward0>)\n",
      "True: 2\n",
      "Pred: 2.0001487731933594\n",
      "Parameters before update:\n",
      "\tm: 0.1818285882472992\tgrad: 0.00148773193359375\n",
      "\tc: 0.1818627566099167\tgrad: 0.000148773193359375\n",
      "Parametrs after update:\n",
      "\tm: 0.18181371688842773\tgrad: 0.00148773193359375\n",
      "\tc: 0.18179884552955627\tgrad: 0.000148773193359375\n",
      "------ 10 ------\n",
      "\n",
      "Loss: tensor([2.0490e-09], grad_fn=<MulBackward0>)\n",
      "True: 2\n",
      "Pred: 1.9999359846115112\n",
      "Parameters before update:\n",
      "\tm: 0.18181371688842773\tgrad: -0.0006401538848876953\n",
      "\tc: 0.18179884552955627\tgrad: -6.401538848876953e-05\n",
      "Parametrs after update:\n",
      "\tm: 0.1818201243877411\tgrad: -0.0006401538848876953\n",
      "\tc: 0.18182653188705444\tgrad: -6.401538848876953e-05\n",
      "------ 11 ------\n",
      "\n",
      "Loss: tensor([3.8906e-10], grad_fn=<MulBackward0>)\n",
      "True: 2\n",
      "Pred: 2.000027894973755\n",
      "Parameters before update:\n",
      "\tm: 0.1818201243877411\tgrad: 0.0002789497375488281\n",
      "\tc: 0.18182653188705444\tgrad: 2.7894973754882812e-05\n",
      "Parametrs after update:\n",
      "\tm: 0.18181733787059784\tgrad: 0.0002789497375488281\n",
      "\tc: 0.1818145513534546\tgrad: 2.7894973754882812e-05\n",
      "------ 12 ------\n",
      "\n",
      "Loss: tensor([7.2482e-11], grad_fn=<MulBackward0>)\n",
      "True: 2\n",
      "Pred: 1.9999879598617554\n",
      "Parameters before update:\n",
      "\tm: 0.18181733787059784\tgrad: -0.00012040138244628906\n",
      "\tc: 0.1818145513534546\tgrad: -1.2040138244628906e-05\n",
      "Parametrs after update:\n",
      "\tm: 0.18181854486465454\tgrad: -0.00012040138244628906\n",
      "\tc: 0.18181975185871124\tgrad: -1.2040138244628906e-05\n",
      "------ 13 ------\n",
      "\n",
      "Loss: tensor([1.3756e-11], grad_fn=<MulBackward0>)\n",
      "True: 2\n",
      "Pred: 2.0000052452087402\n",
      "Parameters before update:\n",
      "\tm: 0.18181854486465454\tgrad: 5.245208740234375e-05\n",
      "\tc: 0.18181975185871124\tgrad: 5.245208740234375e-06\n",
      "Parametrs after update:\n",
      "\tm: 0.18181802332401276\tgrad: 5.245208740234375e-05\n",
      "\tc: 0.18181750178337097\tgrad: 5.245208740234375e-06\n",
      "------ 14 ------\n",
      "\n",
      "Loss: tensor([2.5651e-12], grad_fn=<MulBackward0>)\n",
      "True: 2\n",
      "Pred: 1.9999977350234985\n",
      "Parameters before update:\n",
      "\tm: 0.18181802332401276\tgrad: -2.2649765014648438e-05\n",
      "\tc: 0.18181750178337097\tgrad: -2.2649765014648438e-06\n",
      "Parametrs after update:\n",
      "\tm: 0.18181824684143066\tgrad: -2.2649765014648438e-05\n",
      "\tc: 0.18181847035884857\tgrad: -2.2649765014648438e-06\n",
      "------ 15 ------\n",
      "\n",
      "Loss: tensor([4.5475e-13], grad_fn=<MulBackward0>)\n",
      "True: 2\n",
      "Pred: 2.0000009536743164\n",
      "Parameters before update:\n",
      "\tm: 0.18181824684143066\tgrad: 9.5367431640625e-06\n",
      "\tc: 0.18181847035884857\tgrad: 9.5367431640625e-07\n",
      "Parametrs after update:\n",
      "\tm: 0.1818181574344635\tgrad: 9.5367431640625e-06\n",
      "\tc: 0.18181806802749634\tgrad: 9.5367431640625e-07\n",
      "------ 16 ------\n",
      "\n",
      "Loss: tensor([1.1369e-13], grad_fn=<MulBackward0>)\n",
      "True: 2\n",
      "Pred: 1.9999995231628418\n",
      "Parameters before update:\n",
      "\tm: 0.1818181574344635\tgrad: -4.76837158203125e-06\n",
      "\tc: 0.18181806802749634\tgrad: -4.76837158203125e-07\n",
      "Parametrs after update:\n",
      "\tm: 0.18181820213794708\tgrad: -4.76837158203125e-06\n",
      "\tc: 0.18181824684143066\tgrad: -4.76837158203125e-07\n",
      "------ 17 ------\n",
      "\n",
      "Loss: tensor([2.8422e-14], grad_fn=<MulBackward0>)\n",
      "True: 2\n",
      "Pred: 2.000000238418579\n",
      "Parameters before update:\n",
      "\tm: 0.18181820213794708\tgrad: 2.384185791015625e-06\n",
      "\tc: 0.18181824684143066\tgrad: 2.384185791015625e-07\n",
      "Parametrs after update:\n",
      "\tm: 0.1818181723356247\tgrad: 2.384185791015625e-06\n",
      "\tc: 0.1818181425333023\tgrad: 2.384185791015625e-07\n",
      "------ 18 ------\n",
      "\n",
      "Loss: tensor([7.1054e-15], grad_fn=<MulBackward0>)\n",
      "True: 2\n",
      "Pred: 1.9999998807907104\n",
      "Parameters before update:\n",
      "\tm: 0.1818181723356247\tgrad: -1.1920928955078125e-06\n",
      "\tc: 0.1818181425333023\tgrad: -1.1920928955078125e-07\n",
      "Parametrs after update:\n",
      "\tm: 0.1818181872367859\tgrad: -1.1920928955078125e-06\n",
      "\tc: 0.18181820213794708\tgrad: -1.1920928955078125e-07\n",
      "------ 19 ------\n",
      "\n",
      "Loss: tensor([0.], grad_fn=<MulBackward0>)\n",
      "True: 2\n",
      "Pred: 2.0\n",
      "Parameters before update:\n",
      "\tm: 0.1818181872367859\tgrad: 0.0\n",
      "\tc: 0.18181820213794708\tgrad: 0.0\n",
      "Parametrs after update:\n",
      "\tm: 0.1818181872367859\tgrad: None\n",
      "\tc: 0.1818181872367859\tgrad: None\n",
      "------ 20 ------\n",
      "\n",
      "Model fully converged. Stopping.\n"
     ]
    }
   ],
   "source": [
    "values_of_loss = []\n",
    "values_of_m = []\n",
    "values_of_c = []\n",
    "values_of_ypred = []\n",
    "\n",
    "for i in range(2000):\n",
    "    # Calcualte model predictions\n",
    "    y_pred = fx(x)\n",
    "    \n",
    "    \n",
    "    # Compare the prediction with our goal\n",
    "    loss = mse(y_pred, y)\n",
    "    print(f\"Loss: {loss}\\nTrue: {y}\\nPred: {y_pred.item()}\")\n",
    "    \n",
    "    # Reset the gradients before computing new ones\n",
    "    if m.grad:\n",
    "        m.grad.zero_()\n",
    "        c.grad.zero_()\n",
    "        \n",
    "    # Compute new gradients: BACKPROPAGATE\n",
    "    loss.backward()\n",
    "    \n",
    "    print(f\"Parameters before update:\\n\\tm: {m.item()}\\tgrad: {m.grad.item()}\\n\\tc: {c.item()}\\tgrad: {c.grad.item()}\")\n",
    "    with torch.no_grad():\n",
    "        m.copy_(m - (lr*m.grad))\n",
    "        c.copy_(m - (lr*m.grad))\n",
    "        \n",
    "        \n",
    "    print(f\"Parametrs after update:\\n\\tm: {m.item()}\\tgrad: {m.grad.item()  if c.grad else None}\\n\\tc: {c.item()}\\tgrad: {c.grad.item() if c.grad else None}\")\n",
    "\n",
    "    # Bookkeeping \n",
    "    values_of_ypred.append(y_pred.item())\n",
    "    values_of_m.append(m.item())\n",
    "    values_of_c.append(c.item())\n",
    "    values_of_loss.append(loss.item())\n",
    "\n",
    "    print('------', i, '------')\n",
    "    cmd = input().strip()\n",
    "    if cmd in ['q', 'exit', 'break']:\n",
    "        break\n",
    "    \n",
    "    if loss.item() == 0:\n",
    "        print('Model fully converged. Stopping.')\n",
    "        break"
   ]
  },
  {
   "cell_type": "code",
   "execution_count": 19,
   "metadata": {},
   "outputs": [
    {
     "data": {
      "image/png": "[encoded data removed]",
      "text/plain": [
       "<Figure size 720x432 with 1 Axes>"
      ]
     },
     "metadata": {
      "needs_background": "light"
     },
     "output_type": "display_data"
    },
    {
     "data": {
      "image/png": "[encoded data removed]",
      "text/plain": [
       "<Figure size 720x432 with 1 Axes>"
      ]
     },
     "metadata": {
      "needs_background": "light"
     },
     "output_type": "display_data"
    },
    {
     "data": {
      "image/png": "[encoded data removed]",
      "text/plain": [
       "<Figure size 720x432 with 1 Axes>"
      ]
     },
     "metadata": {
      "needs_background": "light"
     },
     "output_type": "display_data"
    },
    {
     "data": {
      "image/png": "[encoded data removed]",
      "text/plain": [
       "<Figure size 720x432 with 1 Axes>"
      ]
     },
     "metadata": {
      "needs_background": "light"
     },
     "output_type": "display_data"
    }
   ],
   "source": [
    "\n",
    "\n",
    "from matplotlib import pyplot as plt\n",
    "def plot_trace(list_of_vals, title: str=None):\n",
    "    plt.figure(figsize=(10, 6))\n",
    "    fig = plt.plot(list_of_vals)\n",
    "    plt.title(title)\n",
    "    \n",
    "plot_trace(values_of_loss, \"Loss\")\n",
    "plot_trace(values_of_ypred, \"y pred\")\n",
    "plot_trace(values_of_m, \"param: m\")\n",
    "plot_trace(values_of_c, \"param: c\")"
   ]
  }
 ],
 "metadata": {
  "kernelspec": {
   "display_name": "Python 3",
   "language": "python",
   "name": "python3"
  },
  "language_info": {
   "codemirror_mode": {
    "name": "ipython",
    "version": 3
   },
   "file_extension": ".py",
   "mimetype": "text/x-python",
   "name": "python",
   "nbconvert_exporter": "python",
   "pygments_lexer": "ipython3",
   "version": "3.8.5"
  }
 },
 "nbformat": 4,
 "nbformat_minor": 4
}
