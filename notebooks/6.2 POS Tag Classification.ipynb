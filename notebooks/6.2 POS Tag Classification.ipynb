{
 "cells": [
  {
   "cell_type": "markdown",
   "metadata": {},
   "source": [
    "# Token based Classification"
   ]
  },
  {
   "cell_type": "markdown",
   "metadata": {},
   "source": [
    "In the previous session, we did a document based classification. \n",
    "We chose a very particular form of representing the information which we will rarely touch in the future. \n",
    "It'll be better, going ahead to build upon last lecture by looking at another form of text classification we very frequently encounter."
   ]
  },
  {
   "cell_type": "markdown",
   "metadata": {
    "ExecuteTime": {
     "end_time": "2023-01-31T22:56:17.746552Z",
     "start_time": "2023-01-31T22:56:17.603005Z"
    }
   },
   "source": [
    "![DocumentClassification.jpg](./../resources/imgs/clf-doc.jpg)"
   ]
  },
  {
   "cell_type": "markdown",
   "metadata": {},
   "source": [
    "![SentenceClassification.jpg](./../resources/imgs/clf-sent.jpg)"
   ]
  },
  {
   "cell_type": "markdown",
   "metadata": {},
   "source": [
    "![TokenClassification.jpg](./../resources/imgs/clf-tok.jpg)"
   ]
  },
  {
   "cell_type": "markdown",
   "metadata": {},
   "source": [
    "### Changes\n",
    "\n",
    "- We can no longer rely on one vector for a document.\n",
    "- We need one 'input representation' per token."
   ]
  },
  {
   "cell_type": "code",
   "execution_count": 1,
   "metadata": {
    "ExecuteTime": {
     "end_time": "2023-02-09T12:08:08.711401Z",
     "start_time": "2023-02-09T12:08:07.404264Z"
    }
   },
   "outputs": [],
   "source": [
    "from datasets import load_dataset\n",
    "from matplotlib import pyplot as plt\n",
    "from collections import Counter, defaultdict\n",
    "from functools import partial\n",
    "import numpy as np\n",
    "from pathlib import Path\n",
    "from tqdm.auto import tqdm\n",
    "import json\n",
    "import pickle\n",
    "import torch\n",
    "import torch.nn as nn"
   ]
  },
  {
   "cell_type": "code",
   "execution_count": 2,
   "metadata": {
    "ExecuteTime": {
     "end_time": "2023-02-09T12:08:08.717120Z",
     "start_time": "2023-02-09T12:08:08.713504Z"
    }
   },
   "outputs": [],
   "source": [
    "def plot_hist(data, n = 50):\n",
    "    if not isinstance(data, list) or isinstance(data, np.ndarray) or isinstance(data, torch.Tensor):\n",
    "        data = list(data)\n",
    "    \n",
    "    # lens = [len(doc) for doc in tokenized_train_text]?\n",
    "    bin_ranges = [i for i in range(0, max(data), max(data)//n)]\n",
    "\n",
    "    #create histogram with n bins\n",
    "    print(f\"Over {len(data)} elements, the mean is {np.mean(data):.2f} ± {np.std(data):.2f}\")\n",
    "    plt.figure(figsize=(14, 8))\n",
    "    plt.hist(data, bins=bin_ranges, edgecolor='black')\n",
    "    plt.plot()"
   ]
  },
  {
   "cell_type": "code",
   "execution_count": 3,
   "metadata": {
    "ExecuteTime": {
     "end_time": "2023-02-09T12:08:10.851180Z",
     "start_time": "2023-02-09T12:08:08.718914Z"
    }
   },
   "outputs": [
    {
     "name": "stderr",
     "output_type": "stream",
     "text": [
      "Found cached dataset conll2003 (/home/priyansh/Dev/perm/huggingface/datasets/conll2003/conll2003/1.0.0/9a4d16a94f8674ba3466315300359b0acd891b68b6c8743ddf60b9c702adce98)\n"
     ]
    },
    {
     "data": {
      "application/vnd.jupyter.widget-view+json": {
       "model_id": "059734a67f4f4eb589cdcf81d8e9f178",
       "version_major": 2,
       "version_minor": 0
      },
      "text/plain": [
       "  0%|          | 0/3 [00:00<?, ?it/s]"
      ]
     },
     "metadata": {},
     "output_type": "display_data"
    },
    {
     "data": {
      "text/plain": [
       "DatasetDict({\n",
       "    train: Dataset({\n",
       "        features: ['id', 'tokens', 'pos_tags', 'chunk_tags', 'ner_tags'],\n",
       "        num_rows: 14041\n",
       "    })\n",
       "    validation: Dataset({\n",
       "        features: ['id', 'tokens', 'pos_tags', 'chunk_tags', 'ner_tags'],\n",
       "        num_rows: 3250\n",
       "    })\n",
       "    test: Dataset({\n",
       "        features: ['id', 'tokens', 'pos_tags', 'chunk_tags', 'ner_tags'],\n",
       "        num_rows: 3453\n",
       "    })\n",
       "})"
      ]
     },
     "execution_count": 3,
     "metadata": {},
     "output_type": "execute_result"
    }
   ],
   "source": [
    "dataset = load_dataset(\"conll2003\")\n",
    "dataset"
   ]
  },
  {
   "cell_type": "code",
   "execution_count": 4,
   "metadata": {
    "ExecuteTime": {
     "end_time": "2023-02-09T12:08:12.783733Z",
     "start_time": "2023-02-09T12:08:10.852613Z"
    }
   },
   "outputs": [
    {
     "name": "stdout",
     "output_type": "stream",
     "text": [
      "Over 21009 elements, the mean is 9.69 ± 118.22\n"
     ]
    },
    {
     "data": {
      "image/png": "[encoded data removed]",
      "text/plain": [
       "<Figure size 1008x576 with 1 Axes>"
      ]
     },
     "metadata": {
      "needs_background": "light"
     },
     "output_type": "display_data"
    }
   ],
   "source": [
    "# Create Vocabulary\n",
    "# 1. Count words\n",
    "counter = ...\n",
    "    \n",
    "plot_hist(counter.values(), 500)\n"
   ]
  },
  {
   "cell_type": "code",
   "execution_count": 5,
   "metadata": {
    "ExecuteTime": {
     "end_time": "2023-02-09T12:08:12.796501Z",
     "start_time": "2023-02-09T12:08:12.785008Z"
    }
   },
   "outputs": [
    {
     "data": {
      "text/plain": [
       "4001"
      ]
     },
     "execution_count": 5,
     "metadata": {},
     "output_type": "execute_result"
    }
   ],
   "source": [
    "vocab = ... # need both pad and unk\n",
    "n_words = \n"
   ]
  },
  {
   "cell_type": "code",
   "execution_count": 6,
   "metadata": {
    "ExecuteTime": {
     "end_time": "2023-02-09T12:08:13.915514Z",
     "start_time": "2023-02-09T12:08:12.797820Z"
    }
   },
   "outputs": [],
   "source": [
    "# 3. Use it to convert all tokens to word ids\n",
    "train_wordid = ..."
   ]
  },
  {
   "cell_type": "markdown",
   "metadata": {
    "ExecuteTime": {
     "end_time": "2023-01-31T22:09:29.239933Z",
     "start_time": "2023-01-31T22:09:29.225126Z"
    }
   },
   "source": [
    "#### Label Mapping:\n",
    "\n",
    "```json\n",
    "{'\"': 0, \"''\": 1, '#': 2, '$': 3, '(': 4, ')': 5, ',': 6, '.': 7, ':': 8, '``': 9, 'CC': 10, 'CD': 11, 'DT': 12,\n",
    " 'EX': 13, 'FW': 14, 'IN': 15, 'JJ': 16, 'JJR': 17, 'JJS': 18, 'LS': 19, 'MD': 20, 'NN': 21, 'NNP': 22, 'NNPS': 23,\n",
    " 'NNS': 24, 'NN|SYM': 25, 'PDT': 26, 'POS': 27, 'PRP': 28, 'PRP$': 29, 'RB': 30, 'RBR': 31, 'RBS': 32, 'RP': 33,\n",
    " 'SYM': 34, 'TO': 35, 'UH': 36, 'VB': 37, 'VBD': 38, 'VBG': 39, 'VBN': 40, 'VBP': 41, 'VBZ': 42, 'WDT': 43,\n",
    " 'WP': 44, 'WP$': 45, 'WRB': 46}\n",
    "```"
   ]
  },
  {
   "cell_type": "code",
   "execution_count": 89,
   "metadata": {
    "ExecuteTime": {
     "end_time": "2023-02-09T12:52:38.658985Z",
     "start_time": "2023-02-09T12:52:38.653366Z"
    }
   },
   "outputs": [],
   "source": [
    "class_labels = {'\"': 0, \"''\": 1, '#': 2, '$': 3, '(': 4, ')': 5, ',': 6, '.': 7, ':': 8, '``': 9, 'CC': 10, 'CD': 11, 'DT': 12,\n",
    " 'EX': 13, 'FW': 14, 'IN': 15, 'JJ': 16, 'JJR': 17, 'JJS': 18, 'LS': 19, 'MD': 20, 'NN': 21, 'NNP': 22, 'NNPS': 23,\n",
    " 'NNS': 24, 'NN|SYM': 25, 'PDT': 26, 'POS': 27, 'PRP': 28, 'PRP$': 29, 'RB': 30, 'RBR': 31, 'RBS': 32, 'RP': 33,\n",
    " 'SYM': 34, 'TO': 35, 'UH': 36, 'VB': 37, 'VBD': 38, 'VBG': 39, 'VBN': 40, 'VBP': 41, 'VBZ': 42, 'WDT': 43,\n",
    " 'WP': 44, 'WP$': 45, 'WRB': 46}"
   ]
  },
  {
   "cell_type": "code",
   "execution_count": 7,
   "metadata": {
    "ExecuteTime": {
     "end_time": "2023-02-09T12:08:15.011485Z",
     "start_time": "2023-02-09T12:08:13.916557Z"
    }
   },
   "outputs": [],
   "source": [
    "# 4. Collect labels for each token\n",
    "train_labels = ..."
   ]
  },
  {
   "cell_type": "code",
   "execution_count": 8,
   "metadata": {
    "ExecuteTime": {
     "end_time": "2023-02-09T12:08:15.991207Z",
     "start_time": "2023-02-09T12:08:15.013184Z"
    }
   },
   "outputs": [],
   "source": [
    "# Do the same thing for the validation and test set\n",
    "valid_wordid = ...\n",
    "valid_labels = ...\n",
    "\n",
    "test_wordid = ...\n",
    "test_labels = ..."
   ]
  },
  {
   "cell_type": "code",
   "execution_count": 9,
   "metadata": {
    "ExecuteTime": {
     "end_time": "2023-02-09T12:08:16.000988Z",
     "start_time": "2023-02-09T12:08:15.992324Z"
    }
   },
   "outputs": [
    {
     "name": "stdout",
     "output_type": "stream",
     "text": [
      "14041 3250 3453\n"
     ]
    }
   ],
   "source": [
    "# 4.1 A sanity check never hurt anyone ;)\n",
    "for docid, (x, y) in enumerate(zip(train_wordid, train_labels)):\n",
    "    assert len(x) == len(y), f\"In Doc: {docid}, X: {len(x)}, Y: {len(Y)}\"\n",
    "    \n",
    "for docid, (x, y) in enumerate(zip(valid_wordid, valid_labels)):\n",
    "    assert len(x) == len(y), f\"In Doc: {docid}, X: {len(x)}, Y: {len(Y)}\"\n",
    "       \n",
    "for docid, (x, y) in enumerate(zip(test_wordid, test_labels)):\n",
    "    assert len(x) == len(y), f\"In Doc: {docid}, X: {len(x)}, Y: {len(Y)}\"\n",
    "    \n",
    "print(len(train_wordid), len(valid_wordid), len(test_wordid))"
   ]
  },
  {
   "cell_type": "code",
   "execution_count": 10,
   "metadata": {
    "ExecuteTime": {
     "end_time": "2023-02-09T12:08:16.118184Z",
     "start_time": "2023-02-09T12:08:16.002450Z"
    }
   },
   "outputs": [
    {
     "name": "stdout",
     "output_type": "stream",
     "text": [
      "              total        used        free      shared  buff/cache   available\r\n",
      "Mem:            15G        5,1G        7,1G        598M        3,1G        9,3G\r\n",
      "Swap:          979M        977M        2,1M\r\n"
     ]
    }
   ],
   "source": [
    "! free -h"
   ]
  },
  {
   "cell_type": "code",
   "execution_count": 11,
   "metadata": {
    "ExecuteTime": {
     "end_time": "2023-02-09T12:08:16.149706Z",
     "start_time": "2023-02-09T12:08:16.119481Z"
    }
   },
   "outputs": [],
   "source": [
    "# Dump the WordID and vocab to disk\n",
    "dump_dir = Path('../resources/datasets/conll2003/wordid_vocab')\n",
    "dump_dir.mkdir(parents=True, exist_ok=True)\n",
    "with (dump_dir/'vocab.json').open('w+') as f:\n",
    "    json.dump(vocab, f)\n",
    "    \n",
    "with (dump_dir/'train_wordid.pkl').open('wb+') as f:\n",
    "    pickle.dump(train_wordid, f)\n",
    "    \n",
    "with (dump_dir/'train_labels.pkl').open('wb+') as f:\n",
    "    pickle.dump(train_labels, f)\n",
    "    \n",
    "with (dump_dir/'valid_wordid.pkl').open('wb+') as f:\n",
    "    pickle.dump(valid_wordid, f)\n",
    "    \n",
    "with (dump_dir/'valid_labels.pkl').open('wb+') as f:\n",
    "    pickle.dump(valid_labels, f)\n",
    "    \n",
    "with (dump_dir/'test_wordid.pkl').open('wb+') as f:\n",
    "    pickle.dump(test_wordid, f)\n",
    "    \n",
    "with (dump_dir/'test_labels.pkl').open('wb+') as f:\n",
    "    pickle.dump(test_labels, f)"
   ]
  },
  {
   "cell_type": "code",
   "execution_count": 12,
   "metadata": {
    "ExecuteTime": {
     "end_time": "2023-02-09T12:08:16.287005Z",
     "start_time": "2023-02-09T12:08:16.150834Z"
    }
   },
   "outputs": [],
   "source": [
    "# Load from disk (certainly for the future)\n",
    "dump_dir = Path('../resources/datasets/conll2003/wordid_vocab')\n",
    "assert dump_dir.exists()\n",
    "\n",
    "with (dump_dir/'vocab.json').open('r') as f:\n",
    "    vocab = json.load(f)\n",
    "    \n",
    "with (dump_dir / 'train_wordid.pkl').open('rb') as f:\n",
    "    train_wordid = pickle.load(f)\n",
    "\n",
    "with (dump_dir / 'train_labels.pkl').open('rb') as f:\n",
    "    train_labels = pickle.load(f)\n",
    "\n",
    "with (dump_dir / 'valid_wordid.pkl').open('rb') as f:\n",
    "    valid_wordid = pickle.load(f)\n",
    "\n",
    "with (dump_dir / 'valid_labels.pkl').open('rb') as f:\n",
    "    valid_labels = pickle.load(f)\n",
    "\n",
    "with (dump_dir / 'test_wordid.pkl').open('rb') as f:\n",
    "    test_wordid = pickle.load(f)\n",
    "\n",
    "with (dump_dir / 'test_labels.pkl').open('rb') as f:\n",
    "    test_labels = pickle.load(f)"
   ]
  },
  {
   "cell_type": "markdown",
   "metadata": {
    "ExecuteTime": {
     "end_time": "2023-01-31T23:04:02.248995Z",
     "start_time": "2023-01-31T23:04:02.109062Z"
    }
   },
   "source": [
    "## Solution 1:\n",
    "Ignore all the context, just try to map one word to its pos tag"
   ]
  },
  {
   "cell_type": "markdown",
   "metadata": {},
   "source": [
    "![NoContext.jpg](./../resources/imgs/model_nocontext.png)"
   ]
  },
  {
   "cell_type": "markdown",
   "metadata": {
    "ExecuteTime": {
     "end_time": "2023-01-31T23:22:45.332429Z",
     "start_time": "2023-01-31T23:22:45.198972Z"
    }
   },
   "source": [
    "### Problems:\n",
    "\n",
    "1. POS tags are context dependent. \n",
    "\n",
    "    - **Apple** stock just shot up\n",
    "    - We be stuffing our faces with an **apple**.\n",
    "    \n",
    "2. If we are just mapping a token to a pos tag, why bother with documents. Just create a most frequent label dictionary?\n",
    "    \n",
    "    - This.. is right :P\n"
   ]
  },
  {
   "cell_type": "markdown",
   "metadata": {},
   "source": [
    "## Solution 2:\n",
    "\n",
    "**Ran out of time to draw illustration; will do on whiteboard ^^**\n",
    "\n",
    "Take a context window of 1 (one token before; current token; one toke after)"
   ]
  },
  {
   "cell_type": "code",
   "execution_count": 13,
   "metadata": {
    "ExecuteTime": {
     "end_time": "2023-02-09T12:08:16.290332Z",
     "start_time": "2023-02-09T12:08:16.288137Z"
    }
   },
   "outputs": [],
   "source": [
    "n_words, n_labels = len(vocab), 47"
   ]
  },
  {
   "cell_type": "code",
   "execution_count": 74,
   "metadata": {
    "ExecuteTime": {
     "end_time": "2023-02-09T12:40:43.459335Z",
     "start_time": "2023-02-09T12:40:43.434509Z"
    }
   },
   "outputs": [],
   "source": [
    "class TriGramSampler:\n",
    "    \"\"\"\n",
    "        Given X and Y matrices (or lists of lists),\n",
    "            it returns a batch worth of stuff upon __next__\n",
    "    :return:\n",
    "    \"\"\"\n",
    "\n",
    "    def __init__(self, data, vocab, _batchsize: int = 64):\n",
    "\n",
    "        self.nwords = len(vocab)\n",
    "        self.x, self.y = self.preproc(inputs=data['x'], labels=data['y'])\n",
    "        self.n = len(self.x)\n",
    "        self.bs = _batchsize  # Batch Size\n",
    "        \n",
    "    def preproc(self, inputs, labels):\n",
    "        X, Y = [], []\n",
    "        for doc, lbls in tqdm(zip(inputs, labels)):\n",
    "            doc = [-1] + doc + [-1]\n",
    "            for i in range(1, len(doc)-1):\n",
    "                X.append([doc[i-1], self.nwords+doc[i], self.nwords*2+doc[i+1]])\n",
    "                Y.append([lbls[i-1]])\n",
    "                \n",
    "        return np.asarray(X, dtype=np.int), np.asarray(Y, dtype=np.int)\n",
    "        \n",
    "\n",
    "    def __len__(self):\n",
    "        return self.n // self.bs - (1 if self.n % self.bs else 0)\n",
    "\n",
    "    def __iter__(self):\n",
    "        self.i, self.iter = 0, 0\n",
    "        return self\n",
    "\n",
    "    def __next__(self):\n",
    "        \"\"\"\n",
    "        @TODO: edge case: Return leftovers.\n",
    "        :return:\n",
    "        \"\"\"\n",
    "        if self.i + self.bs >= self.n:\n",
    "            raise StopIteration\n",
    "\n",
    "        _x, _y = self.x[self.i:self.i + self.bs], self.y[self.i:self.i + self.bs]\n",
    "        self.i += self.bs\n",
    "        \n",
    "        # Time to one-hot them\n",
    "        _X = np.zeros((_x.shape[0], self.nwords*3))\n",
    "        for i, __x in enumerate(_x):\n",
    "            _X[i, __x] = 1\n",
    "        \n",
    "        return _X, _y.squeeze(1)"
   ]
  },
  {
   "cell_type": "code",
   "execution_count": 75,
   "metadata": {
    "ExecuteTime": {
     "end_time": "2023-02-09T12:40:44.651410Z",
     "start_time": "2023-02-09T12:40:43.803370Z"
    }
   },
   "outputs": [
    {
     "data": {
      "application/vnd.jupyter.widget-view+json": {
       "model_id": "f26df5feb2fe4709b658aa7fc6ce5253",
       "version_major": 2,
       "version_minor": 0
      },
      "text/plain": [
       "0it [00:00, ?it/s]"
      ]
     },
     "metadata": {},
     "output_type": "display_data"
    }
   ],
   "source": [
    "train_sampler = TriGramSampler({'x': train_wordid, 'y': train_labels}, vocab)\n"
   ]
  },
  {
   "cell_type": "code",
   "execution_count": 35,
   "metadata": {
    "ExecuteTime": {
     "end_time": "2023-02-09T12:10:04.616905Z",
     "start_time": "2023-02-09T12:10:04.610659Z"
    }
   },
   "outputs": [],
   "source": [
    "class PosTagger(nn.Module):\n",
    "    ..."
   ]
  },
  {
   "cell_type": "code",
   "execution_count": 39,
   "metadata": {
    "ExecuteTime": {
     "end_time": "2023-02-09T12:10:17.377317Z",
     "start_time": "2023-02-09T12:10:17.330251Z"
    }
   },
   "outputs": [],
   "source": [
    "# init model lossfn and opt"
   ]
  },
  {
   "cell_type": "code",
   "execution_count": 41,
   "metadata": {
    "ExecuteTime": {
     "end_time": "2023-02-09T12:10:18.078117Z",
     "start_time": "2023-02-09T12:10:18.074547Z"
    }
   },
   "outputs": [],
   "source": [
    "# Define some metrics\n",
    "def acc(y_pred, y_true):\n",
    "    return torch.mean((y_pred.argmax(dim=1) == y_true)*1.0)"
   ]
  },
  {
   "cell_type": "raw",
   "metadata": {
    "ExecuteTime": {
     "end_time": "2023-02-09T12:43:00.998228Z",
     "start_time": "2023-02-09T12:43:00.982011Z"
    }
   },
   "source": [
    "# Lets test if everything works\n",
    "for x, y in train_sampler:\n",
    "    break\n",
    "print(\"X :\", x.shape, x.dtype)\n",
    "print(\"YT:\", y.shape, y.dtype)\n",
    "ypred = m(torch.tensor(x))\n",
    "print(\"YP:\", ypred.shape, ypred.dtype)\n",
    "loss = lfn(ypred, torch.tensor(y))\n",
    "print(\"L :\", loss)\n",
    "batchacc = acc(ypred, torch.tensor(y))\n",
    "batchacc"
   ]
  },
  {
   "cell_type": "code",
   "execution_count": 80,
   "metadata": {
    "ExecuteTime": {
     "end_time": "2023-02-09T12:43:13.330916Z",
     "start_time": "2023-02-09T12:43:13.324628Z"
    }
   },
   "outputs": [],
   "source": [
    "try:\n",
    "    from mytorch.loops import generic_loop\n",
    "except ImportError:\n",
    "    ! pip install my-torch\n",
    "    from mytorch.loops import generic_loop\n"
   ]
  },
  {
   "cell_type": "code",
   "execution_count": 81,
   "metadata": {
    "ExecuteTime": {
     "end_time": "2023-02-09T12:47:43.025776Z",
     "start_time": "2023-02-09T12:43:14.175961Z"
    }
   },
   "outputs": [
    {
     "data": {
      "application/vnd.jupyter.widget-view+json": {
       "model_id": "14d53fe51db241238c22afdb36144a52",
       "version_major": 2,
       "version_minor": 0
      },
      "text/plain": [
       "0it [00:00, ?it/s]"
      ]
     },
     "metadata": {},
     "output_type": "display_data"
    },
    {
     "data": {
      "application/vnd.jupyter.widget-view+json": {
       "model_id": "9451ccd183ac4fb380433c5f10e2507f",
       "version_major": 2,
       "version_minor": 0
      },
      "text/plain": [
       "0it [00:00, ?it/s]"
      ]
     },
     "metadata": {},
     "output_type": "display_data"
    },
    {
     "name": "stderr",
     "output_type": "stream",
     "text": [
      "  0%|          | 0/3180 [00:00<?, ?it/s]/home/priyansh/Dev/perm/conda/envs/main/lib/python3.8/site-packages/mytorch/loops.py:239: UserWarning: This overload of add is deprecated:\n",
      "\tadd(Number alpha, Tensor other)\n",
      "Consider using one of the following signatures instead:\n",
      "\tadd(Tensor other, *, Number alpha) (Triggered internally at  ../torch/csrc/utils/python_arg_parser.cpp:1055.)\n",
      "  param.data = param.data.add(-weight_decay * group['lr'], param.data)\n",
      "3181it [02:00, 26.35it/s]                          \n",
      "802it [00:03, 223.29it/s]                         "
     ]
    },
    {
     "name": "stdout",
     "output_type": "stream",
     "text": [
      "Epoch: 000 | Loss: 0.49259 | Tr_c: 0.85216 | Vl_c: 0.87668 | Time: 2.028 min\n"
     ]
    },
    {
     "name": "stderr",
     "output_type": "stream",
     "text": [
      "\n"
     ]
    },
    {
     "data": {
      "application/vnd.jupyter.widget-view+json": {
       "model_id": "79a3cd93bbe34441a2a967bb95089a61",
       "version_major": 2,
       "version_minor": 0
      },
      "text/plain": [
       "0it [00:00, ?it/s]"
      ]
     },
     "metadata": {},
     "output_type": "display_data"
    },
    {
     "data": {
      "application/vnd.jupyter.widget-view+json": {
       "model_id": "278a23915d36499a8846f981459f656b",
       "version_major": 2,
       "version_minor": 0
      },
      "text/plain": [
       "0it [00:00, ?it/s]"
      ]
     },
     "metadata": {},
     "output_type": "display_data"
    },
    {
     "name": "stderr",
     "output_type": "stream",
     "text": [
      "3181it [02:10, 24.37it/s]                          \n",
      "802it [00:03, 209.26it/s]                         "
     ]
    },
    {
     "name": "stdout",
     "output_type": "stream",
     "text": [
      "Epoch: 001 | Loss: 0.24718 | Tr_c: 0.91855 | Vl_c: 0.87547 | Time: 2.192 min\n"
     ]
    },
    {
     "name": "stderr",
     "output_type": "stream",
     "text": [
      "\n"
     ]
    },
    {
     "data": {
      "application/vnd.jupyter.widget-view+json": {
       "model_id": "fe8595e1d89143e1977aa9ea1da86f81",
       "version_major": 2,
       "version_minor": 0
      },
      "text/plain": [
       "0it [00:00, ?it/s]"
      ]
     },
     "metadata": {},
     "output_type": "display_data"
    },
    {
     "data": {
      "application/vnd.jupyter.widget-view+json": {
       "model_id": "d01d0c8451584be4b56bdcbf94a12f0f",
       "version_major": 2,
       "version_minor": 0
      },
      "text/plain": [
       "0it [00:00, ?it/s]"
      ]
     },
     "metadata": {},
     "output_type": "display_data"
    },
    {
     "name": "stderr",
     "output_type": "stream",
     "text": [
      "  5%|▌         | 172/3180 [00:07<02:05, 23.99it/s]\n"
     ]
    },
    {
     "ename": "KeyboardInterrupt",
     "evalue": "",
     "output_type": "error",
     "traceback": [
      "\u001b[0;31m---------------------------------------------------------------------------\u001b[0m",
      "\u001b[0;31mKeyboardInterrupt\u001b[0m                         Traceback (most recent call last)",
      "\u001b[0;32m<ipython-input-81-f17d0df31a77>\u001b[0m in \u001b[0;36m<module>\u001b[0;34m\u001b[0m\n\u001b[0;32m----> 1\u001b[0;31m traces = generic_loop(\n\u001b[0m\u001b[1;32m      2\u001b[0m     \u001b[0mepochs\u001b[0m \u001b[0;34m=\u001b[0m \u001b[0mepochs\u001b[0m\u001b[0;34m,\u001b[0m\u001b[0;34m\u001b[0m\u001b[0;34m\u001b[0m\u001b[0m\n\u001b[1;32m      3\u001b[0m     \u001b[0mdata\u001b[0m \u001b[0;34m=\u001b[0m \u001b[0;34m{\u001b[0m\u001b[0;34m\"train\"\u001b[0m\u001b[0;34m:\u001b[0m \u001b[0;34m{\u001b[0m\u001b[0;34m\"x\"\u001b[0m\u001b[0;34m:\u001b[0m \u001b[0mtrain_wordid\u001b[0m\u001b[0;34m,\u001b[0m \u001b[0;34m\"y\"\u001b[0m\u001b[0;34m:\u001b[0m \u001b[0mtrain_labels\u001b[0m\u001b[0;34m}\u001b[0m\u001b[0;34m,\u001b[0m \u001b[0;34m\"valid\"\u001b[0m\u001b[0;34m:\u001b[0m \u001b[0;34m{\u001b[0m\u001b[0;34m\"x\"\u001b[0m\u001b[0;34m:\u001b[0m \u001b[0mvalid_wordid\u001b[0m\u001b[0;34m,\u001b[0m \u001b[0;34m\"y\"\u001b[0m\u001b[0;34m:\u001b[0m \u001b[0mvalid_labels\u001b[0m\u001b[0;34m}\u001b[0m\u001b[0;34m}\u001b[0m\u001b[0;34m,\u001b[0m\u001b[0;34m\u001b[0m\u001b[0;34m\u001b[0m\u001b[0m\n\u001b[1;32m      4\u001b[0m     \u001b[0mdata_fn\u001b[0m \u001b[0;34m=\u001b[0m \u001b[0mpartial\u001b[0m\u001b[0;34m(\u001b[0m\u001b[0mTriGramSampler\u001b[0m\u001b[0;34m,\u001b[0m \u001b[0mvocab\u001b[0m\u001b[0;34m=\u001b[0m\u001b[0mvocab\u001b[0m\u001b[0;34m)\u001b[0m\u001b[0;34m,\u001b[0m\u001b[0;34m\u001b[0m\u001b[0;34m\u001b[0m\u001b[0m\n\u001b[1;32m      5\u001b[0m     \u001b[0mloss_fn\u001b[0m \u001b[0;34m=\u001b[0m \u001b[0mlfn\u001b[0m\u001b[0;34m,\u001b[0m\u001b[0;34m\u001b[0m\u001b[0;34m\u001b[0m\u001b[0m\n",
      "\u001b[0;32m~/Dev/perm/conda/envs/main/lib/python3.8/site-packages/mytorch/loops.py\u001b[0m in \u001b[0;36mgeneric_loop\u001b[0;34m(epochs, data, device, opt, loss_fn, model, train_fn, predict_fn, save, save_params, save_dir, save_above, save_args, epoch_count, epoch_start_hook, epoch_end_hook, batch_start_hook, batch_end_hook, weight_decay, clip_grads_at, lr_schedule, data_fn, eval_fn, notify, notify_key)\u001b[0m\n\u001b[1;32m    239\u001b[0m                         \u001b[0mparam\u001b[0m\u001b[0;34m.\u001b[0m\u001b[0mdata\u001b[0m \u001b[0;34m=\u001b[0m \u001b[0mparam\u001b[0m\u001b[0;34m.\u001b[0m\u001b[0mdata\u001b[0m\u001b[0;34m.\u001b[0m\u001b[0madd\u001b[0m\u001b[0;34m(\u001b[0m\u001b[0;34m-\u001b[0m\u001b[0mweight_decay\u001b[0m \u001b[0;34m*\u001b[0m \u001b[0mgroup\u001b[0m\u001b[0;34m[\u001b[0m\u001b[0;34m'lr'\u001b[0m\u001b[0;34m]\u001b[0m\u001b[0;34m,\u001b[0m \u001b[0mparam\u001b[0m\u001b[0;34m.\u001b[0m\u001b[0mdata\u001b[0m\u001b[0;34m)\u001b[0m\u001b[0;34m\u001b[0m\u001b[0;34m\u001b[0m\u001b[0m\n\u001b[1;32m    240\u001b[0m \u001b[0;34m\u001b[0m\u001b[0m\n\u001b[0;32m--> 241\u001b[0;31m                 \u001b[0mopt\u001b[0m\u001b[0;34m.\u001b[0m\u001b[0mstep\u001b[0m\u001b[0;34m(\u001b[0m\u001b[0;34m)\u001b[0m\u001b[0;34m\u001b[0m\u001b[0;34m\u001b[0m\u001b[0m\n\u001b[0m\u001b[1;32m    242\u001b[0m                 \u001b[0;32mif\u001b[0m \u001b[0mbatch_end_hook\u001b[0m\u001b[0;34m:\u001b[0m \u001b[0mbatch_end_hook\u001b[0m\u001b[0;34m(\u001b[0m\u001b[0;34m)\u001b[0m\u001b[0;34m\u001b[0m\u001b[0;34m\u001b[0m\u001b[0m\n\u001b[1;32m    243\u001b[0m \u001b[0;34m\u001b[0m\u001b[0m\n",
      "\u001b[0;32m~/Dev/perm/conda/envs/main/lib/python3.8/site-packages/torch/optim/optimizer.py\u001b[0m in \u001b[0;36mwrapper\u001b[0;34m(*args, **kwargs)\u001b[0m\n\u001b[1;32m     86\u001b[0m                 \u001b[0mprofile_name\u001b[0m \u001b[0;34m=\u001b[0m \u001b[0;34m\"Optimizer.step#{}.step\"\u001b[0m\u001b[0;34m.\u001b[0m\u001b[0mformat\u001b[0m\u001b[0;34m(\u001b[0m\u001b[0mobj\u001b[0m\u001b[0;34m.\u001b[0m\u001b[0m__class__\u001b[0m\u001b[0;34m.\u001b[0m\u001b[0m__name__\u001b[0m\u001b[0;34m)\u001b[0m\u001b[0;34m\u001b[0m\u001b[0;34m\u001b[0m\u001b[0m\n\u001b[1;32m     87\u001b[0m                 \u001b[0;32mwith\u001b[0m \u001b[0mtorch\u001b[0m\u001b[0;34m.\u001b[0m\u001b[0mautograd\u001b[0m\u001b[0;34m.\u001b[0m\u001b[0mprofiler\u001b[0m\u001b[0;34m.\u001b[0m\u001b[0mrecord_function\u001b[0m\u001b[0;34m(\u001b[0m\u001b[0mprofile_name\u001b[0m\u001b[0;34m)\u001b[0m\u001b[0;34m:\u001b[0m\u001b[0;34m\u001b[0m\u001b[0;34m\u001b[0m\u001b[0m\n\u001b[0;32m---> 88\u001b[0;31m                     \u001b[0;32mreturn\u001b[0m \u001b[0mfunc\u001b[0m\u001b[0;34m(\u001b[0m\u001b[0;34m*\u001b[0m\u001b[0margs\u001b[0m\u001b[0;34m,\u001b[0m \u001b[0;34m**\u001b[0m\u001b[0mkwargs\u001b[0m\u001b[0;34m)\u001b[0m\u001b[0;34m\u001b[0m\u001b[0;34m\u001b[0m\u001b[0m\n\u001b[0m\u001b[1;32m     89\u001b[0m             \u001b[0;32mreturn\u001b[0m \u001b[0mwrapper\u001b[0m\u001b[0;34m\u001b[0m\u001b[0;34m\u001b[0m\u001b[0m\n\u001b[1;32m     90\u001b[0m \u001b[0;34m\u001b[0m\u001b[0m\n",
      "\u001b[0;32m~/Dev/perm/conda/envs/main/lib/python3.8/site-packages/torch/autograd/grad_mode.py\u001b[0m in \u001b[0;36mdecorate_context\u001b[0;34m(*args, **kwargs)\u001b[0m\n\u001b[1;32m     25\u001b[0m         \u001b[0;32mdef\u001b[0m \u001b[0mdecorate_context\u001b[0m\u001b[0;34m(\u001b[0m\u001b[0;34m*\u001b[0m\u001b[0margs\u001b[0m\u001b[0;34m,\u001b[0m \u001b[0;34m**\u001b[0m\u001b[0mkwargs\u001b[0m\u001b[0;34m)\u001b[0m\u001b[0;34m:\u001b[0m\u001b[0;34m\u001b[0m\u001b[0;34m\u001b[0m\u001b[0m\n\u001b[1;32m     26\u001b[0m             \u001b[0;32mwith\u001b[0m \u001b[0mself\u001b[0m\u001b[0;34m.\u001b[0m\u001b[0mclone\u001b[0m\u001b[0;34m(\u001b[0m\u001b[0;34m)\u001b[0m\u001b[0;34m:\u001b[0m\u001b[0;34m\u001b[0m\u001b[0;34m\u001b[0m\u001b[0m\n\u001b[0;32m---> 27\u001b[0;31m                 \u001b[0;32mreturn\u001b[0m \u001b[0mfunc\u001b[0m\u001b[0;34m(\u001b[0m\u001b[0;34m*\u001b[0m\u001b[0margs\u001b[0m\u001b[0;34m,\u001b[0m \u001b[0;34m**\u001b[0m\u001b[0mkwargs\u001b[0m\u001b[0;34m)\u001b[0m\u001b[0;34m\u001b[0m\u001b[0;34m\u001b[0m\u001b[0m\n\u001b[0m\u001b[1;32m     28\u001b[0m         \u001b[0;32mreturn\u001b[0m \u001b[0mcast\u001b[0m\u001b[0;34m(\u001b[0m\u001b[0mF\u001b[0m\u001b[0;34m,\u001b[0m \u001b[0mdecorate_context\u001b[0m\u001b[0;34m)\u001b[0m\u001b[0;34m\u001b[0m\u001b[0;34m\u001b[0m\u001b[0m\n\u001b[1;32m     29\u001b[0m \u001b[0;34m\u001b[0m\u001b[0m\n",
      "\u001b[0;32m~/Dev/perm/conda/envs/main/lib/python3.8/site-packages/torch/optim/adam.py\u001b[0m in \u001b[0;36mstep\u001b[0;34m(self, closure)\u001b[0m\n\u001b[1;32m    139\u001b[0m                     \u001b[0mstate_steps\u001b[0m\u001b[0;34m.\u001b[0m\u001b[0mappend\u001b[0m\u001b[0;34m(\u001b[0m\u001b[0mstate\u001b[0m\u001b[0;34m[\u001b[0m\u001b[0;34m'step'\u001b[0m\u001b[0;34m]\u001b[0m\u001b[0;34m)\u001b[0m\u001b[0;34m\u001b[0m\u001b[0;34m\u001b[0m\u001b[0m\n\u001b[1;32m    140\u001b[0m \u001b[0;34m\u001b[0m\u001b[0m\n\u001b[0;32m--> 141\u001b[0;31m             F.adam(params_with_grad,\n\u001b[0m\u001b[1;32m    142\u001b[0m                    \u001b[0mgrads\u001b[0m\u001b[0;34m,\u001b[0m\u001b[0;34m\u001b[0m\u001b[0;34m\u001b[0m\u001b[0m\n\u001b[1;32m    143\u001b[0m                    \u001b[0mexp_avgs\u001b[0m\u001b[0;34m,\u001b[0m\u001b[0;34m\u001b[0m\u001b[0;34m\u001b[0m\u001b[0m\n",
      "\u001b[0;32m~/Dev/perm/conda/envs/main/lib/python3.8/site-packages/torch/optim/_functional.py\u001b[0m in \u001b[0;36madam\u001b[0;34m(params, grads, exp_avgs, exp_avg_sqs, max_exp_avg_sqs, state_steps, amsgrad, beta1, beta2, lr, weight_decay, eps, maximize)\u001b[0m\n\u001b[1;32m    108\u001b[0m \u001b[0;34m\u001b[0m\u001b[0m\n\u001b[1;32m    109\u001b[0m         \u001b[0mstep_size\u001b[0m \u001b[0;34m=\u001b[0m \u001b[0mlr\u001b[0m \u001b[0;34m/\u001b[0m \u001b[0mbias_correction1\u001b[0m\u001b[0;34m\u001b[0m\u001b[0;34m\u001b[0m\u001b[0m\n\u001b[0;32m--> 110\u001b[0;31m         \u001b[0mparam\u001b[0m\u001b[0;34m.\u001b[0m\u001b[0maddcdiv_\u001b[0m\u001b[0;34m(\u001b[0m\u001b[0mexp_avg\u001b[0m\u001b[0;34m,\u001b[0m \u001b[0mdenom\u001b[0m\u001b[0;34m,\u001b[0m \u001b[0mvalue\u001b[0m\u001b[0;34m=\u001b[0m\u001b[0;34m-\u001b[0m\u001b[0mstep_size\u001b[0m\u001b[0;34m)\u001b[0m\u001b[0;34m\u001b[0m\u001b[0;34m\u001b[0m\u001b[0m\n\u001b[0m\u001b[1;32m    111\u001b[0m \u001b[0;34m\u001b[0m\u001b[0m\n\u001b[1;32m    112\u001b[0m def adamw(params: List[Tensor],\n",
      "\u001b[0;31mKeyboardInterrupt\u001b[0m: "
     ]
    }
   ],
   "source": [
    "traces = generic_loop(\n",
    "    epochs = epochs,\n",
    "    data = {\"train\": {\"x\": train_wordid, \"y\": train_labels}, \"valid\": {\"x\": valid_wordid, \"y\": valid_labels}},\n",
    "    data_fn = partial(TriGramSampler, vocab=vocab),\n",
    "    loss_fn = lfn,\n",
    "    train_fn=m,\n",
    "    predict_fn=m,\n",
    "    model=m,\n",
    "    device='cpu',\n",
    "    opt = opt,\n",
    "    eval_fn=acc\n",
    ")"
   ]
  },
  {
   "cell_type": "code",
   "execution_count": 82,
   "metadata": {
    "ExecuteTime": {
     "end_time": "2023-02-09T12:47:45.961856Z",
     "start_time": "2023-02-09T12:47:45.622563Z"
    }
   },
   "outputs": [],
   "source": [
    "from sklearn.metrics import confusion_matrix\n",
    "import seaborn as sn\n",
    "import pandas as pd\n",
    "\n",
    "confusion_matrix?"
   ]
  },
  {
   "cell_type": "code",
   "execution_count": 93,
   "metadata": {
    "ExecuteTime": {
     "end_time": "2023-02-09T12:53:19.416619Z",
     "start_time": "2023-02-09T12:53:19.246706Z"
    }
   },
   "outputs": [
    {
     "data": {
      "text/plain": [
       "<AxesSubplot:>"
      ]
     },
     "execution_count": 93,
     "metadata": {},
     "output_type": "execute_result"
    },
    {
     "data": {
      "image/png": "[encoded data removed]",
      "text/plain": [
       "<Figure size 432x288 with 2 Axes>"
      ]
     },
     "metadata": {
      "needs_background": "light"
     },
     "output_type": "display_data"
    }
   ],
   "source": [
    "yt = torch.randint(0, 2, (10,))\n",
    "yp = torch.randint(0, 2, (10,))\n",
    "cf = confusion_matrix(yt, yp)\n",
    "sn.heatmap(cf)"
   ]
  },
  {
   "cell_type": "raw",
   "metadata": {
    "ExecuteTime": {
     "end_time": "2023-02-01T00:15:00.886594Z",
     "start_time": "2023-02-01T00:15:00.701320Z"
    }
   },
   "source": [
    "# Lets just count labels per word\n",
    "label_freq = np.zeros((n_words, n_labels))\n",
    "for tokens, labels in zip(train_wordid, train_labels):\n",
    "    for rowid, columnid in zip(tokens, labels):\n",
    "        label_freq[rowid, columnid] += 1\n",
    "\n",
    "# Do an argmax to find the most frequent label per word\n",
    "label_per_word = np.argmax(label_freq, axis=1)\n",
    "train_labels = [ label_per_word[doc] for doc in train_wordid]\n",
    "test_labels = [label_per_word[doc] for doc in test_wordid]\n",
    "valid_labels = [label_per_word[doc] for doc in valid_wordid]"
   ]
  },
  {
   "cell_type": "raw",
   "metadata": {
    "ExecuteTime": {
     "end_time": "2023-02-09T11:42:18.790727Z",
     "start_time": "2023-02-09T11:42:18.564437Z"
    }
   },
   "source": [
    "from matplotlib import pyplot as plt\n",
    "lens = [len(doc) for doc in train_wordid]\n",
    "# lens = [len(doc) for doc in tokenized_train_text]?\n",
    "bin_ranges = [i for i in range(0, max(lens), max(lens)//50)]\n",
    "\n",
    "#create histogram with 4 bins\n",
    "print(f\"Over {len(lens)} documents, the mean is {np.mean(lens):.2f} ± {np.std(lens):.2f}\")\n",
    "plt.figure(figsize=(14, 8))\n",
    "plt.hist(lens, bins=bin_ranges, edgecolor='black')\n",
    "plt.plot()"
   ]
  },
  {
   "cell_type": "code",
   "execution_count": null,
   "metadata": {},
   "outputs": [],
   "source": []
  }
 ],
 "metadata": {
  "kernelspec": {
   "display_name": "Python 3",
   "language": "python",
   "name": "python3"
  },
  "language_info": {
   "codemirror_mode": {
    "name": "ipython",
    "version": 3
   },
   "file_extension": ".py",
   "mimetype": "text/x-python",
   "name": "python",
   "nbconvert_exporter": "python",
   "pygments_lexer": "ipython3",
   "version": "3.8.5"
  }
 },
 "nbformat": 4,
 "nbformat_minor": 4
}
