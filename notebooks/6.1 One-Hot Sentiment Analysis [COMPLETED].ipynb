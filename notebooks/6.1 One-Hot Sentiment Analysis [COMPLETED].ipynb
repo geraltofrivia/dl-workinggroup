{
 "cells": [
  {
   "cell_type": "markdown",
   "metadata": {},
   "source": [
    "# Intro\n",
    "\n",
    "X -> Y makes supervised machine learning. We tried with random numbers. We tried with images. Pixels are numbers. Everything is numbers.\n",
    "\n",
    "We can treat text the same way."
   ]
  },
  {
   "cell_type": "code",
   "execution_count": 1,
   "metadata": {
    "ExecuteTime": {
     "end_time": "2023-01-26T12:25:13.629027Z",
     "start_time": "2023-01-26T12:25:11.817936Z"
    }
   },
   "outputs": [
    {
     "name": "stderr",
     "output_type": "stream",
     "text": [
      "/Users/priyansh.trivedi/Dev/learning/dl-workinggroup/.venv/lib/python3.12/site-packages/tqdm/auto.py:21: TqdmWarning: IProgress not found. Please update jupyter and ipywidgets. See https://ipywidgets.readthedocs.io/en/stable/user_install.html\n",
      "  from .autonotebook import tqdm as notebook_tqdm\n"
     ]
    }
   ],
   "source": [
    "from datasets import load_dataset\n",
    "from collections import Counter\n",
    "from tqdm.auto import tqdm\n",
    "import numpy as np\n",
    "import pandas as pd\n",
    "from matplotlib import pyplot as plt\n",
    "\n",
    "import pickle\n",
    "import json\n",
    "from pathlib import Path\n",
    "import torch \n",
    "import torch.nn as nn"
   ]
  },
  {
   "cell_type": "code",
   "execution_count": 2,
   "metadata": {
    "ExecuteTime": {
     "end_time": "2023-01-26T12:09:54.855771Z",
     "start_time": "2023-01-26T12:09:51.765590Z"
    }
   },
   "outputs": [
    {
     "name": "stderr",
     "output_type": "stream",
     "text": [
      "Using the latest cached version of the dataset since imdb couldn't be found on the Hugging Face Hub\n",
      "Found the latest cached dataset configuration 'plain_text' at /Users/priyansh.trivedi/.cache/huggingface/datasets/imdb/plain_text/0.0.0/e6281661ce1c48d982bc483cf8a173c1bbeb5d31 (last modified on Mon Nov 18 16:14:25 2024).\n"
     ]
    },
    {
     "data": {
      "text/plain": [
       "(25000,\n",
       " {'text': 'I rented I AM CURIOUS-YELLOW from my video store because of all the controversy that surrounded it when it was first released in 1967. I also heard that at first it was seized by U.S. customs if it ever tried to enter this country, therefore being a fan of films considered \"controversial\" I really had to see this for myself.<br /><br />The plot is centered around a young Swedish drama student named Lena who wants to learn everything she can about life. In particular she wants to focus her attentions to making some sort of documentary on what the average Swede thought about certain political issues such as the Vietnam War and race issues in the United States. In between asking politicians and ordinary denizens of Stockholm about their opinions on politics, she has sex with her drama teacher, classmates, and married men.<br /><br />What kills me about I AM CURIOUS-YELLOW is that 40 years ago, this was considered pornographic. Really, the sex and nudity scenes are few and far between, even then it\\'s not shot like some cheaply made porno. While my countrymen mind find it shocking, in reality sex and nudity are a major staple in Swedish cinema. Even Ingmar Bergman, arguably their answer to good old boy John Ford, had sex scenes in his films.<br /><br />I do commend the filmmakers for the fact that any sex shown in the film is shown for artistic purposes rather than just to shock people and make money to be shown in pornographic theaters in America. I AM CURIOUS-YELLOW is a good film for anyone wanting to study the meat and potatoes (no pun intended) of Swedish cinema. But really, this film doesn\\'t have much of a plot.',\n",
       "  'label': 0})"
      ]
     },
     "execution_count": 2,
     "metadata": {},
     "output_type": "execute_result"
    }
   ],
   "source": [
    "# Get the dataset\n",
    "imdb = load_dataset(\"imdb\")\n",
    "\n",
    "len(imdb['train']), imdb['train'][0]"
   ]
  },
  {
   "cell_type": "markdown",
   "metadata": {},
   "source": [
    "# One Hot Vectors\n",
    "\n",
    "![One Hot](https://miro.medium.com/max/828/1*9ZuDXoc2ek-GfHE2esty5A.webp)\n",
    "src - https://medium.com/intelligentmachines/word-embedding-and-one-hot-encoding-ad17b4bbe111"
   ]
  },
  {
   "cell_type": "code",
   "execution_count": 3,
   "metadata": {
    "ExecuteTime": {
     "end_time": "2023-01-26T12:09:54.860580Z",
     "start_time": "2023-01-26T12:09:54.857214Z"
    }
   },
   "outputs": [
    {
     "data": {
      "text/plain": [
       "['rome', 'paris', 'italy', 'france', 'potato', 'kartoffeln', 'patate']"
      ]
     },
     "execution_count": 3,
     "metadata": {},
     "output_type": "execute_result"
    }
   ],
   "source": [
    "document = \"Rome Paris Italy France Potato Kartoffeln Patate\".lower()\n",
    "tokens = document.split(' ')\n",
    "\n",
    "tokens"
   ]
  },
  {
   "cell_type": "code",
   "execution_count": 4,
   "metadata": {
    "ExecuteTime": {
     "end_time": "2023-01-26T12:09:54.866251Z",
     "start_time": "2023-01-26T12:09:54.862333Z"
    }
   },
   "outputs": [
    {
     "data": {
      "text/plain": [
       "{'rome': 0,\n",
       " 'paris': 1,\n",
       " 'italy': 2,\n",
       " 'france': 3,\n",
       " 'potato': 4,\n",
       " 'kartoffeln': 5,\n",
       " 'patate': 6}"
      ]
     },
     "execution_count": 4,
     "metadata": {},
     "output_type": "execute_result"
    }
   ],
   "source": [
    "vocab = {}\n",
    "for token in tokens:\n",
    "    token = token.lower()\n",
    "    if not token in vocab:\n",
    "        vocab[token] = len(vocab)\n",
    "        \n",
    "vocab"
   ]
  },
  {
   "cell_type": "code",
   "execution_count": 5,
   "metadata": {
    "ExecuteTime": {
     "end_time": "2023-01-26T12:09:54.871872Z",
     "start_time": "2023-01-26T12:09:54.867830Z"
    }
   },
   "outputs": [
    {
     "data": {
      "text/plain": [
       "{'rome': 0,\n",
       " 'paris': 1,\n",
       " 'italy': 2,\n",
       " 'france': 3,\n",
       " 'potato': 4,\n",
       " 'kartoffeln': 5,\n",
       " 'patate': 6}"
      ]
     },
     "execution_count": 5,
     "metadata": {},
     "output_type": "execute_result"
    }
   ],
   "source": [
    "vocab = {}\n",
    "for token in tokens:\n",
    "    vocab.setdefault(token, len(vocab))\n",
    "        \n",
    "vocab"
   ]
  },
  {
   "cell_type": "code",
   "execution_count": 6,
   "metadata": {
    "ExecuteTime": {
     "end_time": "2023-01-26T12:09:54.877330Z",
     "start_time": "2023-01-26T12:09:54.873172Z"
    }
   },
   "outputs": [
    {
     "data": {
      "text/plain": [
       "array([[1., 0., 0., 0., 0., 0., 0.],\n",
       "       [0., 1., 0., 0., 0., 0., 0.],\n",
       "       [0., 0., 1., 0., 0., 0., 0.],\n",
       "       [0., 0., 0., 1., 0., 0., 0.],\n",
       "       [0., 0., 0., 0., 1., 0., 0.],\n",
       "       [0., 0., 0., 0., 0., 1., 0.],\n",
       "       [0., 0., 0., 0., 0., 0., 1.]])"
      ]
     },
     "execution_count": 6,
     "metadata": {},
     "output_type": "execute_result"
    }
   ],
   "source": [
    "one_hots = []\n",
    "one_hots = np.zeros((len(vocab), len(tokens)))\n",
    "for word_nr, token in enumerate(tokens):\n",
    "    word_id = vocab[token]\n",
    "    one_hots[word_id, word_nr] = 1\n",
    "    \n",
    "one_hots"
   ]
  },
  {
   "cell_type": "markdown",
   "metadata": {
    "ExecuteTime": {
     "end_time": "2023-01-18T10:18:20.080338Z",
     "start_time": "2023-01-18T10:18:20.075071Z"
    }
   },
   "source": [
    "# Multi-Hot Bag of Words"
   ]
  },
  {
   "cell_type": "markdown",
   "metadata": {},
   "source": [
    "### IMDB"
   ]
  },
  {
   "cell_type": "code",
   "execution_count": 7,
   "metadata": {
    "ExecuteTime": {
     "end_time": "2023-01-26T12:09:55.681882Z",
     "start_time": "2023-01-26T12:09:54.894415Z"
    }
   },
   "outputs": [],
   "source": [
    "# Lets just work with 1000 documents for now\n",
    "\n",
    "train_text = [instance['text'] for instance in imdb['train']]#[:1000]\n",
    "train_labels = [instance['label'] for instance in imdb['train']]#[:1000]"
   ]
  },
  {
   "cell_type": "markdown",
   "metadata": {},
   "source": [
    "# Preprocess (estimate: 30-40 minutes).\n",
    "\n",
    "This is the most difficult part ^^"
   ]
  },
  {
   "cell_type": "markdown",
   "metadata": {},
   "source": [
    "## 1. Tokenize Text\n",
    "\n",
    "Document is one long string of text -> One unit (pixel) can be a word."
   ]
  },
  {
   "cell_type": "code",
   "execution_count": 8,
   "metadata": {
    "ExecuteTime": {
     "end_time": "2023-01-26T12:09:55.827179Z",
     "start_time": "2023-01-26T12:09:55.824451Z"
    }
   },
   "outputs": [],
   "source": [
    "def tokenize(document):\n",
    "    document = document.replace(\".\", \" .\").replace(\"!\", \" !\")\n",
    "    return document.split()"
   ]
  },
  {
   "cell_type": "code",
   "execution_count": 9,
   "metadata": {
    "ExecuteTime": {
     "end_time": "2023-01-26T12:09:56.748912Z",
     "start_time": "2023-01-26T12:09:56.742693Z"
    }
   },
   "outputs": [
    {
     "data": {
      "text/plain": [
       "'I|rented|I|AM|CURIOUS-YELLOW|from|my|video|store|because|of|all|the|controversy|that|surrounded|it|when|it|was|first|released|in|1967|.|I|also|heard|that|at|first|it|was|seized|by|U|.S|.|customs|if|it|ever|tried|to|enter|this|country,|therefore|being|a|fan|of|films|considered|\"controversial\"|I|really|had|to|see|this|for|myself|.<br|/><br|/>The|plot|is|centered|around|a|young|Swedish|drama|student|named|Lena|who|wants|to|learn|everything|she|can|about|life|.|In|particular|she|wants|to|focus|her|attentions|to|making|some|sort|of|documentary|on|what|the|average|Swede|thought|about|certain|political|issues|such|as|the|Vietnam|War|and|race|issues|in|the|United|States|.|In|between|asking|politicians|and|ordinary|denizens|of|Stockholm|about|their|opinions|on|politics,|she|has|sex|with|her|drama|teacher,|classmates,|and|married|men|.<br|/><br|/>What|kills|me|about|I|AM|CURIOUS-YELLOW|is|that|40|years|ago,|this|was|considered|pornographic|.|Really,|the|sex|and|nudity|scenes|are|few|and|far|between,|even|then|it\\'s|not|shot|like|some|cheaply|made|porno|.|While|my|countrymen|mind|find|it|shocking,|in|reality|sex|and|nudity|are|a|major|staple|in|Swedish|cinema|.|Even|Ingmar|Bergman,|arguably|their|answer|to|good|old|boy|John|Ford,|had|sex|scenes|in|his|films|.<br|/><br|/>I|do|commend|the|filmmakers|for|the|fact|that|any|sex|shown|in|the|film|is|shown|for|artistic|purposes|rather|than|just|to|shock|people|and|make|money|to|be|shown|in|pornographic|theaters|in|America|.|I|AM|CURIOUS-YELLOW|is|a|good|film|for|anyone|wanting|to|study|the|meat|and|potatoes|(no|pun|intended)|of|Swedish|cinema|.|But|really,|this|film|doesn\\'t|have|much|of|a|plot|.'"
      ]
     },
     "execution_count": 9,
     "metadata": {},
     "output_type": "execute_result"
    }
   ],
   "source": [
    "# Test our basic tokenizer\n",
    "'|'.join(tokenize(imdb['train'][0]['text']))"
   ]
  },
  {
   "cell_type": "markdown",
   "metadata": {},
   "source": [
    "### Spacy Tokenizer\n",
    "This one is actually useful.\n",
    "\n",
    "### To Install It\n",
    "\n",
    "`! pip install spacy`\n",
    "\n",
    "`! python -m spacy download en_core_web_sm`\n",
    "\n",
    "within jupyter cells (if you're not using uv)"
   ]
  },
  {
   "cell_type": "code",
   "execution_count": 10,
   "metadata": {
    "ExecuteTime": {
     "end_time": "2023-01-26T12:10:01.005438Z",
     "start_time": "2023-01-26T12:09:59.051965Z"
    }
   },
   "outputs": [],
   "source": [
    "# Actually useful tokenizer\n",
    "import spacy\n",
    "exclude = [\"parser\", \"tagger\", \"ner\", \"textcat\", \"attribute_ruler\", \"lemmatizer\"]\n",
    "nlp = spacy.load(\"en_core_web_sm\", exclude=exclude)\n",
    "\n",
    "def get_spacy_tokens(text):\n",
    "    return [token.text for token in nlp(text)]"
   ]
  },
  {
   "cell_type": "code",
   "execution_count": 11,
   "metadata": {
    "ExecuteTime": {
     "end_time": "2023-01-26T12:10:01.022433Z",
     "start_time": "2023-01-26T12:10:01.006481Z"
    }
   },
   "outputs": [
    {
     "data": {
      "text/plain": [
       "'I|rented|I|AM|CURIOUS|-|YELLOW|from|my|video|store|because|of|all|the|controversy|that|surrounded|it|when|it|was|first|released|in|1967|.|I|also|heard|that|at|first|it|was|seized|by|U.S.|customs|if|it|ever|tried|to|enter|this|country|,|therefore|being|a|fan|of|films|considered|\"|controversial|\"|I|really|had|to|see|this|for|myself.<br|/><br|/>The|plot|is|centered|around|a|young|Swedish|drama|student|named|Lena|who|wants|to|learn|everything|she|can|about|life|.|In|particular|she|wants|to|focus|her|attentions|to|making|some|sort|of|documentary|on|what|the|average|Swede|thought|about|certain|political|issues|such|as|the|Vietnam|War|and|race|issues|in|the|United|States|.|In|between|asking|politicians|and|ordinary|denizens|of|Stockholm|about|their|opinions|on|politics|,|she|has|sex|with|her|drama|teacher|,|classmates|,|and|married|men.<br|/><br|/>What|kills|me|about|I|AM|CURIOUS|-|YELLOW|is|that|40|years|ago|,|this|was|considered|pornographic|.|Really|,|the|sex|and|nudity|scenes|are|few|and|far|between|,|even|then|it|\\'s|not|shot|like|some|cheaply|made|porno|.|While|my|countrymen|mind|find|it|shocking|,|in|reality|sex|and|nudity|are|a|major|staple|in|Swedish|cinema|.|Even|Ingmar|Bergman|,|arguably|their|answer|to|good|old|boy|John|Ford|,|had|sex|scenes|in|his|films.<br|/><br|/>I|do|commend|the|filmmakers|for|the|fact|that|any|sex|shown|in|the|film|is|shown|for|artistic|purposes|rather|than|just|to|shock|people|and|make|money|to|be|shown|in|pornographic|theaters|in|America|.|I|AM|CURIOUS|-|YELLOW|is|a|good|film|for|anyone|wanting|to|study|the|meat|and|potatoes|(|no|pun|intended|)|of|Swedish|cinema|.|But|really|,|this|film|does|n\\'t|have|much|of|a|plot|.'"
      ]
     },
     "execution_count": 11,
     "metadata": {},
     "output_type": "execute_result"
    }
   ],
   "source": [
    "# Test Spacy Tokenizer\n",
    "tokens = get_spacy_tokens(train_text[0])\n",
    "'|'.join(tokens)"
   ]
  },
  {
   "cell_type": "code",
   "execution_count": 12,
   "metadata": {
    "ExecuteTime": {
     "end_time": "2023-01-17T21:55:28.747463Z",
     "start_time": "2023-01-17T21:55:25.159926Z"
    }
   },
   "outputs": [],
   "source": [
    "# # Tokenize Everything \n",
    "# # NOTE: this might take some time. There are ways to speed it up but we dont need that for now\n",
    "# tokenized_train_text = []\n",
    "# for text in tqdm(train_text):\n",
    "#    tokenized_train_text.append(get_spacy_tokens(text))"
   ]
  },
  {
   "cell_type": "code",
   "execution_count": 13,
   "metadata": {
    "ExecuteTime": {
     "end_time": "2023-01-26T12:12:35.211210Z",
     "start_time": "2023-01-26T12:10:09.742433Z"
    }
   },
   "outputs": [
    {
     "name": "stdout",
     "output_type": "stream",
     "text": [
      "Tokenized 25000 documents\n"
     ]
    }
   ],
   "source": [
    "# # This takes 2-5 minutes. We'll talk till then ^^'\n",
    "# train_docs = list(nlp.pipe(train_text))\n",
    "# tokenized_train_text = [[tok.text for tok in doc] for doc in train_docs]\n",
    "\n",
    "# This is faster:\n",
    "# Process documents in batches to save memory\n",
    "tokenized_train_text = []\n",
    "for doc_batch in nlp.pipe(train_text, batch_size=200, n_process=-1, disable=[\"tok2vec\", \"tagger\", \"parser\", \"attribute_ruler\", \"lemmatizer\"]):\n",
    "    tokenized_train_text.append([token.text for token in doc_batch])\n",
    "\n",
    "print(f\"Tokenized {len(tokenized_train_text)} documents\")"
   ]
  },
  {
   "cell_type": "markdown",
   "metadata": {
    "ExecuteTime": {
     "end_time": "2023-01-18T09:47:52.045634Z",
     "start_time": "2023-01-18T09:47:52.040144Z"
    }
   },
   "source": [
    "## 1.1 Exploring the data \n",
    "\n",
    "- Length Distribution\n"
   ]
  },
  {
   "cell_type": "code",
   "execution_count": 14,
   "metadata": {
    "ExecuteTime": {
     "end_time": "2023-01-18T09:54:58.791484Z",
     "start_time": "2023-01-18T09:54:58.573048Z"
    }
   },
   "outputs": [
    {
     "name": "stdout",
     "output_type": "stream",
     "text": [
      "Over 25000 documents, the mean is 272.46 ± 202.59\n"
     ]
    },
    {
     "data": {
      "text/plain": [
       "[]"
      ]
     },
     "execution_count": 14,
     "metadata": {},
     "output_type": "execute_result"
    },
    {
     "data": {
      "image/png": "[encoded data removed]",
      "text/plain": [
       "<Figure size 1400x800 with 1 Axes>"
      ]
     },
     "metadata": {},
     "output_type": "display_data"
    }
   ],
   "source": [
    "lens = [len(doc) for doc in tokenized_train_text]\n",
    "bin_ranges = [i for i in range(0, max(lens), max(lens)//50)]\n",
    "\n",
    "#create histogram with 4 bins\n",
    "print(f\"Over {len(lens)} documents, the mean is {np.mean(lens):.2f} ± {np.std(lens):.2f}\")\n",
    "plt.figure(figsize=(14, 8))\n",
    "plt.hist(lens, bins=bin_ranges, edgecolor='black')\n",
    "plt.plot()"
   ]
  },
  {
   "cell_type": "code",
   "execution_count": 15,
   "metadata": {
    "ExecuteTime": {
     "end_time": "2023-01-18T09:55:22.669868Z",
     "start_time": "2023-01-18T09:55:22.664095Z"
    }
   },
   "outputs": [],
   "source": [
    "# # Lets decide on a maximum length of documents based on this. Say 200\n",
    "# maxlen = 200"
   ]
  },
  {
   "cell_type": "markdown",
   "metadata": {},
   "source": [
    "## 2. Create Vocabulary"
   ]
  },
  {
   "cell_type": "code",
   "execution_count": 16,
   "metadata": {
    "ExecuteTime": {
     "end_time": "2023-01-26T12:12:36.598980Z",
     "start_time": "2023-01-26T12:12:35.212435Z"
    }
   },
   "outputs": [
    {
     "name": "stderr",
     "output_type": "stream",
     "text": [
      "100%|██████████| 25000/25000 [00:00<00:00, 41412.32it/s]\n"
     ]
    },
    {
     "data": {
      "text/plain": [
       "121065"
      ]
     },
     "execution_count": 16,
     "metadata": {},
     "output_type": "execute_result"
    }
   ],
   "source": [
    "# The same setdefault stuff we did above\n",
    "vocab = {}\n",
    "for document in tqdm(tokenized_train_text):\n",
    "    for token in document:\n",
    "        vocab.setdefault(token, len(vocab))\n",
    "    \n",
    "len(vocab)"
   ]
  },
  {
   "cell_type": "markdown",
   "metadata": {
    "ExecuteTime": {
     "end_time": "2023-01-17T22:07:52.341213Z",
     "start_time": "2023-01-17T22:07:52.334930Z"
    }
   },
   "source": [
    "### That's way too many words. 121065?\n",
    "\n",
    "Let's make sure we have only 10000 words. \n",
    "\n",
    "First 10000 words?\n",
    "\n",
    "\n",
    "NO! The most common 10000 words\n",
    "\n",
    "How?\n",
    "- count the frequency of all the tokens\n",
    "- sort it and choose top 10,000\n",
    "- turn text to IDs based on this. For the rejected words, turn them into something like 'UNKNOWN'."
   ]
  },
  {
   "cell_type": "code",
   "execution_count": 17,
   "metadata": {
    "ExecuteTime": {
     "end_time": "2023-01-26T12:12:36.602910Z",
     "start_time": "2023-01-26T12:12:36.600256Z"
    }
   },
   "outputs": [
    {
     "name": "stdout",
     "output_type": "stream",
     "text": [
      "Counter({'the': 1, 'red': 1, 'pill': 1})\n",
      "Counter({'the': 2, 'red': 1, 'pill': 1, 'blue': 1, 'gill': 1})\n"
     ]
    }
   ],
   "source": [
    "# Understanding Counters\n",
    "counter = Counter()\n",
    "\n",
    "counter.update(['the', 'red', 'pill'])\n",
    "print(counter)\n",
    "counter.update(['the', 'blue', 'gill'])\n",
    "print(counter)"
   ]
  },
  {
   "cell_type": "code",
   "execution_count": 18,
   "metadata": {
    "ExecuteTime": {
     "end_time": "2023-01-26T12:12:37.341622Z",
     "start_time": "2023-01-26T12:12:36.603922Z"
    }
   },
   "outputs": [
    {
     "name": "stderr",
     "output_type": "stream",
     "text": [
      "100%|██████████| 25000/25000 [00:00<00:00, 56957.34it/s]\n"
     ]
    }
   ],
   "source": [
    "counter = Counter()\n",
    "for document in tqdm(tokenized_train_text):\n",
    "    counter.update(document)"
   ]
  },
  {
   "cell_type": "code",
   "execution_count": 19,
   "metadata": {
    "ExecuteTime": {
     "end_time": "2023-01-26T12:12:37.363896Z",
     "start_time": "2023-01-26T12:12:37.342956Z"
    },
    "scrolled": true
   },
   "outputs": [
    {
     "data": {
      "text/plain": [
       "(121065,\n",
       " [('the', 289838),\n",
       "  (',', 275296),\n",
       "  ('.', 236709),\n",
       "  ('and', 156484),\n",
       "  ('a', 156282),\n",
       "  ('of', 144056),\n",
       "  ('to', 133886),\n",
       "  ('is', 109095),\n",
       "  ('in', 87676),\n",
       "  ('I', 77546)])"
      ]
     },
     "execution_count": 19,
     "metadata": {},
     "output_type": "execute_result"
    }
   ],
   "source": [
    "len(counter), counter.most_common(10)"
   ]
  },
  {
   "cell_type": "code",
   "execution_count": 20,
   "metadata": {
    "ExecuteTime": {
     "end_time": "2023-01-18T10:03:57.020889Z",
     "start_time": "2023-01-18T10:03:56.409805Z"
    }
   },
   "outputs": [
    {
     "name": "stdout",
     "output_type": "stream",
     "text": [
      "Vocabulary size: 121065 unique words\n",
      "Most common word appears 289838 times\n",
      "Mean word frequency: 56.26 ± 1813.84\n"
     ]
    },
    {
     "data": {
      "image/png": "[encoded data removed]",
      "text/plain": [
       "<Figure size 1200x1000 with 2 Axes>"
      ]
     },
     "metadata": {},
     "output_type": "display_data"
    }
   ],
   "source": [
    "# Plot the word frequencies to help decide on a vocabulary limit\n",
    "word_counts = [count for word, count in counter.most_common()]\n",
    "total_words = len(word_counts)\n",
    "\n",
    "# Create a more informative print statement\n",
    "print(f\"Vocabulary size: {total_words} unique words\")\n",
    "print(f\"Most common word appears {word_counts[0]} times\")\n",
    "print(f\"Mean word frequency: {np.mean(word_counts):.2f} ± {np.std(word_counts):.2f}\")\n",
    "\n",
    "# Create a cleaner plotting setup\n",
    "plt.figure(figsize=(12, 10))\n",
    "\n",
    "# Plot frequency distribution on log scale (more informative for power law distributions)\n",
    "plt.subplot(211)\n",
    "plt.hist(word_counts, bins=50, color='steelblue', edgecolor='black')\n",
    "plt.title('Word Frequency Distribution (Linear Scale)')\n",
    "plt.xlabel('Word Frequency')\n",
    "plt.ylabel('Number of Words')\n",
    "\n",
    "# Plot on log scale to better visualize the long tail\n",
    "plt.subplot(212)\n",
    "plt.hist(word_counts, bins=np.logspace(0, np.log10(max(word_counts)), 50), \n",
    "         color='steelblue', edgecolor='black')\n",
    "plt.xscale('log')\n",
    "plt.title('Word Frequency Distribution (Log Scale)')\n",
    "plt.xlabel('Word Frequency (log scale)')\n",
    "plt.ylabel('Number of Words')\n",
    "\n",
    "plt.tight_layout()\n",
    "plt.show()"
   ]
  },
  {
   "cell_type": "code",
   "execution_count": 21,
   "metadata": {
    "ExecuteTime": {
     "end_time": "2023-01-26T12:12:37.366828Z",
     "start_time": "2023-01-26T12:12:37.365019Z"
    }
   },
   "outputs": [],
   "source": [
    "n_words = 10000"
   ]
  },
  {
   "cell_type": "code",
   "execution_count": 22,
   "metadata": {
    "ExecuteTime": {
     "end_time": "2023-01-26T12:18:01.953487Z",
     "start_time": "2023-01-26T12:18:01.880983Z"
    }
   },
   "outputs": [],
   "source": [
    "# Lets create the actual vocab now. \n",
    "# We need one special word for 'UNKNOWN': those words that our 'out of vocabulary' for us\n",
    "# and for 'PADDING': when a sequence is less than the seuqence length we decided\n",
    "vocab = {'--UNK--': 0, '--PAD--': 1} \n",
    "\n",
    "for i, (k,v) in enumerate(counter.most_common(n_words)):\n",
    "    vocab.setdefault(k, len(vocab))"
   ]
  },
  {
   "cell_type": "code",
   "execution_count": 23,
   "metadata": {
    "ExecuteTime": {
     "end_time": "2023-01-26T12:18:02.205255Z",
     "start_time": "2023-01-26T12:18:02.200671Z"
    }
   },
   "outputs": [],
   "source": [
    "n_words = n_words + 2 # for special characters"
   ]
  },
  {
   "cell_type": "markdown",
   "metadata": {
    "ExecuteTime": {
     "end_time": "2023-01-18T09:56:50.727278Z",
     "start_time": "2023-01-18T09:56:50.687945Z"
    }
   },
   "source": [
    "!! **Good idea to go through the vocabulary, spot the fishy ones and re-adapt your preprocessing to take care of them.**\n"
   ]
  },
  {
   "cell_type": "markdown",
   "metadata": {},
   "source": [
    "## 3. Coverting tokens to word IDs\n"
   ]
  },
  {
   "cell_type": "code",
   "execution_count": 24,
   "metadata": {
    "ExecuteTime": {
     "end_time": "2023-01-26T12:18:05.790719Z",
     "start_time": "2023-01-26T12:18:05.045680Z"
    }
   },
   "outputs": [],
   "source": [
    "wordid_train_text = [[vocab.get(tok, vocab['--UNK--']) for tok in doc] for doc in tokenized_train_text]\n",
    "# bow_train_text = [list(set(doc)) for doc in wordid_train_text]"
   ]
  },
  {
   "cell_type": "code",
   "execution_count": 25,
   "metadata": {
    "ExecuteTime": {
     "end_time": "2023-01-26T12:18:58.030255Z",
     "start_time": "2023-01-26T12:18:57.790273Z"
    }
   },
   "outputs": [
    {
     "name": "stdout",
     "output_type": "stream",
     "text": [
      "zsh:1: command not found: free\n"
     ]
    }
   ],
   "source": [
    "! free -h"
   ]
  },
  {
   "cell_type": "markdown",
   "metadata": {
    "ExecuteTime": {
     "end_time": "2023-01-26T12:18:17.059967Z",
     "start_time": "2023-01-26T12:18:17.054071Z"
    }
   },
   "source": [
    "### 3.2 Do the same for test text\n"
   ]
  },
  {
   "cell_type": "code",
   "execution_count": 26,
   "metadata": {
    "ExecuteTime": {
     "end_time": "2023-01-26T12:22:04.826599Z",
     "start_time": "2023-01-26T12:19:40.992063Z"
    }
   },
   "outputs": [],
   "source": [
    "test_text = [instance['text'] for instance in imdb['test']]#[:1000]\n",
    "test_labels = [instance['label'] for instance in imdb['test']]#[:1000]\n",
    "test_docs = list(nlp.pipe(test_text, batch_size=200, n_process=-1, disable=[\"tok2vec\", \"tagger\", \"parser\", \"attribute_ruler\", \"lemmatizer\"]))\n",
    "tokenized_test_text = [[tok.text for tok in doc] for doc in test_docs]\n",
    "wordid_test_text = [[vocab.get(tok, vocab['--UNK--']) for tok in doc] for doc in tokenized_test_text]\n"
   ]
  },
  {
   "cell_type": "markdown",
   "metadata": {
    "ExecuteTime": {
     "end_time": "2023-01-24T12:40:00.782526Z",
     "start_time": "2023-01-24T12:40:00.774575Z"
    }
   },
   "source": [
    "## 4. Dump this stuff to disk\n",
    "\n",
    "Next step is a transformation where we lose information (i.e. cant get sequence back from Bag of Words)"
   ]
  },
  {
   "cell_type": "code",
   "execution_count": null,
   "metadata": {
    "ExecuteTime": {
     "end_time": "2023-01-26T12:23:45.039031Z",
     "start_time": "2023-01-26T12:23:44.757272Z"
    }
   },
   "outputs": [],
   "source": [
    "# Dump the WordID and vocab to disk\n",
    "dump_dir = Path('../resources/datasets/imdb/proc')\n",
    "dump_dir.mkdir(parents=True, exist_ok=True)\n",
    "with (dump_dir/'vocab.json').open('w+') as f:\n",
    "    json.dump(vocab, f)\n",
    "    \n",
    "with (dump_dir/'wordids_train.pkl').open('wb+') as f:\n",
    "    pickle.dump(wordid_train_text, f)\n",
    "    \n",
    "with (dump_dir/'train_labels.pkl').open('wb+') as f:\n",
    "    pickle.dump(train_labels, f)\n",
    "    \n",
    "with (dump_dir/'wordids_test.pkl').open('wb+') as f:\n",
    "    pickle.dump(wordid_test_text, f)\n",
    "    \n",
    "with (dump_dir/'test_labels.pkl').open('wb+') as f:\n",
    "    pickle.dump(test_labels, f)"
   ]
  },
  {
   "cell_type": "code",
   "execution_count": null,
   "metadata": {
    "ExecuteTime": {
     "end_time": "2023-01-26T12:26:44.993958Z",
     "start_time": "2023-01-26T12:26:44.247121Z"
    }
   },
   "outputs": [],
   "source": [
    "# Try loading from disk\n",
    "dump_dir = Path('../resources/datasets/imdb/proc')\n",
    "with (dump_dir/'vocab.json').open('r') as f:\n",
    "    vocab = json.load(f)\n",
    "    \n",
    "with (dump_dir/'wordids_train.pkl').open('rb') as f:\n",
    "    wordid_train_text = pickle.load(f)\n",
    "    \n",
    "with (dump_dir/'train_labels.pkl').open('rb') as f:\n",
    "    train_labels = pickle.load(f)\n",
    "    \n",
    "with (dump_dir/'wordids_test.pkl').open('rb') as f:\n",
    "    wordid_test_text = pickle.load(f)\n",
    "    \n",
    "with (dump_dir/'test_labels.pkl').open('rb') as f:\n",
    "    test_labels = pickle.load(f)\n",
    "    \n",
    "n_words = len(vocab)"
   ]
  },
  {
   "cell_type": "code",
   "execution_count": 29,
   "metadata": {},
   "outputs": [
    {
     "data": {
      "text/plain": [
       "[11,\n",
       " 1653,\n",
       " 11,\n",
       " 0,\n",
       " 0,\n",
       " 17,\n",
       " 0,\n",
       " 46,\n",
       " 83,\n",
       " 419,\n",
       " 1163,\n",
       " 101,\n",
       " 7,\n",
       " 42,\n",
       " 2,\n",
       " 7849,\n",
       " 13,\n",
       " 3554,\n",
       " 12,\n",
       " 70,\n",
       " 12,\n",
       " 19,\n",
       " 106,\n",
       " 668,\n",
       " 10,\n",
       " 7616,\n",
       " 4,\n",
       " 11,\n",
       " 108,\n",
       " 587,\n",
       " 13,\n",
       " 41,\n",
       " 106,\n",
       " 12,\n",
       " 19,\n",
       " 0,\n",
       " 40,\n",
       " 2451,\n",
       " 0,\n",
       " 76,\n",
       " 12,\n",
       " 145,\n",
       " 820,\n",
       " 8,\n",
       " 3683,\n",
       " 16,\n",
       " 754,\n",
       " 3,\n",
       " 2134,\n",
       " 128,\n",
       " 6,\n",
       " 360,\n",
       " 7,\n",
       " 123,\n",
       " 1206,\n",
       " 14,\n",
       " 3226,\n",
       " 14,\n",
       " 11,\n",
       " 77,\n",
       " 73,\n",
       " 8,\n",
       " 80,\n",
       " 16,\n",
       " 23,\n",
       " 0,\n",
       " 18,\n",
       " 118,\n",
       " 129,\n",
       " 9,\n",
       " 4313,\n",
       " 208,\n",
       " 6,\n",
       " 219,\n",
       " 4384,\n",
       " 490,\n",
       " 1534,\n",
       " 795,\n",
       " 4963,\n",
       " 44,\n",
       " 511,\n",
       " 8,\n",
       " 873,\n",
       " 346,\n",
       " 72,\n",
       " 69,\n",
       " 51,\n",
       " 134,\n",
       " 4,\n",
       " 159,\n",
       " 862,\n",
       " 72,\n",
       " 511,\n",
       " 8,\n",
       " 1154,\n",
       " 49,\n",
       " 0,\n",
       " 8,\n",
       " 256,\n",
       " 59,\n",
       " 460,\n",
       " 7,\n",
       " 691,\n",
       " 28,\n",
       " 65,\n",
       " 2,\n",
       " 902,\n",
       " 0,\n",
       " 214,\n",
       " 51,\n",
       " 845,\n",
       " 1003,\n",
       " 1380,\n",
       " 161,\n",
       " 20,\n",
       " 2,\n",
       " 2692,\n",
       " 982,\n",
       " 5,\n",
       " 1673,\n",
       " 1380,\n",
       " 10,\n",
       " 2,\n",
       " 2635,\n",
       " 2636,\n",
       " 4,\n",
       " 159,\n",
       " 216,\n",
       " 2283,\n",
       " 8351,\n",
       " 5,\n",
       " 2066,\n",
       " 0,\n",
       " 7,\n",
       " 0,\n",
       " 51,\n",
       " 79,\n",
       " 5139,\n",
       " 28,\n",
       " 2588,\n",
       " 3,\n",
       " 72,\n",
       " 52,\n",
       " 420,\n",
       " 21,\n",
       " 49,\n",
       " 490,\n",
       " 1784,\n",
       " 3,\n",
       " 9080,\n",
       " 3,\n",
       " 5,\n",
       " 1078,\n",
       " 0,\n",
       " 18,\n",
       " 1123,\n",
       " 1147,\n",
       " 84,\n",
       " 51,\n",
       " 11,\n",
       " 0,\n",
       " 0,\n",
       " 17,\n",
       " 0,\n",
       " 9,\n",
       " 13,\n",
       " 1528,\n",
       " 177,\n",
       " 635,\n",
       " 3,\n",
       " 16,\n",
       " 19,\n",
       " 1206,\n",
       " 8631,\n",
       " 4,\n",
       " 2343,\n",
       " 3,\n",
       " 2,\n",
       " 420,\n",
       " 5,\n",
       " 1068,\n",
       " 158,\n",
       " 32,\n",
       " 186,\n",
       " 5,\n",
       " 257,\n",
       " 216,\n",
       " 3,\n",
       " 81,\n",
       " 122,\n",
       " 12,\n",
       " 15,\n",
       " 33,\n",
       " 344,\n",
       " 47,\n",
       " 59,\n",
       " 6876,\n",
       " 104,\n",
       " 4855,\n",
       " 4,\n",
       " 555,\n",
       " 83,\n",
       " 0,\n",
       " 361,\n",
       " 181,\n",
       " 12,\n",
       " 1679,\n",
       " 3,\n",
       " 10,\n",
       " 686,\n",
       " 420,\n",
       " 5,\n",
       " 1068,\n",
       " 32,\n",
       " 6,\n",
       " 751,\n",
       " 0,\n",
       " 10,\n",
       " 4384,\n",
       " 496,\n",
       " 4,\n",
       " 463,\n",
       " 0,\n",
       " 4856,\n",
       " 3,\n",
       " 5230,\n",
       " 79,\n",
       " 1623,\n",
       " 8,\n",
       " 60,\n",
       " 178,\n",
       " 487,\n",
       " 334,\n",
       " 1821,\n",
       " 3,\n",
       " 73,\n",
       " 420,\n",
       " 158,\n",
       " 10,\n",
       " 35,\n",
       " 4278,\n",
       " 18,\n",
       " 199,\n",
       " 57,\n",
       " 0,\n",
       " 2,\n",
       " 1089,\n",
       " 23,\n",
       " 2,\n",
       " 211,\n",
       " 13,\n",
       " 115,\n",
       " 420,\n",
       " 639,\n",
       " 10,\n",
       " 2,\n",
       " 24,\n",
       " 9,\n",
       " 639,\n",
       " 23,\n",
       " 1661,\n",
       " 5497,\n",
       " 274,\n",
       " 87,\n",
       " 56,\n",
       " 8,\n",
       " 1560,\n",
       " 99,\n",
       " 5,\n",
       " 107,\n",
       " 307,\n",
       " 8,\n",
       " 36,\n",
       " 639,\n",
       " 10,\n",
       " 8631,\n",
       " 2344,\n",
       " 10,\n",
       " 877,\n",
       " 4,\n",
       " 11,\n",
       " 0,\n",
       " 0,\n",
       " 17,\n",
       " 0,\n",
       " 9,\n",
       " 6,\n",
       " 60,\n",
       " 24,\n",
       " 23,\n",
       " 294,\n",
       " 1842,\n",
       " 8,\n",
       " 2148,\n",
       " 2,\n",
       " 4248,\n",
       " 5,\n",
       " 0,\n",
       " 27,\n",
       " 82,\n",
       " 5815,\n",
       " 1472,\n",
       " 30,\n",
       " 7,\n",
       " 4384,\n",
       " 496,\n",
       " 4,\n",
       " 126,\n",
       " 77,\n",
       " 3,\n",
       " 16,\n",
       " 24,\n",
       " 85,\n",
       " 29,\n",
       " 34,\n",
       " 89,\n",
       " 7,\n",
       " 6,\n",
       " 129,\n",
       " 4]"
      ]
     },
     "execution_count": 29,
     "metadata": {},
     "output_type": "execute_result"
    }
   ],
   "source": [
    "wordid_train_text[0]"
   ]
  },
  {
   "cell_type": "markdown",
   "metadata": {},
   "source": [
    "## 5. Bag of Words\n",
    "\n",
    "We don't need sequences. "
   ]
  },
  {
   "cell_type": "code",
   "execution_count": 30,
   "metadata": {
    "ExecuteTime": {
     "end_time": "2023-01-26T12:26:45.459781Z",
     "start_time": "2023-01-26T12:26:45.454543Z"
    }
   },
   "outputs": [],
   "source": [
    "# Case 1: Only one-hot representation"
   ]
  },
  {
   "cell_type": "code",
   "execution_count": 31,
   "metadata": {
    "ExecuteTime": {
     "end_time": "2023-01-26T12:26:47.809161Z",
     "start_time": "2023-01-26T12:26:45.668147Z"
    }
   },
   "outputs": [
    {
     "data": {
      "text/plain": [
       "(np.float32(1.0), np.float32(0.013864007))"
      ]
     },
     "execution_count": 31,
     "metadata": {},
     "output_type": "execute_result"
    }
   ],
   "source": [
    "X = np.zeros((len(wordid_train_text), n_words), dtype=np.float32)\n",
    "Y = np.asarray(train_labels, dtype=np.float32).reshape(-1, 1)\n",
    "\n",
    "for i, wordid_document in enumerate(wordid_train_text):\n",
    "    for token_id in wordid_document:\n",
    "        X[i][token_id] = 1\n",
    "    \n",
    "    \n",
    "X.max(), X.mean()"
   ]
  },
  {
   "cell_type": "code",
   "execution_count": 32,
   "metadata": {
    "ExecuteTime": {
     "end_time": "2023-01-26T12:26:49.004356Z",
     "start_time": "2023-01-26T12:26:47.810150Z"
    }
   },
   "outputs": [],
   "source": [
    "# Dump this to disk\n",
    "dump_dir = dump_dir.parent / 'bow_onehot'\n",
    "dump_dir.mkdir(parents=True, exist_ok=True)\n",
    "with (dump_dir / 'X_train.np').open('wb+') as f:\n",
    "    np.save(f, X)\n",
    "    \n",
    "with (dump_dir / 'Y_train.np').open('wb+') as f:\n",
    "    np.save(f, Y)"
   ]
  },
  {
   "cell_type": "code",
   "execution_count": 33,
   "metadata": {
    "ExecuteTime": {
     "end_time": "2023-01-26T12:26:51.097421Z",
     "start_time": "2023-01-26T12:26:49.006071Z"
    }
   },
   "outputs": [
    {
     "data": {
      "text/plain": [
       "(np.float32(1.0), np.float32(0.013560552))"
      ]
     },
     "execution_count": 33,
     "metadata": {},
     "output_type": "execute_result"
    }
   ],
   "source": [
    "# Do the same for test stuff\n",
    "# Overwriting variable names to conserve RAM\n",
    "X = np.zeros((len(wordid_test_text), n_words), dtype=np.float32)\n",
    "Y = np.asarray(test_labels, dtype=np.float32).reshape(-1, 1)\n",
    "\n",
    "for i, wordid_document in enumerate(wordid_test_text):\n",
    "    for token_id in wordid_document:\n",
    "        X[i][token_id] = 1\n",
    "    \n",
    "    \n",
    "X.max(), X.mean()"
   ]
  },
  {
   "cell_type": "code",
   "execution_count": 34,
   "metadata": {
    "ExecuteTime": {
     "end_time": "2023-01-26T12:26:51.681214Z",
     "start_time": "2023-01-26T12:26:51.098395Z"
    }
   },
   "outputs": [],
   "source": [
    "# Dump this to disk\n",
    "dump_dir = dump_dir.parent / 'bow_onehot'\n",
    "dump_dir.mkdir(parents=True, exist_ok=True)\n",
    "with (dump_dir / 'X_test.np').open('wb+') as f:\n",
    "    np.save(f, X)\n",
    "    \n",
    "with (dump_dir / 'Y_test.np').open('wb+') as f:\n",
    "    np.save(f, Y)"
   ]
  },
  {
   "cell_type": "code",
   "execution_count": 35,
   "metadata": {
    "ExecuteTime": {
     "end_time": "2023-01-26T12:26:51.684281Z",
     "start_time": "2023-01-26T12:26:51.682328Z"
    }
   },
   "outputs": [],
   "source": [
    "# Case 2: MultiHot Representations (with frequencies)"
   ]
  },
  {
   "cell_type": "code",
   "execution_count": 36,
   "metadata": {
    "ExecuteTime": {
     "end_time": "2023-01-26T12:27:07.483249Z",
     "start_time": "2023-01-26T12:26:51.685531Z"
    }
   },
   "outputs": [
    {
     "data": {
      "text/plain": [
       "(np.float32(454.0), np.float32(0.02724074))"
      ]
     },
     "execution_count": 36,
     "metadata": {},
     "output_type": "execute_result"
    }
   ],
   "source": [
    "X = np.zeros((len(wordid_train_text), n_words), dtype=np.float32)\n",
    "Y = np.asarray(train_labels, dtype=np.float32).reshape(-1, 1)\n",
    "\n",
    "for i, wordid_document in enumerate(wordid_train_text):\n",
    "    for token_id in wordid_document:\n",
    "        X[i][token_id] += 1\n",
    "    \n",
    "X.max(), X.mean()"
   ]
  },
  {
   "cell_type": "code",
   "execution_count": 37,
   "metadata": {
    "ExecuteTime": {
     "end_time": "2023-01-26T12:27:08.639184Z",
     "start_time": "2023-01-26T12:27:07.484391Z"
    }
   },
   "outputs": [],
   "source": [
    "# Dump this to disk\n",
    "dump_dir = dump_dir.parent / 'bow_multihot'\n",
    "dump_dir.mkdir(parents=True, exist_ok=True)\n",
    "with (dump_dir / 'X_train.np').open('wb+') as f:\n",
    "    np.save(f, X)\n",
    "    \n",
    "with (dump_dir / 'Y_train.np').open('wb+') as f:\n",
    "    np.save(f, Y)"
   ]
  },
  {
   "cell_type": "code",
   "execution_count": 38,
   "metadata": {
    "ExecuteTime": {
     "end_time": "2023-01-26T12:27:25.321508Z",
     "start_time": "2023-01-26T12:27:08.640511Z"
    }
   },
   "outputs": [
    {
     "data": {
      "text/plain": [
       "(np.float32(294.0), np.float32(0.02662701))"
      ]
     },
     "execution_count": 38,
     "metadata": {},
     "output_type": "execute_result"
    }
   ],
   "source": [
    "# Do the same for test stuff\n",
    "# Overwriting variable names to conserve RAM\n",
    "X = np.zeros((len(wordid_test_text), n_words), dtype=np.float32)\n",
    "Y = np.asarray(test_labels, dtype=np.float32).reshape(-1, 1)\n",
    "\n",
    "for i, wordid_document in enumerate(wordid_test_text):\n",
    "    for token_id in wordid_document:\n",
    "        X[i][token_id] += 1\n",
    "    \n",
    "    \n",
    "X.max(), X.mean()"
   ]
  },
  {
   "cell_type": "code",
   "execution_count": 39,
   "metadata": {
    "ExecuteTime": {
     "end_time": "2023-01-26T12:27:25.855646Z",
     "start_time": "2023-01-26T12:27:25.322749Z"
    }
   },
   "outputs": [],
   "source": [
    "# Dump this to disk\n",
    "dump_dir = dump_dir.parent / 'bow_multihot'\n",
    "dump_dir.mkdir(parents=True, exist_ok=True)\n",
    "with (dump_dir / 'X_test.np').open('wb+') as f:\n",
    "    np.save(f, X)\n",
    "    \n",
    "with (dump_dir / 'Y_test.np').open('wb+') as f:\n",
    "    np.save(f, Y)"
   ]
  },
  {
   "cell_type": "code",
   "execution_count": 43,
   "metadata": {},
   "outputs": [
    {
     "name": "stdout",
     "output_type": "stream",
     "text": [
      "1.9G\t../resources/datasets/imdb/bow_multihot\n",
      "1.9G\t../resources/datasets/imdb/bow_onehot\n",
      " 30M\t../resources/datasets/imdb/wordid_vocab\n"
     ]
    }
   ],
   "source": [
    "! du -hs ../resources/datasets/imdb/*\n"
   ]
  }
 ],
 "metadata": {
  "kernelspec": {
   "display_name": ".venv",
   "language": "python",
   "name": "python3"
  },
  "language_info": {
   "codemirror_mode": {
    "name": "ipython",
    "version": 3
   },
   "file_extension": ".py",
   "mimetype": "text/x-python",
   "name": "python",
   "nbconvert_exporter": "python",
   "pygments_lexer": "ipython3",
   "version": "3.12.9"
  }
 },
 "nbformat": 4,
 "nbformat_minor": 4
}
