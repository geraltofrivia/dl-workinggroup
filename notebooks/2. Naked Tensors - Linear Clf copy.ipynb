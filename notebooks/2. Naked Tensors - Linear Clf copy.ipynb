{
 "cells": [
  {
   "cell_type": "code",
   "execution_count": null,
   "metadata": {},
   "outputs": [],
   "source": [
    "import torch"
   ]
  },
  {
   "cell_type": "code",
   "execution_count": null,
   "metadata": {},
   "outputs": [],
   "source": [
    "torch.manual_seed(42)"
   ]
  },
  {
   "cell_type": "markdown",
   "metadata": {},
   "source": [
    "$$x_i \\in \\mathcal{X} \\subset \\mathcal{R} \\\\ y_i \\in \\mathcal{Y} \\subset \\mathcal{R}$$"
   ]
  },
  {
   "cell_type": "code",
   "execution_count": null,
   "metadata": {},
   "outputs": [],
   "source": [
    "# Only one data instance (make an x = 10 and y=2)\n",
    "..."
   ]
  },
  {
   "cell_type": "markdown",
   "metadata": {},
   "source": [
    "$$  f: \\mathcal{X} \\rightarrow \\mathcal{Y} \\\\ \\hat{y}_i = f(x; (m, c)) = m\\times x + c$$"
   ]
  },
  {
   "cell_type": "code",
   "execution_count": null,
   "metadata": {},
   "outputs": [],
   "source": [
    "# Simplest possible model -- Linear\n",
    "\n",
    "# 1. Define the parameters m and c\n",
    "..."
   ]
  },
  {
   "cell_type": "code",
   "execution_count": null,
   "metadata": {},
   "outputs": [],
   "source": [
    "# 2. Define the model\n",
    "def linear(x: torch.Tensor) -> torch.Tensor:\n",
    "    ..."
   ]
  },
  {
   "cell_type": "markdown",
   "metadata": {},
   "source": [
    "$$ L_{mse} = \\frac{1}{2n} \\sum_{i=1}^{n} (\\hat{y_i} - y_i)^2 $$"
   ]
  },
  {
   "cell_type": "code",
   "execution_count": null,
   "metadata": {},
   "outputs": [],
   "source": [
    "# Define the loss function\n",
    "def mse(y_pred: torch.Tensor, y_true: torch.Tensor) -> torch.Tensor:\n",
    "    ..."
   ]
  },
  {
   "cell_type": "markdown",
   "metadata": {},
   "source": [
    "$$\\theta_i^{T+1} = \\theta_i^{T} - \\mathbf{\\gamma} \\frac{\\partial\\ L(\\ldots; \\Theta)}{\\partial\\ \\theta_i }  $$"
   ]
  },
  {
   "cell_type": "code",
   "execution_count": null,
   "metadata": {},
   "outputs": [],
   "source": [
    "# Set a learning rate parameter\n",
    "lr = ..."
   ]
  },
  {
   "cell_type": "code",
   "execution_count": null,
   "metadata": {},
   "outputs": [],
   "source": [
    "# Compute the prediction, based on input and the model (current parameters)\n",
    "ypred = ...\n",
    "\n",
    "print(ypred, y)"
   ]
  },
  {
   "cell_type": "code",
   "execution_count": null,
   "metadata": {},
   "outputs": [],
   "source": [
    "# Compute the loss based on the prediction and the true value\n",
    "\n",
    "..."
   ]
  },
  {
   "cell_type": "code",
   "execution_count": null,
   "metadata": {},
   "outputs": [],
   "source": [
    "# Compute and print the gradient (backward call)\n",
    "..."
   ]
  },
  {
   "cell_type": "code",
   "execution_count": null,
   "metadata": {},
   "outputs": [],
   "source": [
    "# See the gradient values. What patterns do we see?\n",
    "m, m.grad, c, c.grad, x, y"
   ]
  },
  {
   "cell_type": "markdown",
   "metadata": {},
   "source": [
    "### Deriving the Gradient manually"
   ]
  },
  {
   "cell_type": "markdown",
   "metadata": {},
   "source": [
    "When thinking of only one input sample (x,y) = (10, 2); we can think of the loss + gradient as follows:\n",
    "\n",
    "$$ L_{mse} = \\frac{1}{2} (\\hat{y} - y)^2  = \\frac{1}{2} e^2 $$\n",
    "\n",
    "where \n",
    "\n",
    "$$ e = (\\hat{y} - y) = m \\times x + c - y $$\n",
    "\n",
    "**Let us compute gradients of parameter w.r.t this term $e$**\n",
    "\n",
    "$$ \\frac{\\partial e}{\\partial m} = x \\\\ \\ \\\\\n",
    "\\frac{\\partial e}{\\partial c} = 1\n",
    "$$\n",
    "\n",
    "Then, recall that\n",
    "\n",
    "$$\n",
    "    L = \\frac{1}{2} e^2\n",
    "$$\n",
    "\n",
    "Therefore,\n",
    "\n",
    "$$\n",
    "\\frac{\\partial L}{\\partial e} = e\n",
    "$$\n",
    "\n",
    "Putting it all together, using chain rule of derivates, we get \n",
    "\n",
    "$$\n",
    "\\frac{\\partial L}{\\partial m} = \\frac{\\partial L}{\\partial e} \\times \\frac{\\partial e}{\\partial m} = e x = (m\\times x + c - y)x\n",
    "$$\n",
    "\n",
    "and\n",
    "\n",
    "$$\n",
    "\\frac{\\partial L}{\\partial c} = \\frac{\\partial L}{\\partial e} \\times \\frac{\\partial e}{\\partial c} = e = (m\\times x + c - y)\n",
    "$$\n"
   ]
  },
  {
   "cell_type": "markdown",
   "metadata": {},
   "source": [
    "### But does this actually hold?"
   ]
  },
  {
   "cell_type": "code",
   "execution_count": null,
   "metadata": {},
   "outputs": [],
   "source": [
    "# Implemenet both these formulas"
   ]
  },
  {
   "cell_type": "markdown",
   "metadata": {},
   "source": [
    "### Gradient Accumulates in the grad attribute"
   ]
  },
  {
   "cell_type": "code",
   "execution_count": null,
   "metadata": {},
   "outputs": [],
   "source": [
    "# Simulate the loss backwards again and see what happens to gradients in the parameters"
   ]
  },
  {
   "cell_type": "code",
   "execution_count": null,
   "metadata": {},
   "outputs": [],
   "source": [
    "# Current gradient is the same as 'doing it twice'\n",
    "m.grad/2, c.grad/2"
   ]
  },
  {
   "cell_type": "code",
   "execution_count": null,
   "metadata": {},
   "outputs": [],
   "source": [
    "m.grad, c.grad"
   ]
  },
  {
   "cell_type": "markdown",
   "metadata": {},
   "source": [
    "# Running the entire thing\n",
    "\n",
    "Hint: press enter to continue. Input 'q' to stop.\n",
    "Play around with lr to see different things ;)"
   ]
  },
  {
   "cell_type": "code",
   "execution_count": null,
   "metadata": {},
   "outputs": [],
   "source": [
    "values_of_loss = []\n",
    "values_of_m = []\n",
    "values_of_c = []\n",
    "values_of_ypred = []\n",
    "\n",
    "for i in range(2000):\n",
    "    # Calcualte model predictions\n",
    "    y_pred = ...\n",
    "    \n",
    "    \n",
    "    # Compare the prediction with our goal\n",
    "    loss = ...\n",
    "    print(f\"Loss: {loss}\\nTrue: {y}\\nPred: {y_pred.item()}\")\n",
    "    \n",
    "    # Reset the gradients before computing new ones\n",
    "    if m.grad:\n",
    "        # PS: tensor.grad.zero_() is an inplace operation\n",
    "        # PPS: You will never do this again in your life.\n",
    "        m...\n",
    "        c...\n",
    "        \n",
    "    # Compute new gradients: BACKPROPAGATE\n",
    "    ...\n",
    "    \n",
    "    print(f\"Parameters before update:\\n\\tm: {m.item()}\\tgrad: {m.grad.item()}\\n\\tc: {c.item()}\\tgrad: {c.grad.item()}\")\n",
    "    with torch.no_grad():\n",
    "        # Do the actual update\n",
    "        updated_m = ...\n",
    "        updated_c = ...\n",
    "        m.copy_(updated_m)\n",
    "        c.copy_(updated_c)\n",
    "        \n",
    "    print(f\"Parametrs after update:\\n\\tm: {m.item()}\\tgrad: {m.grad.item()  if c.grad else None}\\n\\tc: {c.item()}\\tgrad: {c.grad.item() if c.grad else None}\")\n",
    "\n",
    "    # Bookkeeping \n",
    "    values_of_ypred.append(y_pred.item())\n",
    "    values_of_m.append(m.item())\n",
    "    values_of_c.append(c.item())\n",
    "    values_of_loss.append(loss.item())\n",
    "\n",
    "    print('------', i, '------')\n",
    "    cmd = input().strip()\n",
    "    if cmd in ['q', 'exit', 'break']:\n",
    "        break\n",
    "    \n",
    "    if loss.item() == 0:\n",
    "        print('Model fully converged. Stopping.')\n",
    "        break"
   ]
  },
  {
   "cell_type": "code",
   "execution_count": null,
   "metadata": {},
   "outputs": [],
   "source": [
    "\n",
    "\n",
    "from matplotlib import pyplot as plt\n",
    "def plot_trace(list_of_vals, title: str=None):\n",
    "    plt.figure(figsize=(10, 6))\n",
    "    fig = plt.plot(list_of_vals)\n",
    "    plt.title(title)\n",
    "    \n",
    "plot_trace(values_of_loss, \"Loss\")\n",
    "plot_trace(values_of_ypred, \"y pred\")\n",
    "plot_trace(values_of_m, \"param: m\")\n",
    "plot_trace(values_of_c, \"param: c\")"
   ]
  },
  {
   "cell_type": "markdown",
   "metadata": {},
   "source": [
    "# Change: Have multiple examples in training data"
   ]
  },
  {
   "cell_type": "code",
   "execution_count": null,
   "metadata": {},
   "outputs": [],
   "source": [
    "torch.manual_seed(42)"
   ]
  },
  {
   "cell_type": "code",
   "execution_count": null,
   "metadata": {},
   "outputs": [],
   "source": [
    "# TODO: have multiple examples in training data\n",
    "\n",
    "x = torch.tensor([1., 2., 3., 4., 5.])\n",
    "y = torch.tensor([2., 4., 6., 8., 10.])\n",
    "\n",
    "m = torch.randn(1., requires_grad=True)\n",
    "c = torch.randn(1., requires_grad=True)\n",
    "\n"
   ]
  },
  {
   "cell_type": "code",
   "execution_count": null,
   "metadata": {},
   "outputs": [],
   "source": [
    "y_pred = ...\n",
    "\n",
    "# This does not give us 'one number'. We need to reduce it to one number\n",
    "mse(y_pred, y)"
   ]
  },
  {
   "cell_type": "code",
   "execution_count": null,
   "metadata": {},
   "outputs": [],
   "source": [
    "def mse_avg(y_pred, y_true):\n",
    "    ..."
   ]
  },
  {
   "cell_type": "code",
   "execution_count": null,
   "metadata": {},
   "outputs": [],
   "source": [
    "# Lets try this again\n",
    "loss = ..."
   ]
  },
  {
   "cell_type": "code",
   "execution_count": null,
   "metadata": {},
   "outputs": [],
   "source": [
    "# Let a learning rate (0.01 ;) )\n",
    "lr = ..."
   ]
  },
  {
   "cell_type": "code",
   "execution_count": null,
   "metadata": {},
   "outputs": [],
   "source": [
    "# Backprop time\n",
    "...\n",
    "\n",
    "m, m.grad, c, c.grad"
   ]
  },
  {
   "cell_type": "code",
   "execution_count": null,
   "metadata": {},
   "outputs": [],
   "source": [
    "# LETS DO THIS IN A LOOP\n",
    "values_of_loss = []\n",
    "values_of_m = []\n",
    "values_of_c = []\n",
    "# values_of_ypred = []\n",
    "\n",
    "for i in range(2000):\n",
    "    # Calcualte model predictions\n",
    "    y_pred = fx(x)\n",
    "    \n",
    "    \n",
    "    # Compare the prediction with our goal\n",
    "    loss = mse_avg(y_pred, y)\n",
    "    print(f\"Loss: {loss}\\nTrue: {y}\\nPred: {y_pred}\")\n",
    "    \n",
    "    # Reset the gradients before computing new ones\n",
    "    if m.grad:\n",
    "        m.grad.zero_()\n",
    "        c.grad.zero_()\n",
    "        \n",
    "    print(f\"Parameters before update:\\n\\tm: {m.item()}\\tgrad: {m.grad.item()}\\n\\tc: {c.item()}\\tgrad: {c.grad.item()}\")\n",
    "    \n",
    "    # Compute new gradients: BACKPROPAGATE\n",
    "    loss.backward()\n",
    "    \n",
    "    with torch.no_grad():\n",
    "        m.copy_(m - (lr*m.grad))\n",
    "        c.copy_(m - (lr*m.grad))\n",
    "        \n",
    "        \n",
    "    print(f\"Parametrs after update:\\n\\tm: {m.item()}\\tgrad: {m.grad.item()  if c.grad else None}\\n\\tc: {c.item()}\\tgrad: {c.grad.item() if c.grad else None}\")\n",
    "\n",
    "    # Bookkeeping \n",
    "    # values_of_ypred.append(y_pred.item())\n",
    "    values_of_m.append(m.item())\n",
    "    values_of_c.append(c.item())\n",
    "    values_of_loss.append(loss.item())\n",
    "\n",
    "    print('------', i, '------')\n",
    "    cmd = input().strip()\n",
    "    if cmd in ['q', 'exit', 'break']:\n",
    "        break\n",
    "    \n",
    "    # CHANGE: we are less strict here\n",
    "    if loss.item() < 0.001:\n",
    "        print('Model fully converged. Stopping.')\n",
    "        break"
   ]
  },
  {
   "cell_type": "code",
   "execution_count": null,
   "metadata": {},
   "outputs": [],
   "source": [
    "from matplotlib import pyplot as plt\n",
    "def plot_trace(list_of_vals, title: str=None):\n",
    "    plt.figure(figsize=(10, 6))\n",
    "    fig = plt.plot(list_of_vals)\n",
    "    plt.title(title)\n",
    "    \n",
    "plot_trace(values_of_loss, \"Loss\")\n",
    "plot_trace(values_of_ypred, \"y pred\")\n",
    "plot_trace(values_of_m, \"param: m\")\n",
    "plot_trace(values_of_c, \"param: c\")"
   ]
  }
 ],
 "metadata": {
  "kernelspec": {
   "display_name": "main",
   "language": "python",
   "name": "python3"
  },
  "language_info": {
   "codemirror_mode": {
    "name": "ipython",
    "version": 3
   },
   "file_extension": ".py",
   "mimetype": "text/x-python",
   "name": "python",
   "nbconvert_exporter": "python",
   "pygments_lexer": "ipython3",
   "version": "3.12.4"
  }
 },
 "nbformat": 4,
 "nbformat_minor": 4
}
