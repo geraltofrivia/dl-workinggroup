{
 "cells": [
  {
   "cell_type": "markdown",
   "metadata": {},
   "source": [
    "# Session 5: Fitting Multiple Curves with One Model\n",
    "\n",
    "### Goals:\n",
    "\n",
    "1. Linear Data, Linear Model\n",
    "2. Quad Data, Linear Model\n",
    "3. Quad Data, Quad Model"
   ]
  },
  {
   "cell_type": "code",
   "execution_count": null,
   "metadata": {},
   "outputs": [],
   "source": [
    "from matplotlib import pyplot as plt\n",
    "import numpy as np\n",
    "from IPython import display\n",
    "\n",
    "import seaborn as sns\n",
    "import torch\n",
    "import torch.nn.functional as F"
   ]
  },
  {
   "cell_type": "code",
   "execution_count": null,
   "metadata": {},
   "outputs": [],
   "source": [
    "torch.manual_seed(42)"
   ]
  },
  {
   "cell_type": "code",
   "execution_count": null,
   "metadata": {
    "code_folding": [
     0,
     11,
     25,
     61
    ]
   },
   "outputs": [],
   "source": [
    "def viz_1d(X, Y, title = None):\n",
    "    \n",
    "    if isinstance(Y, torch.Tensor):\n",
    "        Y = Y.detach()\n",
    "        \n",
    "    plt.figure(figsize=(7, 4))\n",
    "    if title:\n",
    "        plt.title(title)\n",
    "    plt.scatter(X, Y)\n",
    "    plt.show()\n",
    "\n",
    "def viz_pred(X, Y, Y_, title=None):\n",
    "    \n",
    "    if isinstance(Y_, torch.Tensor):\n",
    "        Y_ = Y_.detach()\n",
    "        \n",
    "    plt.figure(figsize=(14, 10))\n",
    "    if title:\n",
    "        plt.title(title)\n",
    "        \n",
    "    plt.plot(X, Y, 'o')\n",
    "    plt.plot(X, Y_, '+')\n",
    "#     plt.scatter(X, Y, color='red')\n",
    "    plt.show()\n",
    "    \n",
    "def viz_all(model, inputs=None, outputs= None, predictions= None, ax=None, grid=None):\n",
    "    if grid:\n",
    "        _X = torch.tensor(np.mgrid[grid[0]:grid[1]:grid[2]])\n",
    "    elif inputs:\n",
    "        inputs_scale = (inputs.max()-inputs.min())/10.0\n",
    "        _X = torch.tensor(np.mgrid[inputs.min()-inputs_scale: inputs.max()+inputs_scale:0.1])\n",
    "    else:\n",
    "        grid = (-2, 2, 0.1) if grid is None else grid\n",
    "        _X = torch.tensor(np.mgrid[grid[0]:grid[1]:grid[2]])\n",
    "        \n",
    "    with torch.no_grad():\n",
    "        try:\n",
    "            _Y = model(_X).detach()\n",
    "        except RuntimeError:\n",
    "            _Y = model(_X.unsqueeze(1).float()).detach()\n",
    "        \n",
    "    if ax is None: \n",
    "        fig = plt.figure(figsize=(14, 8), dpi=100)\n",
    "        ax = fig.add_subplot(111)\n",
    "        old_ax = False\n",
    "    else:\n",
    "        old_ax = True\n",
    "    \n",
    "    ax.plot(_X, _Y, label='model')\n",
    "    \n",
    "    if outputs is not None and inputs is not None:\n",
    "        ax.scatter(inputs, outputs,  c='b', marker=\"s\", label='Y Gold')\n",
    "    \n",
    "    if predictions is not None:\n",
    "        ax.scatter(inputs, predictions, c='r', marker='+', label='Y Pred')\n",
    "    \n",
    "\n",
    "    if not old_ax:\n",
    "        plt.legend(loc='upper left')\n",
    "        plt.show()"
   ]
  },
  {
   "cell_type": "code",
   "execution_count": null,
   "metadata": {},
   "outputs": [],
   "source": [
    "\n",
    "def true_fn_lin(x):\n",
    "    return 3*x + 10\n",
    "\n",
    "def true_fn_quad(x):\n",
    "    return x**2 - (x) + 3\n",
    "\n",
    "def true_fn_cubic(x):\n",
    "    return 0.9*(x**3) - 0.7*(x**2) + 0.2*x + 0.1\n",
    "\n",
    "n_samples = 10000\n",
    "X = torch.randint(-500, 500, (n_samples,1)).float() / 400\n",
    "# X = torch.randn(n_samples,1)\n",
    "Y_lin = torch.tensor([true_fn_lin(x) for x in X])\n",
    "Y_quad = torch.tensor([true_fn_quad(x) for x in X])\n",
    "Y_cubic = torch.tensor([true_fn_cubic(x) for x in X])\n",
    "fx = lambda x : (m*x) + c\n",
    "viz_1d(X, Y_lin), viz_1d(X, Y_quad), viz_1d(X, Y_cubic)"
   ]
  },
  {
   "cell_type": "markdown",
   "metadata": {},
   "source": [
    "# Model Description"
   ]
  },
  {
   "cell_type": "code",
   "execution_count": null,
   "metadata": {},
   "outputs": [],
   "source": [
    "class NonLin(torch.nn.Module):\n",
    "\n",
    "    ..."
   ]
  },
  {
   "cell_type": "markdown",
   "metadata": {},
   "source": [
    "# Model, Hyperparams, Optimizer and Loss Function"
   ]
  },
  {
   "cell_type": "code",
   "execution_count": null,
   "metadata": {},
   "outputs": [],
   "source": [
    "# Hyperparams\n",
    "\n",
    "# Model, Optimizer, and loss fn\n"
   ]
  },
  {
   "cell_type": "markdown",
   "metadata": {},
   "source": [
    "# Your Recepie goes here"
   ]
  },
  {
   "cell_type": "code",
   "execution_count": null,
   "metadata": {},
   "outputs": [],
   "source": [
    "X = X\n",
    "Y = Y_lin"
   ]
  },
  {
   "cell_type": "markdown",
   "metadata": {},
   "source": [
    "# Training Loop"
   ]
  },
  {
   "cell_type": "code",
   "execution_count": null,
   "metadata": {
    "code_folding": [
     39,
     48
    ]
   },
   "outputs": [],
   "source": [
    "\n",
    "fig = plt.figure(figsize = (14,6))\n",
    "ax1 = fig.add_subplot(111)\n",
    "# xlim = (-1,2, 1.2)\n",
    "# ylim = (-1, 14)\n",
    "# ax1.set_xlim(-1.2, 1.2)\n",
    "# ax1.set_ylim(-1, 14)\n",
    "losses = []\n",
    "continue_for = 0\n",
    "\n",
    "# our dataset = X, Y\n",
    "\n",
    "for e in range(epochs):\n",
    "\n",
    "    opt.zero_grad() \n",
    "    \n",
    "    # Lets sample a batch\n",
    "    Xrange = torch.randint(0, n_samples, (200, ))\n",
    "    _X = X[Xrange]\n",
    "    _Y = Y[Xrange]\n",
    "    \n",
    "    # Make model predictions\n",
    "    Y_pred = m(_X)\n",
    "    \n",
    "    # Calculate Loss\n",
    "    loss = lfn(Y_pred, _Y.unsqueeze(1))\n",
    "    \n",
    "    loss.backward()    \n",
    "    losses.append(loss.item())\n",
    "\n",
    "    opt.step()\n",
    "    \n",
    "    with torch.no_grad():\n",
    "        ...\n",
    "        print(f\"{e:5}: {loss.item():.5f}\")\n",
    "#         viz_all(model=m, inputs=X, outputs=Y, ax=ax1, grid=(-5, 5, 0.3))\n",
    "        display.display(plt.gcf())\n",
    "\n",
    "    \n",
    "    if continue_for == 0:\n",
    "        cmd = input('$: ')\n",
    "        if cmd.lower().strip() in ['quit', 'q', 'exit', 'stop']:\n",
    "                break\n",
    "        else:\n",
    "            try:\n",
    "                continue_for = max(0, int(cmd.lower().strip()))\n",
    "            except ValueError:\n",
    "                ...\n",
    "    else:\n",
    "        continue_for -= 1\n",
    "    \n",
    "    plt.cla()\n",
    "    display.clear_output(wait =True)\n",
    "    \n",
    "    if loss.item() < 0.001:\n",
    "        print(f'Model fully converged at {e}. Stopping.')\n",
    "        break"
   ]
  },
  {
   "cell_type": "code",
   "execution_count": null,
   "metadata": {},
   "outputs": [],
   "source": [
    "\n",
    "\n",
    "plt.plot(losses)\n",
    "plt.show()\n",
    "plt.plot(torch.log(torch.tensor(losses)))\n",
    "plt.show()"
   ]
  },
  {
   "cell_type": "code",
   "execution_count": null,
   "metadata": {},
   "outputs": [],
   "source": []
  }
 ],
 "metadata": {
  "kernelspec": {
   "display_name": "Python 3",
   "language": "python",
   "name": "python3"
  },
  "language_info": {
   "codemirror_mode": {
    "name": "ipython",
    "version": 3
   },
   "file_extension": ".py",
   "mimetype": "text/x-python",
   "name": "python",
   "nbconvert_exporter": "python",
   "pygments_lexer": "ipython3",
   "version": "3.8.5"
  }
 },
 "nbformat": 4,
 "nbformat_minor": 4
}
