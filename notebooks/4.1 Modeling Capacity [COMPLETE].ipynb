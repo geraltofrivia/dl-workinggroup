{
 "cells": [
  {
   "cell_type": "markdown",
   "metadata": {},
   "source": [
    "# Session 4.1 Modeling Capacity\n",
    "\n",
    "### Goals:\n",
    "\n",
    "1. Linear Data, Linear Model\n",
    "2. Quad Data, Linear Model\n",
    "3. Quad Data, Quad Model"
   ]
  },
  {
   "cell_type": "code",
   "execution_count": null,
   "metadata": {},
   "outputs": [],
   "source": [
    "from matplotlib import pyplot as plt\n",
    "import numpy as np\n",
    "from IPython import display\n",
    "\n",
    "import seaborn as sns\n",
    "import torch"
   ]
  },
  {
   "cell_type": "code",
   "execution_count": null,
   "metadata": {},
   "outputs": [],
   "source": [
    "torch.manual_seed(42)"
   ]
  },
  {
   "cell_type": "code",
   "execution_count": null,
   "metadata": {
    "code_folding": [
     0,
     11
    ]
   },
   "outputs": [],
   "source": [
    "def viz_1d(X, Y, title = None):\n",
    "    \n",
    "    if isinstance(Y, torch.Tensor):\n",
    "        Y = Y.detach()\n",
    "        \n",
    "    plt.figure(figsize=(7, 4))\n",
    "    if title:\n",
    "        plt.title(title)\n",
    "    plt.scatter(X, Y)\n",
    "    plt.show()\n",
    "\n",
    "def viz_pred(X, Y, Y_, title=None):\n",
    "    \n",
    "    if isinstance(Y_, torch.Tensor):\n",
    "        Y_ = Y_.detach()\n",
    "        \n",
    "    plt.figure(figsize=(14, 10))\n",
    "    if title:\n",
    "        plt.title(title)\n",
    "        \n",
    "    plt.plot(X, Y, 'o')\n",
    "    plt.plot(X, Y_, '+')\n",
    "#     plt.scatter(X, Y, color='red')\n",
    "    plt.show()\n",
    "    \n",
    "def viz_all(model, inputs,outputs= None, predictions= None,  ax=None ):\n",
    "    inputs_scale = (inputs.max()-inputs.min())/10.0\n",
    "    _X = torch.tensor(np.mgrid[inputs.min()-inputs_scale: inputs.max()+inputs_scale:0.1])\n",
    "    with torch.no_grad():\n",
    "        _Y = model(_X).detach()\n",
    "        \n",
    "    if ax is None: \n",
    "        fig = plt.figure(figsize=(14, 8), dpi=100)\n",
    "        ax = fig.add_subplot(111)\n",
    "        old_ax = False\n",
    "    else:\n",
    "        old_ax = True\n",
    "    \n",
    "    if outputs is not None:\n",
    "        ax.scatter(inputs, outputs,  c='b', marker=\"s\", label='Y Gold')\n",
    "    \n",
    "    if predictions is not None:\n",
    "        ax.scatter(inputs, predictions, c='r', marker='+', label='Y Pred')\n",
    "    \n",
    "    ax.plot(_X, _Y, label='model')\n",
    "    if not old_ax:\n",
    "        plt.legend(loc='upper left')\n",
    "        plt.show()\n",
    "    \n",
    "def report(model: torch.nn.Module, title='Parameters before update:'):\n",
    "    op = title[::]\n",
    "    for np in model.named_parameters():\n",
    "        op += f\"\\n\\t{np[0]}: {np[1].data.item() if not np[1].shape.__len__()>1 else np[1].data}\\tgrad: {np[1].grad if np[1].grad is not None else None}\"\n",
    "    print(op)"
   ]
  },
  {
   "cell_type": "code",
   "execution_count": null,
   "metadata": {},
   "outputs": [],
   "source": [
    "# Lets define some objective functions\n",
    "def true_fn_lin(x):\n",
    "    return float(3*x + 10)\n",
    "\n",
    "def true_fn_quad(x):\n",
    "    return float(x**2 - (x) + 3)\n",
    "\n",
    "n_samples = 200\n",
    "X_lin = torch.randint(-400, 400, (n_samples,)).float() / 400\n",
    "Y_lin = torch.tensor([true_fn_lin(x) for x in X_lin])\n",
    "X_quad = torch.randint(-400, 400, (n_samples,)).float() / 400\n",
    "Y_quad = torch.tensor([true_fn_quad(x) for x in X_quad])\n",
    "fx = lambda x : (m*x) + c\n",
    "viz_1d(X_lin, Y_lin)\n",
    "viz_1d(X_quad, Y_quad)"
   ]
  },
  {
   "cell_type": "code",
   "execution_count": null,
   "metadata": {},
   "outputs": [],
   "source": [
    "# fx = lambda x : (m*x) + c\n",
    "\n",
    "\n",
    "class LinClf(torch.nn.Module):\n",
    "    \n",
    "    def __init__(self,):\n",
    "        # we declare the params here\n",
    "        super().__init__()\n",
    "        \n",
    "        self.m = torch.nn.Parameter(torch.tensor(0.5))\n",
    "        self.c = torch.nn.Parameter(torch.tensor(0.1))\n",
    "        \n",
    "    def forward(self, inputs):\n",
    "        # we define 'what to do with params here'\n",
    "        return (inputs * self.m) + self.c\n",
    "    "
   ]
  },
  {
   "cell_type": "code",
   "execution_count": null,
   "metadata": {},
   "outputs": [],
   "source": [
    "# How about a quadratic model (a*x*x + b*x + c)\n",
    "class TwoOrderClf(torch.nn.Module):\n",
    "\n",
    "    def __init__(self,):\n",
    "        # we declare the params here\n",
    "        super().__init__()\n",
    "        \n",
    "        self.a1 = torch.nn.Parameter(torch.randn(1))\n",
    "        self.a2 = torch.nn.Parameter(torch.randn(1))\n",
    "        self.a3 = torch.nn.Parameter(torch.randn(1))\n",
    "        \n",
    "    def forward(self, x):\n",
    "        return (x**2)*self.a1 + x*self.a2 + self.a3\n",
    "    "
   ]
  },
  {
   "cell_type": "code",
   "execution_count": null,
   "metadata": {},
   "outputs": [],
   "source": [
    "# Make model(s)\n",
    "m_lin = LinClf()\n",
    "m_quad = TwoOrderClf()"
   ]
  },
  {
   "cell_type": "code",
   "execution_count": null,
   "metadata": {},
   "outputs": [],
   "source": [
    "# Hyperparams\n",
    "epochs = 2000\n",
    "lr = 0.01\n",
    "\n",
    "#  and loss fn\n",
    "lfn = torch.nn.MSELoss(reduction='sum')\n"
   ]
  },
  {
   "cell_type": "markdown",
   "metadata": {},
   "source": [
    "# Your Recepie goes here"
   ]
  },
  {
   "cell_type": "code",
   "execution_count": null,
   "metadata": {},
   "outputs": [],
   "source": [
    "X = X_lin\n",
    "Y = Y_lin\n",
    "m = m_quad\n",
    "opt = torch.optim.SGD(m.parameters(), lr=lr)"
   ]
  },
  {
   "cell_type": "code",
   "execution_count": null,
   "metadata": {},
   "outputs": [],
   "source": [
    "\n",
    "fig = plt.figure(figsize = (10,4))\n",
    "ax1 = fig.add_subplot(111)\n",
    "# xlim = (-1,2, 1.2)\n",
    "# ylim = (-1, 14)\n",
    "# ax1.set_xlim(-1.2, 1.2)\n",
    "# ax1.set_ylim(-1, 14)\n",
    "losses = []\n",
    "\n",
    "# our dataset = X, Y\n",
    "\n",
    "for e in range(epochs):\n",
    "\n",
    "    opt.zero_grad() \n",
    "    \n",
    "    # Lets sample a batch\n",
    "    Xrange = torch.randint(0, n_samples, (20, ))\n",
    "    _X = X[Xrange]\n",
    "    _Y = Y[Xrange]\n",
    "    \n",
    "    # Make model predictions\n",
    "    Y_pred = m(_X)\n",
    "    \n",
    "    # Calculate Loss\n",
    "    loss = lfn(Y_pred, _Y)\n",
    "    \n",
    "    report(m, \"Parameters before update\")\n",
    "    loss.backward()    \n",
    "    opt.step()\n",
    "    report(m, \"Parameters after update\")\n",
    "    \n",
    "    with torch.no_grad():\n",
    "        ...\n",
    "        print(loss.item())\n",
    "#         ax1.set_xlim(xlim[0], xlim[1])\n",
    "#         ax1.set_ylim(ylim[0], ylim[1])\n",
    "        viz_all(model=m, inputs=_X, outputs=_Y, ax=ax1)\n",
    "#         viz_all(model=m, inputs=_X, outputs=_Y)\n",
    "        display.display(plt.gcf())\n",
    "\n",
    "    cmd = input('$: ')\n",
    "    if cmd.lower().strip() in ['quit', 'q', 'exit', 'stop']:\n",
    "        break\n",
    "\n",
    "    plt.cla()\n",
    "    display.clear_output(wait =True)\n",
    "    losses.append(loss.item())\n",
    "        \n",
    "    if loss.item() < 0.001:\n",
    "        print(f'Model fully converged at {e}. Stopping.')\n",
    "        break"
   ]
  },
  {
   "cell_type": "code",
   "execution_count": null,
   "metadata": {},
   "outputs": [],
   "source": [
    "plt.plot(losses)\n",
    "plt.show()\n",
    "plt.plot(torch.log(torch.tensor(losses)))\n",
    "plt.show()"
   ]
  },
  {
   "cell_type": "code",
   "execution_count": null,
   "metadata": {},
   "outputs": [],
   "source": []
  }
 ],
 "metadata": {
  "kernelspec": {
   "display_name": "main",
   "language": "python",
   "name": "python3"
  },
  "language_info": {
   "codemirror_mode": {
    "name": "ipython",
    "version": 3
   },
   "file_extension": ".py",
   "mimetype": "text/x-python",
   "name": "python",
   "nbconvert_exporter": "python",
   "pygments_lexer": "ipython3",
   "version": "3.11.10"
  }
 },
 "nbformat": 4,
 "nbformat_minor": 4
}
