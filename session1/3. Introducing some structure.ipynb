{
 "cells": [
  {
   "cell_type": "markdown",
   "metadata": {},
   "source": [
    "# Session 3\n",
    "\n",
    "### Goals:\n",
    "\n",
    "1. Generalize previous codebase to multiple data points\n",
    "2. Introduce torch.nn Module\n",
    "3. Introduce optimizers\n",
    "4. Train a linear classifier\n",
    "5. Train a FFNN"
   ]
  },
  {
   "cell_type": "code",
   "execution_count": 2,
   "metadata": {},
   "outputs": [],
   "source": [
    "from matplotlib import pyplot as plt\n",
    "import numpy as np\n",
    "from IPython import display\n",
    "\n",
    "import seaborn as sns\n",
    "import torch"
   ]
  },
  {
   "cell_type": "code",
   "execution_count": 2,
   "metadata": {},
   "outputs": [
    {
     "data": {
      "text/plain": [
       "<torch._C.Generator at 0x7fe2becfa750>"
      ]
     },
     "execution_count": 2,
     "metadata": {},
     "output_type": "execute_result"
    }
   ],
   "source": [
    "torch.manual_seed(42)"
   ]
  },
  {
   "cell_type": "code",
   "execution_count": 3,
   "metadata": {
    "code_folding": [
     0,
     11
    ]
   },
   "outputs": [],
   "source": [
    "def viz_1d(X, Y, title = None):\n",
    "    \n",
    "    if isinstance(Y, torch.Tensor):\n",
    "        Y = Y.detach()\n",
    "        \n",
    "    plt.figure(figsize=(14, 10))\n",
    "    if title:\n",
    "        plt.title(title)\n",
    "    plt.scatter(X, Y)\n",
    "    plt.show()\n",
    "\n",
    "def viz_pred(X, Y, Y_, title=None):\n",
    "    \n",
    "    if isinstance(Y_, torch.Tensor):\n",
    "        Y_ = Y_.detach()\n",
    "        \n",
    "    plt.figure(figsize=(14, 10))\n",
    "    if title:\n",
    "        plt.title(title)\n",
    "        \n",
    "    plt.plot(X, Y, 'o')\n",
    "    plt.plot(X, Y_, '+')\n",
    "#     plt.scatter(X, Y, color='red')\n",
    "    plt.show()\n",
    "    \n",
    "def viz_all(model, inputs,outputs= None, predictions= None,  ax=None ):\n",
    "    inputs_scale = (inputs.max()-inputs.min())/10.0\n",
    "    _X = torch.tensor(np.mgrid[inputs.min()-inputs_scale: inputs.max()+inputs_scale:0.1])\n",
    "    with torch.no_grad():\n",
    "        _Y = model(_X).detach()\n",
    "        \n",
    "    if ax is None: \n",
    "        fig = plt.figure(figsize=(14, 8), dpi=100)\n",
    "        ax = fig.add_subplot(111)\n",
    "        old_ax = False\n",
    "    else:\n",
    "        old_ax = True\n",
    "    \n",
    "    if outputs is not None:\n",
    "        ax.scatter(inputs, outputs,  c='b', marker=\"s\", label='Y Gold')\n",
    "    \n",
    "    if predictions is not None:\n",
    "        ax.scatter(inputs, predictions, c='r', marker='+', label='Y Pred')\n",
    "    \n",
    "    ax.plot(_X, _Y, label='model')\n",
    "    if not old_ax:\n",
    "        plt.legend(loc='upper left')\n",
    "        plt.show()\n",
    "    "
   ]
  },
  {
   "cell_type": "code",
   "execution_count": 4,
   "metadata": {},
   "outputs": [],
   "source": [
    "\n",
    "def true_fn(x):\n",
    "#     return float(x**2 - (x) + 3)\n",
    "    return float(3*x + 10)\n",
    "\n",
    "n_samples = 200\n",
    "X = torch.randint(0, 400, (n_samples,))/400\n",
    "Y = [true_fn(x) for x in X]\n",
    "Y = torch.tensor(Y)\n",
    "viz_1d(X, Y)"
   ]
  },
  {
   "cell_type": "code",
   "execution_count": 7,
   "metadata": {},
   "outputs": [],
   "source": [
    "class LinClf(torch.nn.Module):\n",
    "    ..."
   ]
  },
  {
   "cell_type": "code",
   "execution_count": 9,
   "metadata": {},
   "outputs": [],
   "source": [
    "class TwoOrderClf(torch.nn.Module):\n",
    "    ..."
   ]
  },
  {
   "cell_type": "code",
   "execution_count": 10,
   "metadata": {},
   "outputs": [],
   "source": [
    "# Make model and loss fn\n"
   ]
  },
  {
   "cell_type": "code",
   "execution_count": 11,
   "metadata": {},
   "outputs": [
    {
     "data": {
      "image/png": "[encoded data removed]",
      "text/plain": [
       "<Figure size 1400x800 with 1 Axes>"
      ]
     },
     "metadata": {
      "needs_background": "light"
     },
     "output_type": "display_data"
    }
   ],
   "source": [
    "# viz_all(m, X, Y)"
   ]
  },
  {
   "cell_type": "code",
   "execution_count": 12,
   "metadata": {},
   "outputs": [
    {
     "data": {
      "text/plain": [
       "[Parameter containing:\n",
       " tensor([0.7113], requires_grad=True),\n",
       " Parameter containing:\n",
       " tensor([0.4000], requires_grad=True),\n",
       " Parameter containing:\n",
       " tensor([-1.2039], requires_grad=True)]"
      ]
     },
     "execution_count": 12,
     "metadata": {},
     "output_type": "execute_result"
    }
   ],
   "source": [
    "# See model: parameters etc\n"
   ]
  },
  {
   "cell_type": "code",
   "execution_count": null,
   "metadata": {},
   "outputs": [],
   "source": [
    "# Practice using model to make predictions (model __call__ and forward)"
   ]
  },
  {
   "cell_type": "markdown",
   "metadata": {},
   "source": [
    "## Why model class?\n",
    "\n",
    "- Saving/Loading from Disk\n",
    "- Setting training mode/evaluation mode\n",
    "- Easy access to all parameters\n",
    "- Structure is v. important for complex models\n",
    "- That is 'pytorch' way!"
   ]
  },
  {
   "cell_type": "code",
   "execution_count": 13,
   "metadata": {},
   "outputs": [],
   "source": [
    "# Make optimizer\n"
   ]
  },
  {
   "cell_type": "code",
   "execution_count": 14,
   "metadata": {},
   "outputs": [
    {
     "data": {
      "text/plain": [
       "{'params': [Parameter containing:\n",
       "  tensor([0.7113], requires_grad=True),\n",
       "  Parameter containing:\n",
       "  tensor([0.4000], requires_grad=True),\n",
       "  Parameter containing:\n",
       "  tensor([-1.2039], requires_grad=True)],\n",
       " 'lr': 1e-06,\n",
       " 'momentum': 0,\n",
       " 'dampening': 0,\n",
       " 'weight_decay': 0,\n",
       " 'nesterov': False,\n",
       " 'maximize': False}"
      ]
     },
     "execution_count": 14,
     "metadata": {},
     "output_type": "execute_result"
    }
   ],
   "source": [
    "# See optimizer things (param groups)\n"
   ]
  },
  {
   "cell_type": "code",
   "execution_count": 15,
   "metadata": {},
   "outputs": [],
   "source": [
    "epochs = 200"
   ]
  },
  {
   "cell_type": "code",
   "execution_count": 1,
   "metadata": {
    "scrolled": false
   },
   "outputs": [
    {
     "ename": "NameError",
     "evalue": "name 'plt' is not defined",
     "output_type": "error",
     "traceback": [
      "\u001b[0;31m---------------------------------------------------------------------------\u001b[0m",
      "\u001b[0;31mNameError\u001b[0m                                 Traceback (most recent call last)",
      "\u001b[0;32m<ipython-input-1-2f2f6b524e00>\u001b[0m in \u001b[0;36m<module>\u001b[0;34m\u001b[0m\n\u001b[0;32m----> 1\u001b[0;31m \u001b[0mfig\u001b[0m \u001b[0;34m=\u001b[0m \u001b[0mplt\u001b[0m\u001b[0;34m.\u001b[0m\u001b[0mfigure\u001b[0m\u001b[0;34m(\u001b[0m\u001b[0mfigsize\u001b[0m \u001b[0;34m=\u001b[0m \u001b[0;34m(\u001b[0m\u001b[0;36m10\u001b[0m\u001b[0;34m,\u001b[0m\u001b[0;36m4\u001b[0m\u001b[0;34m)\u001b[0m\u001b[0;34m)\u001b[0m\u001b[0;34m\u001b[0m\u001b[0;34m\u001b[0m\u001b[0m\n\u001b[0m\u001b[1;32m      2\u001b[0m \u001b[0max1\u001b[0m \u001b[0;34m=\u001b[0m \u001b[0mfig\u001b[0m\u001b[0;34m.\u001b[0m\u001b[0madd_subplot\u001b[0m\u001b[0;34m(\u001b[0m\u001b[0;36m111\u001b[0m\u001b[0;34m)\u001b[0m\u001b[0;34m\u001b[0m\u001b[0;34m\u001b[0m\u001b[0m\n\u001b[1;32m      3\u001b[0m \u001b[0max1\u001b[0m\u001b[0;34m.\u001b[0m\u001b[0mset_xlim\u001b[0m\u001b[0;34m(\u001b[0m\u001b[0;36m0\u001b[0m\u001b[0;34m,\u001b[0m \u001b[0;36m4\u001b[0m\u001b[0;34m)\u001b[0m\u001b[0;34m\u001b[0m\u001b[0;34m\u001b[0m\u001b[0m\n\u001b[1;32m      4\u001b[0m \u001b[0max1\u001b[0m\u001b[0;34m.\u001b[0m\u001b[0mset_ylim\u001b[0m\u001b[0;34m(\u001b[0m\u001b[0;34m-\u001b[0m\u001b[0;36m4\u001b[0m\u001b[0;34m,\u001b[0m \u001b[0;36m4\u001b[0m\u001b[0;34m)\u001b[0m\u001b[0;34m\u001b[0m\u001b[0;34m\u001b[0m\u001b[0m\n\u001b[1;32m      5\u001b[0m \u001b[0;34m\u001b[0m\u001b[0m\n",
      "\u001b[0;31mNameError\u001b[0m: name 'plt' is not defined"
     ]
    }
   ],
   "source": [
    "\n",
    "fig = plt.figure(figsize = (10,4))\n",
    "ax1 = fig.add_subplot(111)\n",
    "xlim = (-1,2, 1.2)\n",
    "ylim = (-1, 14)\n",
    "# ax1.set_xlim(-1.2, 1.2)\n",
    "# ax1.set_ylim(-1, 14)\n",
    "losses = []\n",
    "\n",
    "for e in range(epochs):\n",
    "\n",
    "    # Make model predictions\n",
    "    \n",
    "    # Calculate Loss\n",
    "    \n",
    "    \n",
    "#     print(f\"Parameters before update:\\n\\ta1: {m.a1.item()}\\tgrad: {m.a1.grad.item() if m.a1.grad else None}\\n\\ta2: {m.a2.item()}\\tgrad: {m.a2.grad.item() if m.a2.grad else None}\\n\\t\\n\\ta1: {m.a3.item()}\\tgrad: {m.a3.grad.item() if m.a3.grad else None}\")\n",
    "    print(f\"Parameters before update:\\n\\tm: {m.m.item()}\\tgrad: {m.m.grad.item() if m.m.grad else None}\\n\\ta2: {m.c.item()}\\tgrad: {m.c.grad.item() if m.c.grad else None}\")\n",
    "\n",
    "    # Backpropagate\n",
    "    \n",
    "    # Update Parameters (m = m - lr*(dL/dm))\n",
    "    \n",
    "#     print(f\"Parametrs after update:\\n\\ta1: {m.a1.item()}\\tgrad: {m.a1.grad.item() if m.a1.grad else None}\\n\\ta2: {m.a2.item()}\\tgrad: {m.a2.grad.item() if m.a2.grad else None}\\n\\t\\n\\ta1: {m.a3.item()}\\tgrad: {m.a3.grad.item() if m.a3.grad else None}\")\n",
    "    print(f\"Parameters before update:\\n\\tm: {m.m.item()}\\tgrad: {m.m.grad.item() if m.m.grad else None}\\n\\ta2: {m.c.item()}\\tgrad: {m.c.grad.item() if m.c.grad else None}\")\n",
    "    with torch.no_grad():\n",
    "        ax1.set_xlim(xlim[0], xlim[1])\n",
    "        ax1.set_ylim(ylim[0], ylim[1])\n",
    "\n",
    "        viz_all(model=m, inputs=X, outputs=Y, ax=ax1)\n",
    "        display.display(plt.gcf())\n",
    "\n",
    "        \n",
    "#     cmd = input('$: ')\n",
    "#     if cmd.lower().strip() in ['quit', 'q', 'exit', 'stop']:\n",
    "#         break\n",
    "\n",
    "    plt.cla()\n",
    "    display.clear_output(wait =True)\n",
    "    losses.append(loss.item())\n",
    "    \n",
    "    "
   ]
  },
  {
   "cell_type": "code",
   "execution_count": 21,
   "metadata": {
    "scrolled": true
   },
   "outputs": [
    {
     "data": {
      "text/plain": [
       "tensor(13.1134, grad_fn=<MseLossBackward0>)"
      ]
     },
     "execution_count": 21,
     "metadata": {},
     "output_type": "execute_result"
    }
   ],
   "source": [
    "plt.plot(losses)"
   ]
  }
 ],
 "metadata": {
  "kernelspec": {
   "display_name": "Python 3",
   "language": "python",
   "name": "python3"
  },
  "language_info": {
   "codemirror_mode": {
    "name": "ipython",
    "version": 3
   },
   "file_extension": ".py",
   "mimetype": "text/x-python",
   "name": "python",
   "nbconvert_exporter": "python",
   "pygments_lexer": "ipython3",
   "version": "3.8.5"
  }
 },
 "nbformat": 4,
 "nbformat_minor": 4
}
