{
 "cells": [
  {
   "cell_type": "markdown",
   "metadata": {},
   "source": [
    "# Session 3\n",
    "\n",
    "### Goals:\n",
    "\n",
    "1. Generalize previous codebase to multiple data points\n",
    "2. Introduce torch.nn Module\n",
    "3. Introduce optimizers\n",
    "4. Train a linear classifier\n",
    "5. Train a FFNN"
   ]
  },
  {
   "cell_type": "code",
   "execution_count": null,
   "metadata": {},
   "outputs": [],
   "source": [
    "from matplotlib import pyplot as plt\n",
    "import numpy as np\n",
    "from IPython import display\n",
    "\n",
    "import seaborn as sns\n",
    "import torch"
   ]
  },
  {
   "cell_type": "code",
   "execution_count": null,
   "metadata": {},
   "outputs": [],
   "source": [
    "torch.manual_seed(42)"
   ]
  },
  {
   "cell_type": "code",
   "execution_count": null,
   "metadata": {},
   "outputs": [],
   "source": [
    "def viz_1d(X, Y, title = None):\n",
    "    \n",
    "    if isinstance(Y, torch.Tensor):\n",
    "        Y = Y.detach()\n",
    "        \n",
    "    plt.figure(figsize=(14, 10))\n",
    "    if title:\n",
    "        plt.title(title)\n",
    "    plt.scatter(X, Y)\n",
    "    plt.show()\n",
    "\n",
    "def viz_pred(X, Y, Y_, title=None):\n",
    "    \n",
    "    if isinstance(Y_, torch.Tensor):\n",
    "        Y_ = Y_.detach()\n",
    "        \n",
    "    plt.figure(figsize=(14, 10))\n",
    "    if title:\n",
    "        plt.title(title)\n",
    "        \n",
    "    plt.plot(X, Y, 'o')\n",
    "    plt.plot(X, Y_, '+')\n",
    "#     plt.scatter(X, Y, color='red')\n",
    "    plt.show()\n",
    "    \n",
    "def viz_all(model, inputs,outputs= None, predictions= None,  ax=None ):\n",
    "    inputs_scale = (inputs.max()-inputs.min())/10.0\n",
    "    _X = torch.tensor(np.mgrid[inputs.min()-inputs_scale: inputs.max()+inputs_scale:0.1])\n",
    "    with torch.no_grad():\n",
    "        _Y = model(_X).detach()\n",
    "        \n",
    "    if ax is None: \n",
    "        fig = plt.figure(figsize=(14, 8), dpi=100)\n",
    "        ax = fig.add_subplot(111)\n",
    "        old_ax = False\n",
    "    else:\n",
    "        old_ax = True\n",
    "    \n",
    "    if outputs is not None:\n",
    "        ax.scatter(inputs, outputs,  c='b', marker=\"s\", label='Y Gold')\n",
    "    \n",
    "    if predictions is not None:\n",
    "        ax.scatter(inputs, predictions, c='r', marker='+', label='Y Pred')\n",
    "    \n",
    "    ax.plot(_X, _Y, label='model')\n",
    "    if not old_ax:\n",
    "        plt.legend(loc='upper left')\n",
    "        plt.show()\n",
    "    "
   ]
  },
  {
   "cell_type": "code",
   "execution_count": null,
   "metadata": {},
   "outputs": [],
   "source": [
    "# Make data (to train)\n"
   ]
  },
  {
   "cell_type": "code",
   "execution_count": null,
   "metadata": {},
   "outputs": [],
   "source": [
    "# Make a module class\n"
   ]
  },
  {
   "cell_type": "code",
   "execution_count": null,
   "metadata": {},
   "outputs": [],
   "source": [
    "# Make model and loss fn\n"
   ]
  },
  {
   "cell_type": "code",
   "execution_count": null,
   "metadata": {},
   "outputs": [],
   "source": [
    "# See model: parameters etc"
   ]
  },
  {
   "cell_type": "code",
   "execution_count": null,
   "metadata": {},
   "outputs": [],
   "source": [
    "# Make optimizer\n"
   ]
  },
  {
   "cell_type": "code",
   "execution_count": null,
   "metadata": {},
   "outputs": [],
   "source": [
    "# See optimizer: param groups, params etc"
   ]
  },
  {
   "cell_type": "code",
   "execution_count": null,
   "metadata": {
    "scrolled": false
   },
   "outputs": [],
   "source": [
    "# Ze loop \n",
    "\n",
    "fig = plt.figure(figsize = (10,4))\n",
    "ax1 = fig.add_subplot(111)\n",
    "ax1.set_xlim(0, 450)\n",
    "ax1.set_ylim(0, 1000)\n",
    "\n",
    "for e in range(epochs):\n",
    "#     \n",
    "    \n",
    "#     print(f\"Parameters before update:\\n\\tm: {m.m.item()}\\tgrad: {m.m.grad.item() if m.m.grad else None}\\n\\tc: {m.c.item()}\\tgrad: {m.c.grad.item() if m.c.grad else None}\")\n",
    "    \n",
    "    \n",
    "#     print(f\"Parametrs after update:\\n\\tm: {m.m.item()}\\tgrad: {m.m.grad.item()  if m.m.grad else None}\\n\\tc: {m.c.item()}\\tgrad: {m.c.grad.item() if m.c.grad else None}\")\n",
    "\n",
    "#     with torch.no_grad():\n",
    "#         viz_all(model=m, inputs=X, outputs=Y,ax=ax1)\n",
    "#         display.display(plt.gcf())\n",
    "\n",
    "        \n",
    "#     cmd = input('$: ')\n",
    "#     if cmd.lower().strip() in ['quit', 'q', 'exit', 'stop']:\n",
    "#         break\n",
    "#     elif cmd == 'viz':\n",
    "   \n",
    "        \n",
    "#     plt.cla()\n",
    "#     display.clear_output(wait =True)\n",
    "    ..."
   ]
  }
 ],
 "metadata": {
  "kernelspec": {
   "display_name": "Python 3",
   "language": "python",
   "name": "python3"
  },
  "language_info": {
   "codemirror_mode": {
    "name": "ipython",
    "version": 3
   },
   "file_extension": ".py",
   "mimetype": "text/x-python",
   "name": "python",
   "nbconvert_exporter": "python",
   "pygments_lexer": "ipython3",
   "version": "3.8.5"
  }
 },
 "nbformat": 4,
 "nbformat_minor": 4
}
