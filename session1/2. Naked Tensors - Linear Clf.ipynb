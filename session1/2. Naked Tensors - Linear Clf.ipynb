{
 "cells": [
  {
   "cell_type": "code",
   "execution_count": null,
   "metadata": {},
   "outputs": [],
   "source": [
    "import torch"
   ]
  },
  {
   "cell_type": "code",
   "execution_count": null,
   "metadata": {},
   "outputs": [],
   "source": [
    "torch.manual_seed(42)"
   ]
  },
  {
   "cell_type": "code",
   "execution_count": null,
   "metadata": {},
   "outputs": [],
   "source": [
    "# Only one data instance\n",
    "x = torch.tensor(10)\n",
    "y = torch.tensor(2)"
   ]
  },
  {
   "cell_type": "code",
   "execution_count": null,
   "metadata": {},
   "outputs": [],
   "source": [
    "# Simplest possible model?\n",
    "m = torch.randn(1, requires_grad=True)\n",
    "c = torch.randn(1, requires_grad=True)\n",
    "\n",
    "\n",
    "print(m, c)"
   ]
  },
  {
   "cell_type": "code",
   "execution_count": null,
   "metadata": {},
   "outputs": [],
   "source": [
    "fx = lambda x : (m*x) + c\n"
   ]
  },
  {
   "cell_type": "code",
   "execution_count": null,
   "metadata": {},
   "outputs": [],
   "source": [
    "def mse(y_pred, y_true):\n",
    "    return 0.5*(y_pred-y_true)**2"
   ]
  },
  {
   "cell_type": "code",
   "execution_count": null,
   "metadata": {},
   "outputs": [],
   "source": [
    "lr = 0.01"
   ]
  },
  {
   "cell_type": "markdown",
   "metadata": {},
   "source": [
    "# Running the entire thing\n",
    "\n",
    "Hint: press enter to continue. Input 'q' to stop.\n",
    "Play around with lr to see different things ;)"
   ]
  },
  {
   "cell_type": "code",
   "execution_count": null,
   "metadata": {},
   "outputs": [],
   "source": [
    "values_of_loss = []\n",
    "values_of_m = []\n",
    "values_of_c = []\n",
    "values_of_ypred = []\n",
    "\n",
    "for i in range(2000):\n",
    "    # Calcualte model predictions\n",
    "    y_pred = fx(x)\n",
    "    \n",
    "    \n",
    "    # Compare the prediction with our goal\n",
    "    loss = mse(y_pred, y)\n",
    "    print(f\"Loss: {loss}\\nTrue: {y}\\nPred: {y_pred.item()}\")\n",
    "    \n",
    "    # Reset the gradients before computing new ones\n",
    "    if m.grad:\n",
    "        m.grad.zero_()\n",
    "        c.grad.zero_()\n",
    "        \n",
    "    # Compute new gradients: BACKPROPAGATE\n",
    "    loss.backward()\n",
    "    \n",
    "    print(f\"Parameters before update:\\n\\tm: {m.item()}\\tgrad: {m.grad.item()}\\n\\tc: {c.item()}\\tgrad: {c.grad.item()}\")\n",
    "    with torch.no_grad():\n",
    "        m.copy_(m - (lr*m.grad))\n",
    "        c.copy_(m - (lr*m.grad))\n",
    "        \n",
    "        \n",
    "    print(f\"Parametrs after update:\\n\\tm: {m.item()}\\tgrad: {m.grad.item()  if c.grad else None}\\n\\tc: {c.item()}\\tgrad: {c.grad.item() if c.grad else None}\")\n",
    "\n",
    "    # Bookkeeping \n",
    "    values_of_ypred.append(y_pred.item())\n",
    "    values_of_m.append(m.item())\n",
    "    values_of_c.append(c.item())\n",
    "    values_of_loss.append(loss.item())\n",
    "\n",
    "    print('------', i, '------')\n",
    "    cmd = input().strip()\n",
    "    if cmd in ['q', 'exit', 'break']:\n",
    "        break\n",
    "    \n",
    "    if loss.item() == 0:\n",
    "        print('Model fully converged. Stopping.')\n",
    "        break"
   ]
  },
  {
   "cell_type": "code",
   "execution_count": null,
   "metadata": {},
   "outputs": [],
   "source": [
    "from matplotlib import pyplot as plt\n",
    "def plot_trace(list_of_vals, title: str=None):\n",
    "    plt.figure(figsize=(10, 6))\n",
    "    fig = plt.plot(list_of_vals)\n",
    "    plt.title(title)\n",
    "    \n",
    "plot_trace(values_of_loss, \"Loss\")\n",
    "plot_trace(values_of_ypred, \"y pred\")\n",
    "plot_trace(values_of_m, \"param: m\")\n",
    "plot_trace(values_of_c, \"param: c\")"
   ]
  }
 ],
 "metadata": {
  "kernelspec": {
   "display_name": "Python 3",
   "language": "python",
   "name": "python3"
  },
  "language_info": {
   "codemirror_mode": {
    "name": "ipython",
    "version": 3
   },
   "file_extension": ".py",
   "mimetype": "text/x-python",
   "name": "python",
   "nbconvert_exporter": "python",
   "pygments_lexer": "ipython3",
   "version": "3.8.5"
  }
 },
 "nbformat": 4,
 "nbformat_minor": 4
}
